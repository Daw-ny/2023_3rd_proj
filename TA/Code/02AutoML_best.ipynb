{
  "cells": [
    {
      "cell_type": "markdown",
      "metadata": {
        "id": "3x8lYC0B4TmP"
      },
      "source": [
        "Setting Data"
      ]
    },
    {
      "cell_type": "code",
      "execution_count": 51,
      "metadata": {
        "id": "Evs9qp-MV0Ek"
      },
      "outputs": [],
      "source": [
        "# load modules\n",
        "import numpy as np\n",
        "import pandas as pd\n",
        "import random\n",
        "import os\n",
        "import warnings\n",
        "\n",
        "# models \n",
        "from supervised.automl import AutoML\n",
        "\n",
        "# encoder\n",
        "from sklearn.preprocessing import OneHotEncoder\n",
        "from target_encoding import TargetEncoder\n",
        "\n",
        "# visualization\n",
        "import matplotlib\n",
        "import matplotlib.pyplot as plt\n",
        "\n",
        "# 경고 무시\n",
        "import warnings\n",
        "warnings.filterwarnings('ignore')\n",
        "\n",
        "%matplotlib inline"
      ]
    },
    {
      "cell_type": "code",
      "execution_count": 52,
      "metadata": {
        "id": "uXi1_cVQoCYE"
      },
      "outputs": [],
      "source": [
        "# 한글 깨짐 방지 및 warnings 알림 금지\n",
        "plt.rc('font', family='NanumSquare')\n",
        "warnings.filterwarnings(action = 'ignore')\n"
      ]
    },
    {
      "cell_type": "code",
      "execution_count": 53,
      "metadata": {},
      "outputs": [],
      "source": [
        "# random seed 고정하기\n",
        "def seed_everything(seed):\n",
        "    random.seed(seed)\n",
        "    os.environ['PYTHONHASHSEED'] = str(seed)\n",
        "    np.random.seed(seed)\n",
        "\n",
        "seed_everything(42) # Seed 고정"
      ]
    },
    {
      "cell_type": "code",
      "execution_count": 54,
      "metadata": {
        "id": "fxCbAj4_WVeA"
      },
      "outputs": [],
      "source": [
        "# load data\n",
        "# train = pd.read_csv('train_1.csv',encoding='cp949')\n",
        "# test = pd.read_csv('test_1.csv')"
      ]
    },
    {
      "cell_type": "code",
      "execution_count": 55,
      "metadata": {
        "id": "f3PAGVEg-X6V"
      },
      "outputs": [],
      "source": [
        "df_t=pd.read_csv('../Data/train_1.csv',encoding='cp949')\n",
        "df_te=pd.read_csv('../Data/test_1.csv',encoding='cp949')"
      ]
    },
    {
      "cell_type": "code",
      "execution_count": 56,
      "metadata": {
        "id": "QYML1hr4-r_I"
      },
      "outputs": [],
      "source": [
        "df_t['군'] = ''\n",
        "df_t['구'] = ''"
      ]
    },
    {
      "cell_type": "code",
      "execution_count": 57,
      "metadata": {
        "id": "aQW2CVi4-_7Q"
      },
      "outputs": [],
      "source": [
        "# 주소 분리 및 군과 구 열에 저장\n",
        "for i in range(0, len(df_t)):\n",
        "    address = df_t['시군구'][i]\n",
        "    elements = address.split(\" \")\n",
        "    if len(elements) == 3:\n",
        "        city = elements[0]\n",
        "        county = elements[1]\n",
        "        district = elements[2]\n",
        "        df_t.at[i, '군'] = county\n",
        "        df_t.at[i, '구'] = district\n",
        "    else:\n",
        "        print(f\"잘못된 주소 형식입니다: {address}\")"
      ]
    },
    {
      "cell_type": "code",
      "execution_count": 58,
      "metadata": {
        "id": "p5LI8pDgMa7u"
      },
      "outputs": [],
      "source": [
        "df_te['군'] = ''\n",
        "df_te['구'] = ''"
      ]
    },
    {
      "cell_type": "code",
      "execution_count": 59,
      "metadata": {
        "id": "URfhCcO7-8k_"
      },
      "outputs": [],
      "source": [
        "for i in range(0, len(df_te)):\n",
        "    address = df_te['시군구'][i]\n",
        "    elements = address.split(\" \")\n",
        "    if len(elements) == 3:\n",
        "        city = elements[0]\n",
        "        county = elements[1]\n",
        "        district = elements[2]\n",
        "        df_te.at[i, '군'] = county\n",
        "        df_te.at[i, '구'] = district\n",
        "    else:\n",
        "        print(f\"잘못된 주소 형식입니다: {address}\")"
      ]
    },
    {
      "cell_type": "code",
      "execution_count": 60,
      "metadata": {
        "id": "yLjUrTJ5-m1c"
      },
      "outputs": [],
      "source": [
        "# train_df와 test_df의 기상상태 및 노면상태 열 선택\n",
        "train_categorical_data = df_t[['군']]\n",
        "test_categorical_data = df_te[['군']]"
      ]
    },
    {
      "cell_type": "code",
      "execution_count": 61,
      "metadata": {
        "id": "JwvinUt7_LvT"
      },
      "outputs": [],
      "source": [
        "# OneHotEncoder 인스턴스 생성 및 fit_transform 수행\n",
        "encoder = OneHotEncoder()\n",
        "train_encoded = encoder.fit_transform(train_categorical_data)\n",
        "test_encoded = encoder.transform(test_categorical_data)"
      ]
    },
    {
      "cell_type": "code",
      "execution_count": 62,
      "metadata": {
        "id": "k4DxsU2A_Nfe"
      },
      "outputs": [],
      "source": [
        "# OneHotEncoder가 사용한 카테고리 목록을 가져와서 카테고리 이름을 열 이름으로 변환\n",
        "feature_names = encoder.get_feature_names_out(['군'])"
      ]
    },
    {
      "cell_type": "code",
      "execution_count": 63,
      "metadata": {
        "id": "lRomMPIv_QCT"
      },
      "outputs": [],
      "source": [
        "# 밀집 행렬로 변환 (선택 사항)\n",
        "train_encoded_dense = train_encoded.toarray()\n",
        "test_encoded_dense = test_encoded.toarray()"
      ]
    },
    {
      "cell_type": "code",
      "execution_count": 64,
      "metadata": {
        "id": "kuZdpugt_Tgv"
      },
      "outputs": [],
      "source": [
        "# 데이터프레임으로 변환 (선택 사항)\n",
        "train_encoded_df = pd.DataFrame(train_encoded_dense, columns=feature_names, index=df_t.index)\n",
        "test_encoded_df = pd.DataFrame(test_encoded_dense, columns=feature_names, index=df_te.index)"
      ]
    },
    {
      "cell_type": "code",
      "execution_count": 65,
      "metadata": {
        "id": "8uqBMr89_VlN"
      },
      "outputs": [],
      "source": [
        "# 기존 열 제거\n",
        "df_t = df_t.drop(['군'], axis=1)\n",
        "df_te = df_te.drop(['군'], axis=1)"
      ]
    },
    {
      "cell_type": "code",
      "execution_count": 66,
      "metadata": {
        "id": "UZzCfTq7_ay7"
      },
      "outputs": [],
      "source": [
        "# 인코딩된 열 추가\n",
        "df_t = pd.concat([df_t, train_encoded_df], axis=1)\n",
        "df_te = pd.concat([df_te, test_encoded_df], axis=1)"
      ]
    },
    {
      "cell_type": "code",
      "execution_count": 67,
      "metadata": {
        "colab": {
          "base_uri": "https://localhost:8080/",
          "height": 1000
        },
        "id": "iSl7xu3B_eQ7",
        "outputId": "11a640a2-3d34-44e9-a9c9-d8d9df0c8f29"
      },
      "outputs": [
        {
          "data": {
            "text/html": [
              "<div>\n",
              "<style scoped>\n",
              "    .dataframe tbody tr th:only-of-type {\n",
              "        vertical-align: middle;\n",
              "    }\n",
              "\n",
              "    .dataframe tbody tr th {\n",
              "        vertical-align: top;\n",
              "    }\n",
              "\n",
              "    .dataframe thead th {\n",
              "        text-align: right;\n",
              "    }\n",
              "</style>\n",
              "<table border=\"1\" class=\"dataframe\">\n",
              "  <thead>\n",
              "    <tr style=\"text-align: right;\">\n",
              "      <th></th>\n",
              "      <th>ID</th>\n",
              "      <th>사고일시</th>\n",
              "      <th>요일</th>\n",
              "      <th>기상상태</th>\n",
              "      <th>시군구</th>\n",
              "      <th>도로형태</th>\n",
              "      <th>노면상태</th>\n",
              "      <th>사고유형</th>\n",
              "      <th>사고유형 - 세부분류</th>\n",
              "      <th>법규위반</th>\n",
              "      <th>...</th>\n",
              "      <th>어린이보호구역개수</th>\n",
              "      <th>구</th>\n",
              "      <th>군_남구</th>\n",
              "      <th>군_달서구</th>\n",
              "      <th>군_달성군</th>\n",
              "      <th>군_동구</th>\n",
              "      <th>군_북구</th>\n",
              "      <th>군_서구</th>\n",
              "      <th>군_수성구</th>\n",
              "      <th>군_중구</th>\n",
              "    </tr>\n",
              "  </thead>\n",
              "  <tbody>\n",
              "    <tr>\n",
              "      <th>0</th>\n",
              "      <td>ACCIDENT_00000</td>\n",
              "      <td>2019-01-01 00</td>\n",
              "      <td>화요일</td>\n",
              "      <td>맑음</td>\n",
              "      <td>대구광역시 중구 대신동</td>\n",
              "      <td>단일로 - 기타</td>\n",
              "      <td>건조</td>\n",
              "      <td>차대사람</td>\n",
              "      <td>길가장자리구역통행중</td>\n",
              "      <td>안전운전불이행</td>\n",
              "      <td>...</td>\n",
              "      <td>2.0</td>\n",
              "      <td>대신동</td>\n",
              "      <td>0.0</td>\n",
              "      <td>0.0</td>\n",
              "      <td>0.0</td>\n",
              "      <td>0.0</td>\n",
              "      <td>0.0</td>\n",
              "      <td>0.0</td>\n",
              "      <td>0.0</td>\n",
              "      <td>1.0</td>\n",
              "    </tr>\n",
              "    <tr>\n",
              "      <th>1</th>\n",
              "      <td>ACCIDENT_00001</td>\n",
              "      <td>2019-01-01 00</td>\n",
              "      <td>화요일</td>\n",
              "      <td>흐림</td>\n",
              "      <td>대구광역시 달서구 감삼동</td>\n",
              "      <td>단일로 - 기타</td>\n",
              "      <td>건조</td>\n",
              "      <td>차대사람</td>\n",
              "      <td>보도통행중</td>\n",
              "      <td>기타</td>\n",
              "      <td>...</td>\n",
              "      <td>0.0</td>\n",
              "      <td>감삼동</td>\n",
              "      <td>0.0</td>\n",
              "      <td>1.0</td>\n",
              "      <td>0.0</td>\n",
              "      <td>0.0</td>\n",
              "      <td>0.0</td>\n",
              "      <td>0.0</td>\n",
              "      <td>0.0</td>\n",
              "      <td>0.0</td>\n",
              "    </tr>\n",
              "    <tr>\n",
              "      <th>2</th>\n",
              "      <td>ACCIDENT_00002</td>\n",
              "      <td>2019-01-01 01</td>\n",
              "      <td>화요일</td>\n",
              "      <td>맑음</td>\n",
              "      <td>대구광역시 수성구 두산동</td>\n",
              "      <td>단일로 - 기타</td>\n",
              "      <td>건조</td>\n",
              "      <td>차대사람</td>\n",
              "      <td>차도통행중</td>\n",
              "      <td>안전운전불이행</td>\n",
              "      <td>...</td>\n",
              "      <td>5.0</td>\n",
              "      <td>두산동</td>\n",
              "      <td>0.0</td>\n",
              "      <td>0.0</td>\n",
              "      <td>0.0</td>\n",
              "      <td>0.0</td>\n",
              "      <td>0.0</td>\n",
              "      <td>0.0</td>\n",
              "      <td>1.0</td>\n",
              "      <td>0.0</td>\n",
              "    </tr>\n",
              "    <tr>\n",
              "      <th>3</th>\n",
              "      <td>ACCIDENT_00003</td>\n",
              "      <td>2019-01-01 02</td>\n",
              "      <td>화요일</td>\n",
              "      <td>맑음</td>\n",
              "      <td>대구광역시 북구 복현동</td>\n",
              "      <td>단일로 - 기타</td>\n",
              "      <td>건조</td>\n",
              "      <td>차대차</td>\n",
              "      <td>추돌</td>\n",
              "      <td>안전운전불이행</td>\n",
              "      <td>...</td>\n",
              "      <td>11.0</td>\n",
              "      <td>복현동</td>\n",
              "      <td>0.0</td>\n",
              "      <td>0.0</td>\n",
              "      <td>0.0</td>\n",
              "      <td>0.0</td>\n",
              "      <td>1.0</td>\n",
              "      <td>0.0</td>\n",
              "      <td>0.0</td>\n",
              "      <td>0.0</td>\n",
              "    </tr>\n",
              "    <tr>\n",
              "      <th>4</th>\n",
              "      <td>ACCIDENT_00004</td>\n",
              "      <td>2019-01-01 04</td>\n",
              "      <td>화요일</td>\n",
              "      <td>맑음</td>\n",
              "      <td>대구광역시 동구 신암동</td>\n",
              "      <td>단일로 - 기타</td>\n",
              "      <td>건조</td>\n",
              "      <td>차대차</td>\n",
              "      <td>추돌</td>\n",
              "      <td>안전운전불이행</td>\n",
              "      <td>...</td>\n",
              "      <td>0.0</td>\n",
              "      <td>신암동</td>\n",
              "      <td>0.0</td>\n",
              "      <td>0.0</td>\n",
              "      <td>0.0</td>\n",
              "      <td>1.0</td>\n",
              "      <td>0.0</td>\n",
              "      <td>0.0</td>\n",
              "      <td>0.0</td>\n",
              "      <td>0.0</td>\n",
              "    </tr>\n",
              "    <tr>\n",
              "      <th>...</th>\n",
              "      <td>...</td>\n",
              "      <td>...</td>\n",
              "      <td>...</td>\n",
              "      <td>...</td>\n",
              "      <td>...</td>\n",
              "      <td>...</td>\n",
              "      <td>...</td>\n",
              "      <td>...</td>\n",
              "      <td>...</td>\n",
              "      <td>...</td>\n",
              "      <td>...</td>\n",
              "      <td>...</td>\n",
              "      <td>...</td>\n",
              "      <td>...</td>\n",
              "      <td>...</td>\n",
              "      <td>...</td>\n",
              "      <td>...</td>\n",
              "      <td>...</td>\n",
              "      <td>...</td>\n",
              "      <td>...</td>\n",
              "      <td>...</td>\n",
              "    </tr>\n",
              "    <tr>\n",
              "      <th>39604</th>\n",
              "      <td>ACCIDENT_39604</td>\n",
              "      <td>2021-12-31 19</td>\n",
              "      <td>금요일</td>\n",
              "      <td>맑음</td>\n",
              "      <td>대구광역시 수성구 수성동3가</td>\n",
              "      <td>교차로 - 교차로안</td>\n",
              "      <td>건조</td>\n",
              "      <td>차대차</td>\n",
              "      <td>측면충돌</td>\n",
              "      <td>신호위반</td>\n",
              "      <td>...</td>\n",
              "      <td>1.0</td>\n",
              "      <td>수성동3가</td>\n",
              "      <td>0.0</td>\n",
              "      <td>0.0</td>\n",
              "      <td>0.0</td>\n",
              "      <td>0.0</td>\n",
              "      <td>0.0</td>\n",
              "      <td>0.0</td>\n",
              "      <td>1.0</td>\n",
              "      <td>0.0</td>\n",
              "    </tr>\n",
              "    <tr>\n",
              "      <th>39605</th>\n",
              "      <td>ACCIDENT_39605</td>\n",
              "      <td>2021-12-31 19</td>\n",
              "      <td>금요일</td>\n",
              "      <td>맑음</td>\n",
              "      <td>대구광역시 달서구 상인동</td>\n",
              "      <td>단일로 - 기타</td>\n",
              "      <td>건조</td>\n",
              "      <td>차대차</td>\n",
              "      <td>측면충돌</td>\n",
              "      <td>안전거리미확보</td>\n",
              "      <td>...</td>\n",
              "      <td>0.0</td>\n",
              "      <td>상인동</td>\n",
              "      <td>0.0</td>\n",
              "      <td>1.0</td>\n",
              "      <td>0.0</td>\n",
              "      <td>0.0</td>\n",
              "      <td>0.0</td>\n",
              "      <td>0.0</td>\n",
              "      <td>0.0</td>\n",
              "      <td>0.0</td>\n",
              "    </tr>\n",
              "    <tr>\n",
              "      <th>39606</th>\n",
              "      <td>ACCIDENT_39606</td>\n",
              "      <td>2021-12-31 21</td>\n",
              "      <td>금요일</td>\n",
              "      <td>맑음</td>\n",
              "      <td>대구광역시 달서구 월성동</td>\n",
              "      <td>교차로 - 교차로안</td>\n",
              "      <td>건조</td>\n",
              "      <td>차대차</td>\n",
              "      <td>측면충돌</td>\n",
              "      <td>교차로운행방법위반</td>\n",
              "      <td>...</td>\n",
              "      <td>0.0</td>\n",
              "      <td>월성동</td>\n",
              "      <td>0.0</td>\n",
              "      <td>1.0</td>\n",
              "      <td>0.0</td>\n",
              "      <td>0.0</td>\n",
              "      <td>0.0</td>\n",
              "      <td>0.0</td>\n",
              "      <td>0.0</td>\n",
              "      <td>0.0</td>\n",
              "    </tr>\n",
              "    <tr>\n",
              "      <th>39607</th>\n",
              "      <td>ACCIDENT_39607</td>\n",
              "      <td>2021-12-31 22</td>\n",
              "      <td>금요일</td>\n",
              "      <td>맑음</td>\n",
              "      <td>대구광역시 달서구 장동</td>\n",
              "      <td>기타 - 기타</td>\n",
              "      <td>건조</td>\n",
              "      <td>차대차</td>\n",
              "      <td>추돌</td>\n",
              "      <td>안전운전불이행</td>\n",
              "      <td>...</td>\n",
              "      <td>0.0</td>\n",
              "      <td>장동</td>\n",
              "      <td>0.0</td>\n",
              "      <td>1.0</td>\n",
              "      <td>0.0</td>\n",
              "      <td>0.0</td>\n",
              "      <td>0.0</td>\n",
              "      <td>0.0</td>\n",
              "      <td>0.0</td>\n",
              "      <td>0.0</td>\n",
              "    </tr>\n",
              "    <tr>\n",
              "      <th>39608</th>\n",
              "      <td>ACCIDENT_39608</td>\n",
              "      <td>2021-12-31 23</td>\n",
              "      <td>금요일</td>\n",
              "      <td>맑음</td>\n",
              "      <td>대구광역시 서구 비산동</td>\n",
              "      <td>단일로 - 지하차도(도로)내</td>\n",
              "      <td>건조</td>\n",
              "      <td>차대차</td>\n",
              "      <td>측면충돌</td>\n",
              "      <td>안전운전불이행</td>\n",
              "      <td>...</td>\n",
              "      <td>19.0</td>\n",
              "      <td>비산동</td>\n",
              "      <td>0.0</td>\n",
              "      <td>0.0</td>\n",
              "      <td>0.0</td>\n",
              "      <td>0.0</td>\n",
              "      <td>0.0</td>\n",
              "      <td>1.0</td>\n",
              "      <td>0.0</td>\n",
              "      <td>0.0</td>\n",
              "    </tr>\n",
              "  </tbody>\n",
              "</table>\n",
              "<p>39609 rows × 39 columns</p>\n",
              "</div>"
            ],
            "text/plain": [
              "                   ID           사고일시   요일 기상상태              시군구  \\\n",
              "0      ACCIDENT_00000  2019-01-01 00  화요일   맑음     대구광역시 중구 대신동   \n",
              "1      ACCIDENT_00001  2019-01-01 00  화요일   흐림    대구광역시 달서구 감삼동   \n",
              "2      ACCIDENT_00002  2019-01-01 01  화요일   맑음    대구광역시 수성구 두산동   \n",
              "3      ACCIDENT_00003  2019-01-01 02  화요일   맑음     대구광역시 북구 복현동   \n",
              "4      ACCIDENT_00004  2019-01-01 04  화요일   맑음     대구광역시 동구 신암동   \n",
              "...               ...            ...  ...  ...              ...   \n",
              "39604  ACCIDENT_39604  2021-12-31 19  금요일   맑음  대구광역시 수성구 수성동3가   \n",
              "39605  ACCIDENT_39605  2021-12-31 19  금요일   맑음    대구광역시 달서구 상인동   \n",
              "39606  ACCIDENT_39606  2021-12-31 21  금요일   맑음    대구광역시 달서구 월성동   \n",
              "39607  ACCIDENT_39607  2021-12-31 22  금요일   맑음     대구광역시 달서구 장동   \n",
              "39608  ACCIDENT_39608  2021-12-31 23  금요일   맑음     대구광역시 서구 비산동   \n",
              "\n",
              "                  도로형태 노면상태  사고유형 사고유형 - 세부분류       법규위반  ... 어린이보호구역개수  \\\n",
              "0             단일로 - 기타   건조  차대사람  길가장자리구역통행중    안전운전불이행  ...       2.0   \n",
              "1             단일로 - 기타   건조  차대사람       보도통행중         기타  ...       0.0   \n",
              "2             단일로 - 기타   건조  차대사람       차도통행중    안전운전불이행  ...       5.0   \n",
              "3             단일로 - 기타   건조   차대차          추돌    안전운전불이행  ...      11.0   \n",
              "4             단일로 - 기타   건조   차대차          추돌    안전운전불이행  ...       0.0   \n",
              "...                ...  ...   ...         ...        ...  ...       ...   \n",
              "39604       교차로 - 교차로안   건조   차대차        측면충돌       신호위반  ...       1.0   \n",
              "39605         단일로 - 기타   건조   차대차        측면충돌    안전거리미확보  ...       0.0   \n",
              "39606       교차로 - 교차로안   건조   차대차        측면충돌  교차로운행방법위반  ...       0.0   \n",
              "39607          기타 - 기타   건조   차대차          추돌    안전운전불이행  ...       0.0   \n",
              "39608  단일로 - 지하차도(도로)내   건조   차대차        측면충돌    안전운전불이행  ...      19.0   \n",
              "\n",
              "           구 군_남구 군_달서구 군_달성군 군_동구 군_북구 군_서구  군_수성구  군_중구  \n",
              "0        대신동  0.0   0.0   0.0  0.0  0.0  0.0    0.0   1.0  \n",
              "1        감삼동  0.0   1.0   0.0  0.0  0.0  0.0    0.0   0.0  \n",
              "2        두산동  0.0   0.0   0.0  0.0  0.0  0.0    1.0   0.0  \n",
              "3        복현동  0.0   0.0   0.0  0.0  1.0  0.0    0.0   0.0  \n",
              "4        신암동  0.0   0.0   0.0  1.0  0.0  0.0    0.0   0.0  \n",
              "...      ...  ...   ...   ...  ...  ...  ...    ...   ...  \n",
              "39604  수성동3가  0.0   0.0   0.0  0.0  0.0  0.0    1.0   0.0  \n",
              "39605    상인동  0.0   1.0   0.0  0.0  0.0  0.0    0.0   0.0  \n",
              "39606    월성동  0.0   1.0   0.0  0.0  0.0  0.0    0.0   0.0  \n",
              "39607     장동  0.0   1.0   0.0  0.0  0.0  0.0    0.0   0.0  \n",
              "39608    비산동  0.0   0.0   0.0  0.0  0.0  1.0    0.0   0.0  \n",
              "\n",
              "[39609 rows x 39 columns]"
            ]
          },
          "execution_count": 67,
          "metadata": {},
          "output_type": "execute_result"
        }
      ],
      "source": [
        "df_t"
      ]
    },
    {
      "cell_type": "code",
      "execution_count": 68,
      "metadata": {
        "id": "CVU_-7iw_rpu"
      },
      "outputs": [],
      "source": [
        "accident_counts = df_t['시군구'].value_counts().reset_index()\n",
        "accident_counts.columns = ['시군구', '사고횟수']"
      ]
    },
    {
      "cell_type": "code",
      "execution_count": 69,
      "metadata": {
        "id": "miUs_XHn_u_T"
      },
      "outputs": [],
      "source": [
        "# '시군구'별 사고 횟수를 train_df에 매핑하기 위해 '시군구' 컬럼을 기준으로 사고 횟수를 가져옵니다.\n",
        "df_t['사고발생횟수'] = df_t['시군구'].map(accident_counts.set_index('시군구')['사고횟수'])"
      ]
    },
    {
      "cell_type": "code",
      "execution_count": 70,
      "metadata": {
        "id": "SmtzQTrh_x2d"
      },
      "outputs": [],
      "source": [
        "# '시군구'별 사고 횟수를 train_df에 매핑하기 위해 '시군구' 컬럼을 기준으로 사고 횟수를 가져옵니다.\n",
        "df_te['사고발생횟수'] = df_te['시군구'].map(accident_counts.set_index('시군구')['사고횟수'])"
      ]
    },
    {
      "cell_type": "code",
      "execution_count": 71,
      "metadata": {
        "id": "jmmJ8hE4_2I1"
      },
      "outputs": [],
      "source": [
        "# datetime 컬럼 처리\n",
        "df_t['사고일시'] = pd.to_datetime(df_t['사고일시'])\n",
        "df_te['사고일시'] = pd.to_datetime(df_te['사고일시'])\n",
        "\n",
        "# datetime을 여러 파생 변수로 변환\n",
        "for df in [df_t, df_te]:\n",
        "    df['year'] = df['사고일시'].dt.year\n",
        "    df['month'] = df['사고일시'].dt.month\n",
        "    df['day'] = df['사고일시'].dt.day\n",
        "    df['hour'] = df['사고일시'].dt.hour\n",
        "    df['weekday'] = df['사고일시'].dt.weekday"
      ]
    },
    {
      "cell_type": "code",
      "execution_count": 72,
      "metadata": {
        "id": "qPiKK4erALsm"
      },
      "outputs": [],
      "source": [
        "holi_weekday = ['2019-01-01', '2019-02-04', '2019-02-05', '2019-02-06', '2019-03-01', '2019-05-05', '2019-05-12', '2019-06-06', '2019-08-15', '2019-09-12', '2019-09-13', '2019-09-14', '2019-10-03', '2019-10-09', '2019-12-25',\n",
        "                '2020-01-01' ,'2020-01-24' ,'2020-01-25', '2020-01-26', '2020-03-01', '2020-04-30', '2020-05-05', '2020-06-06', '2020-08-15', '2020-08-17', '2020-09-30', '2020-10-01', '2020-10-02', '2020-10-03', '2020-10-09', '2020-12-25',\n",
        "                '2021-01-01' ,'2021-02-11' ,'2021-02-12', '2021-02-13', '2021-03-01', '2021-05-05', '2021-05-19', '2021-06-06', '2021-08-15', '2021-09-20', '2021-09-21', '2021-09-22', '2021-10-03', '2021-10-09', '2021-12-25',\n",
        "                '2022-01-01' ,'2022-01-31' ,'2022-02-01', '2022-02-02', '2022-03-01', '2022-05-05', '2022-05-08', '2022-06-06', '2022-08-15', '2022-09-09', '2022-09-10', '2022-09-11', '2022-09-12', '2022-10-03', '2022-10-09', '2020-10-10', '2022-12-25',\n",
        "                '2023-01-01' ,'2023-01-21' ,'2023-01-22', '2023-01-23', '2023-01-24', '2023-03-01']"
      ]
    },
    {
      "cell_type": "code",
      "execution_count": 73,
      "metadata": {
        "id": "NHJYTWAMAN56"
      },
      "outputs": [],
      "source": [
        "df_t['사고일시'] = pd.to_datetime(df_t['사고일시'])\n",
        "df_t['day_of_week'] = df_t['사고일시'].dt.dayofweek\n",
        "df_t['holiday'] = np.where((df_t.day_of_week >= 5) | (df_t.사고일시.dt.strftime('%Y-%m-%d').isin(holi_weekday)), 1, 0)"
      ]
    },
    {
      "cell_type": "code",
      "execution_count": 74,
      "metadata": {
        "id": "7MTYJFQcAlDO"
      },
      "outputs": [],
      "source": [
        "df_te['사고일시'] = pd.to_datetime(df_te['사고일시'])\n",
        "df_te['day_of_week'] = df_te['사고일시'].dt.dayofweek\n",
        "df_te['holiday'] = np.where((df_te.day_of_week >= 5) | (df_te.사고일시.dt.strftime('%Y-%m-%d').isin(holi_weekday)), 1, 0)"
      ]
    },
    {
      "cell_type": "code",
      "execution_count": 75,
      "metadata": {
        "id": "IsyQt--uAZjg"
      },
      "outputs": [],
      "source": [
        "df_t = df_t.drop(columns=['사고유형 - 세부분류','법규위반','가해운전자 차종','가해운전자 성별','가해운전자 연령',\n",
        "                               '가해운전자 상해정도','사망자수','사망자수','중상자수','피해운전자 차종','피해운전자 성별',\n",
        "                      '피해운전자 연령','피해운전자 상해정도','경상자수','부상자수','사고유형 - 세부분류'])"
      ]
    },
    {
      "cell_type": "code",
      "execution_count": 76,
      "metadata": {
        "id": "WwyJCP8zAyvd"
      },
      "outputs": [],
      "source": [
        "def group_season(df):\n",
        "    df.loc[(df['month'] == 3) | (df['month'] == 4) | (df['month'] == 5), 'season'] = '봄'\n",
        "    df.loc[(df['month'] == 6) | (df['month'] == 7) | (df['month'] == 8), 'season'] = '여름'\n",
        "    df.loc[(df['month'] == 9) | (df['month'] == 10) | (df['month'] == 11), 'season'] = '가을'\n",
        "    df.loc[(df['month'] == 12) | (df['month'] == 1) | (df['month'] == 2), 'season'] = '겨울'\n",
        "    return df['season']\n",
        "\n",
        "df_t['Cosine_Time'] = np.cos(2 * np.pi * df_t['hour'] / 24)\n",
        "df_te['Cosine_Time'] = np.cos(2 * np.pi * df_te['hour'] / 24)\n",
        "df_t['season'] = group_season(df_t)\n",
        "df_te['season'] = group_season(df_te)"
      ]
    },
    {
      "cell_type": "code",
      "execution_count": 78,
      "metadata": {
        "id": "LiVwAUGnBEgd"
      },
      "outputs": [],
      "source": [
        "target = df_t['ECLO']"
      ]
    },
    {
      "cell_type": "code",
      "execution_count": 79,
      "metadata": {
        "id": "JG4pmbjuBGuW"
      },
      "outputs": [],
      "source": [
        "df_t['ECLO'] = target"
      ]
    },
    {
      "cell_type": "code",
      "execution_count": 81,
      "metadata": {
        "colab": {
          "base_uri": "https://localhost:8080/"
        },
        "id": "U0tOsXMmBOOx",
        "outputId": "056a8509-efc5-4180-b1e0-168042d88804"
      },
      "outputs": [
        {
          "data": {
            "text/plain": [
              "Index(['ID', '사고일시', '요일', '기상상태', '시군구', '도로형태', '노면상태', '사고유형', 'ECLO',\n",
              "       '보호구역', '불법주정차', '차량전용', '평지도로', '설치개수', '주차장개수', '어린이보호구역개수', '구',\n",
              "       '군_남구', '군_달서구', '군_달성군', '군_동구', '군_북구', '군_서구', '군_수성구', '군_중구',\n",
              "       '사고발생횟수', 'year', 'month', 'day', 'hour', 'weekday', 'day_of_week',\n",
              "       'holiday', 'Cosine_Time', 'season'],\n",
              "      dtype='object')"
            ]
          },
          "execution_count": 81,
          "metadata": {},
          "output_type": "execute_result"
        }
      ],
      "source": [
        "df_t.columns\n"
      ]
    },
    {
      "cell_type": "code",
      "execution_count": 82,
      "metadata": {
        "colab": {
          "base_uri": "https://localhost:8080/"
        },
        "id": "N6uDjxnLBWf9",
        "outputId": "20b41a84-512b-44e4-bf61-06a608ac0f30"
      },
      "outputs": [
        {
          "data": {
            "text/plain": [
              "Index(['ID', '사고일시', '요일', '기상상태', '시군구', '도로형태', '노면상태', '사고유형', '보호구역',\n",
              "       '불법주정차', '차량전용', '평지도로', '설치개수', '주차장개수', '어린이보호구역개수', '구', '군_남구',\n",
              "       '군_달서구', '군_달성군', '군_동구', '군_북구', '군_서구', '군_수성구', '군_중구', '사고발생횟수',\n",
              "       'year', 'month', 'day', 'hour', 'weekday', 'day_of_week', 'holiday',\n",
              "       'Cosine_Time', 'season'],\n",
              "      dtype='object')"
            ]
          },
          "execution_count": 82,
          "metadata": {},
          "output_type": "execute_result"
        }
      ],
      "source": [
        "df_te.columns"
      ]
    },
    {
      "cell_type": "code",
      "execution_count": 83,
      "metadata": {
        "colab": {
          "base_uri": "https://localhost:8080/"
        },
        "id": "8VK0jPaVZFxK",
        "outputId": "2b6e2739-35fd-4271-a8c0-095a77a817e9"
      },
      "outputs": [
        {
          "name": "stdout",
          "output_type": "stream",
          "text": [
            "<class 'pandas.core.frame.DataFrame'>\n",
            "RangeIndex: 39609 entries, 0 to 39608\n",
            "Data columns (total 35 columns):\n",
            " #   Column       Non-Null Count  Dtype         \n",
            "---  ------       --------------  -----         \n",
            " 0   ID           39609 non-null  object        \n",
            " 1   사고일시         39609 non-null  datetime64[ns]\n",
            " 2   요일           39609 non-null  object        \n",
            " 3   기상상태         39609 non-null  object        \n",
            " 4   시군구          39609 non-null  object        \n",
            " 5   도로형태         39609 non-null  object        \n",
            " 6   노면상태         39609 non-null  object        \n",
            " 7   사고유형         39609 non-null  object        \n",
            " 8   ECLO         39609 non-null  int64         \n",
            " 9   보호구역         39609 non-null  float64       \n",
            " 10  불법주정차        39609 non-null  float64       \n",
            " 11  차량전용         39609 non-null  float64       \n",
            " 12  평지도로         39609 non-null  float64       \n",
            " 13  설치개수         39609 non-null  float64       \n",
            " 14  주차장개수        39609 non-null  float64       \n",
            " 15  어린이보호구역개수    39609 non-null  float64       \n",
            " 16  구            39609 non-null  object        \n",
            " 17  군_남구         39609 non-null  float64       \n",
            " 18  군_달서구        39609 non-null  float64       \n",
            " 19  군_달성군        39609 non-null  float64       \n",
            " 20  군_동구         39609 non-null  float64       \n",
            " 21  군_북구         39609 non-null  float64       \n",
            " 22  군_서구         39609 non-null  float64       \n",
            " 23  군_수성구        39609 non-null  float64       \n",
            " 24  군_중구         39609 non-null  float64       \n",
            " 25  사고발생횟수       39609 non-null  int64         \n",
            " 26  year         39609 non-null  int32         \n",
            " 27  month        39609 non-null  int32         \n",
            " 28  day          39609 non-null  int32         \n",
            " 29  hour         39609 non-null  int32         \n",
            " 30  weekday      39609 non-null  int32         \n",
            " 31  day_of_week  39609 non-null  int32         \n",
            " 32  holiday      39609 non-null  int32         \n",
            " 33  Cosine_Time  39609 non-null  float64       \n",
            " 34  season       39609 non-null  object        \n",
            "dtypes: datetime64[ns](1), float64(16), int32(7), int64(2), object(9)\n",
            "memory usage: 9.5+ MB\n"
          ]
        }
      ],
      "source": [
        "# null 값을 0으로 채우기\n",
        "df_t.fillna(0, inplace=True)\n",
        "df_t.info()"
      ]
    },
    {
      "cell_type": "code",
      "execution_count": 84,
      "metadata": {
        "colab": {
          "base_uri": "https://localhost:8080/"
        },
        "id": "oIRwkMUvZWgG",
        "outputId": "96d65117-b488-46b2-96da-9d4eba4fb7f4"
      },
      "outputs": [
        {
          "name": "stdout",
          "output_type": "stream",
          "text": [
            "<class 'pandas.core.frame.DataFrame'>\n",
            "RangeIndex: 10963 entries, 0 to 10962\n",
            "Data columns (total 34 columns):\n",
            " #   Column       Non-Null Count  Dtype         \n",
            "---  ------       --------------  -----         \n",
            " 0   ID           10963 non-null  object        \n",
            " 1   사고일시         10963 non-null  datetime64[ns]\n",
            " 2   요일           10963 non-null  object        \n",
            " 3   기상상태         10963 non-null  object        \n",
            " 4   시군구          10963 non-null  object        \n",
            " 5   도로형태         10963 non-null  object        \n",
            " 6   노면상태         10963 non-null  object        \n",
            " 7   사고유형         10963 non-null  object        \n",
            " 8   보호구역         10963 non-null  float64       \n",
            " 9   불법주정차        10963 non-null  float64       \n",
            " 10  차량전용         10963 non-null  float64       \n",
            " 11  평지도로         10963 non-null  float64       \n",
            " 12  설치개수         10963 non-null  float64       \n",
            " 13  주차장개수        10963 non-null  float64       \n",
            " 14  어린이보호구역개수    10963 non-null  float64       \n",
            " 15  구            10963 non-null  object        \n",
            " 16  군_남구         10963 non-null  float64       \n",
            " 17  군_달서구        10963 non-null  float64       \n",
            " 18  군_달성군        10963 non-null  float64       \n",
            " 19  군_동구         10963 non-null  float64       \n",
            " 20  군_북구         10963 non-null  float64       \n",
            " 21  군_서구         10963 non-null  float64       \n",
            " 22  군_수성구        10963 non-null  float64       \n",
            " 23  군_중구         10963 non-null  float64       \n",
            " 24  사고발생횟수       10963 non-null  int64         \n",
            " 25  year         10963 non-null  int32         \n",
            " 26  month        10963 non-null  int32         \n",
            " 27  day          10963 non-null  int32         \n",
            " 28  hour         10963 non-null  int32         \n",
            " 29  weekday      10963 non-null  int32         \n",
            " 30  day_of_week  10963 non-null  int32         \n",
            " 31  holiday      10963 non-null  int32         \n",
            " 32  Cosine_Time  10963 non-null  float64       \n",
            " 33  season       10963 non-null  object        \n",
            "dtypes: datetime64[ns](1), float64(16), int32(7), int64(1), object(9)\n",
            "memory usage: 2.6+ MB\n"
          ]
        }
      ],
      "source": [
        "# null 값을 0으로 채우기\n",
        "df_te.fillna(0, inplace=True)\n",
        "df_te.info()"
      ]
    },
    {
      "cell_type": "code",
      "execution_count": 85,
      "metadata": {
        "id": "OkuuEdamBViw"
      },
      "outputs": [],
      "source": [
        "test_x = df_te.drop(columns=['ID','year','month','day','hour','day_of_week','사고일시']).copy()\n",
        "train_x = df_t[test_x.columns].copy()\n",
        "train_y = np.log1p(df_t['ECLO'].copy())"
      ]
    },
    {
      "cell_type": "markdown",
      "metadata": {
        "id": "humajNLFVOGz"
      },
      "source": [
        "AUTOML"
      ]
    },
    {
      "cell_type": "code",
      "execution_count": 86,
      "metadata": {
        "id": "BmeJKd2kVNmO"
      },
      "outputs": [],
      "source": [
        "matplotlib.use('Agg')"
      ]
    },
    {
      "cell_type": "code",
      "execution_count": 87,
      "metadata": {
        "id": "ECYz8n5UVQeR"
      },
      "outputs": [],
      "source": [
        "automl = AutoML(mode=\"Compete\",\n",
        "                algorithms = ['Random Forest',\n",
        "                            'LightGBM',\n",
        "                            'Xgboost',\n",
        "                            'CatBoost'],\n",
        "                n_jobs = -1,\n",
        "                total_time_limit=43200,\n",
        "                eval_metric=\"rmse\", \n",
        "                ml_task = \"regression\",\n",
        "                results_path = '../Model/AutoML_rmse_best_log1p/',\n",
        "                explain_level=2)"
      ]
    },
    {
      "cell_type": "code",
      "execution_count": 89,
      "metadata": {
        "colab": {
          "base_uri": "https://localhost:8080/",
          "height": 1000
        },
        "id": "wpgVn65_VaZw",
        "outputId": "fcce0b40-f54b-4e51-c150-8f90d77fe7fc"
      },
      "outputs": [
        {
          "name": "stdout",
          "output_type": "stream",
          "text": [
            "AutoML directory: ../Model/AutoML_rmse_best_log1p/\n",
            "The task is regression with evaluation metric rmse\n",
            "AutoML will use algorithms: ['Random Forest', 'LightGBM', 'Xgboost', 'CatBoost']\n",
            "AutoML will stack models\n",
            "AutoML will ensemble available models\n",
            "AutoML steps: ['adjust_validation', 'simple_algorithms', 'default_algorithms', 'not_so_random', 'mix_encoding', 'golden_features', 'kmeans_features', 'insert_random_feature', 'features_selection', 'hill_climbing_1', 'hill_climbing_2', 'boost_on_errors', 'ensemble', 'stack', 'ensemble_stacked']\n",
            "* Step adjust_validation will try to check up to 1 model\n",
            "1_DecisionTree rmse 0.446727 trained in 32.35 seconds\n",
            "Adjust validation. Remove: 1_DecisionTree\n",
            "Validation strategy: 10-fold CV Shuffle\n",
            "Skip simple_algorithms because no parameters were generated.\n",
            "* Step default_algorithms will try to check up to 4 models\n",
            "1_Default_LightGBM rmse 0.445332 trained in 42.72 seconds\n",
            "2_Default_Xgboost rmse 0.445259 trained in 39.32 seconds\n",
            "3_Default_CatBoost rmse 0.444973 trained in 145.05 seconds\n",
            "4_Default_RandomForest rmse 0.446177 trained in 219.3 seconds\n",
            "* Step not_so_random will try to check up to 36 models\n",
            "14_LightGBM rmse 0.444774 trained in 39.71 seconds\n",
            "5_Xgboost rmse 0.446021 trained in 37.76 seconds\n",
            "23_CatBoost rmse 0.444857 trained in 265.92 seconds\n",
            "32_RandomForest rmse 0.446239 trained in 218.92 seconds\n",
            "15_LightGBM rmse 0.445794 trained in 32.81 seconds\n",
            "6_Xgboost rmse 0.446184 trained in 40.15 seconds\n",
            "24_CatBoost rmse 0.475312 trained in 361.43 seconds\n",
            "33_RandomForest rmse 0.446749 trained in 169.47 seconds\n",
            "16_LightGBM rmse 0.445187 trained in 34.22 seconds\n",
            "7_Xgboost rmse 0.445133 trained in 30.91 seconds\n",
            "25_CatBoost rmse 0.444873 trained in 167.13 seconds\n",
            "34_RandomForest rmse 0.445595 trained in 201.89 seconds\n",
            "17_LightGBM rmse 0.445599 trained in 35.53 seconds\n",
            "8_Xgboost rmse 0.445856 trained in 34.92 seconds\n",
            "26_CatBoost rmse 0.476015 trained in 192.47 seconds\n",
            "35_RandomForest rmse 0.445426 trained in 198.68 seconds\n",
            "18_LightGBM rmse 0.44573 trained in 28.11 seconds\n",
            "9_Xgboost rmse 0.444827 trained in 31.92 seconds\n",
            "27_CatBoost rmse 0.478221 trained in 259.4 seconds\n",
            "36_RandomForest rmse 0.445264 trained in 263.14 seconds\n",
            "19_LightGBM rmse 0.445498 trained in 39.06 seconds\n",
            "10_Xgboost rmse 0.444739 trained in 29.17 seconds\n",
            "28_CatBoost rmse 0.502276 trained in 274.71 seconds\n",
            "37_RandomForest rmse 0.445476 trained in 284.5 seconds\n",
            "20_LightGBM rmse 0.445149 trained in 34.57 seconds\n",
            "11_Xgboost rmse 0.445654 trained in 37.1 seconds\n",
            "29_CatBoost rmse 0.476588 trained in 721.54 seconds\n",
            "38_RandomForest rmse 0.446021 trained in 138.25 seconds\n",
            "21_LightGBM rmse 0.445341 trained in 28.1 seconds\n",
            "12_Xgboost rmse 0.445128 trained in 29.6 seconds\n",
            "30_CatBoost rmse 0.476079 trained in 351.14 seconds\n",
            "39_RandomForest rmse 0.446012 trained in 139.19 seconds\n",
            "22_LightGBM rmse 0.444848 trained in 35.58 seconds\n",
            "13_Xgboost rmse 0.445423 trained in 36.23 seconds\n",
            "31_CatBoost rmse 0.444924 trained in 330.05 seconds\n",
            "40_RandomForest rmse 0.445242 trained in 194.43 seconds\n",
            "* Step mix_encoding will try to check up to 1 model\n",
            "10_Xgboost_categorical_mix rmse 0.444697 trained in 44.05 seconds\n",
            "* Step golden_features will try to check up to 3 models\n",
            "None 10\n",
            "Add Golden Feature: holiday_ratio_weekday\n",
            "Add Golden Feature: 군_중구_diff_holiday\n",
            "Add Golden Feature: weekday_diff_holiday\n",
            "Add Golden Feature: 불법주정차_diff_weekday\n",
            "Add Golden Feature: weekday_sum_군_동구\n",
            "Add Golden Feature: weekday_sum_군_수성구\n",
            "Add Golden Feature: holiday_multiply_weekday\n",
            "Add Golden Feature: weekday_ratio_holiday\n",
            "Add Golden Feature: 군_남구_diff_weekday\n",
            "Add Golden Feature: 군_달성군_diff_holiday\n",
            "Created 10 Golden Features in 0.9 seconds.\n",
            "10_Xgboost_categorical_mix_GoldenFeatures rmse 0.44471 trained in 42.92 seconds\n",
            "10_Xgboost_GoldenFeatures rmse 0.444718 trained in 39.79 seconds\n",
            "14_LightGBM_GoldenFeatures rmse 0.444744 trained in 46.48 seconds\n",
            "* Step kmeans_features will try to check up to 3 models\n",
            "10_Xgboost_categorical_mix_KMeansFeatures rmse 0.444948 trained in 53.72 seconds\n",
            "10_Xgboost_KMeansFeatures rmse 0.444955 trained in 54.17 seconds\n",
            "14_LightGBM_KMeansFeatures rmse 0.444876 trained in 61.73 seconds\n",
            "* Step insert_random_feature will try to check up to 1 model\n",
            "10_Xgboost_categorical_mix_RandomFeature rmse 0.444776 trained in 39.12 seconds\n",
            "Drop features ['holiday', '도로형태_교차로 - 교차로안', '도로형태_기타 - 기타', '도로형태_단일로 - 터널', '주차장개수', '설치개수', 'random_feature', '구', '군_달성군', '도로형태_단일로 - 고가도로위', '사고유형_차량단독', '도로형태_주차장 - 주차장', '불법주정차', '도로형태_단일로 - 기타', '평지도로', '군_북구', '어린이보호구역개수', '노면상태_건조', '군_서구', '군_중구', 'season_겨울', '기상상태_비', 'season_봄', '요일_금요일', '요일_화요일', '노면상태_젖음/습기', '기상상태_맑음', '차량전용', '요일_토요일', '도로형태_단일로 - 지하차도(도로)내', '도로형태_교차로 - 교차로부근', '도로형태_단일로 - 교량', '군_남구', '군_동구', '군_달서구', '노면상태_서리/결빙', '노면상태_적설', '노면상태_침수', '기상상태_눈', '도로형태_미분류 - 미분류', '기상상태_안개', '노면상태_기타', '기상상태_기타', '군_수성구', '기상상태_흐림', 'season_여름', '요일_일요일', '요일_목요일', '요일_수요일', '요일_월요일', 'weekday', 'season_가을', '보호구역']\n",
            "* Step features_selection will try to check up to 4 models\n",
            "10_Xgboost_categorical_mix_SelectedFeatures rmse 0.446151 trained in 19.64 seconds\n",
            "14_LightGBM_GoldenFeatures_SelectedFeatures rmse 0.444711 trained in 31.69 seconds\n",
            "23_CatBoost_SelectedFeatures rmse 0.445534 trained in 159.84 seconds\n",
            "40_RandomForest_SelectedFeatures rmse 0.445582 trained in 119.48 seconds\n",
            "* Step hill_climbing_1 will try to check up to 19 models\n",
            "41_Xgboost rmse 0.444585 trained in 39.34 seconds\n",
            "42_Xgboost rmse 0.444782 trained in 37.9 seconds\n",
            "43_Xgboost_GoldenFeatures rmse 0.444836 trained in 42.93 seconds\n",
            "44_Xgboost_GoldenFeatures rmse 0.444707 trained in 42.78 seconds\n",
            "45_LightGBM_GoldenFeatures_SelectedFeatures rmse 0.444662 trained in 32.46 seconds\n",
            "46_Xgboost_GoldenFeatures rmse 0.444611 trained in 42.2 seconds\n",
            "47_Xgboost_GoldenFeatures rmse 0.444699 trained in 39.28 seconds\n",
            "48_LightGBM_GoldenFeatures rmse 0.444839 trained in 47.03 seconds\n",
            "49_LightGBM rmse 0.444807 trained in 36.78 seconds\n",
            "50_CatBoost rmse 0.444823 trained in 406.19 seconds\n",
            "51_CatBoost rmse 0.444875 trained in 153.48 seconds\n",
            "52_CatBoost rmse 0.444896 trained in 230.73 seconds\n",
            "53_CatBoost rmse 0.445021 trained in 108.7 seconds\n",
            "54_CatBoost rmse 0.445006 trained in 203.73 seconds\n",
            "55_RandomForest rmse 0.44528 trained in 290.73 seconds\n",
            "56_RandomForest rmse 0.445312 trained in 182.16 seconds\n",
            "57_RandomForest rmse 0.445275 trained in 288.26 seconds\n",
            "58_RandomForest rmse 0.445385 trained in 159.62 seconds\n",
            "59_RandomForest rmse 0.445454 trained in 271.6 seconds\n",
            "* Step hill_climbing_2 will try to check up to 16 models\n",
            "60_Xgboost rmse 0.444594 trained in 41.98 seconds\n",
            "61_Xgboost rmse 0.444666 trained in 38.09 seconds\n",
            "62_Xgboost_GoldenFeatures rmse 0.444715 trained in 43.33 seconds\n",
            "63_Xgboost_GoldenFeatures rmse 0.444778 trained in 43.15 seconds\n",
            "64_LightGBM_GoldenFeatures_SelectedFeatures rmse 0.444699 trained in 32.87 seconds\n",
            "65_Xgboost rmse 0.444623 trained in 41.67 seconds\n",
            "66_Xgboost rmse 0.444705 trained in 38.02 seconds\n",
            "67_LightGBM_GoldenFeatures_SelectedFeatures rmse 0.444767 trained in 32.45 seconds\n",
            "68_LightGBM_GoldenFeatures rmse 0.444801 trained in 49.75 seconds\n",
            "69_CatBoost rmse 0.444945 trained in 357.57 seconds\n",
            "70_CatBoost rmse 0.444867 trained in 423.94 seconds\n",
            "71_CatBoost rmse 0.444961 trained in 228.13 seconds\n",
            "72_CatBoost rmse 0.444929 trained in 262.86 seconds\n",
            "73_CatBoost rmse 0.444915 trained in 144.5 seconds\n",
            "74_CatBoost rmse 0.444894 trained in 177.23 seconds\n",
            "75_RandomForest rmse 0.445339 trained in 244.94 seconds\n",
            "* Step boost_on_errors will try to check up to 1 model\n",
            "41_Xgboost_BoostOnErrors rmse 0.444888 trained in 39.64 seconds\n",
            "* Step ensemble will try to check up to 1 model\n",
            "Ensemble rmse 0.444273 trained in 31.21 seconds\n",
            "* Step stack will try to check up to 40 models\n",
            "41_Xgboost_Stacked rmse 0.444943 trained in 59.38 seconds\n",
            "45_LightGBM_GoldenFeatures_SelectedFeatures_Stacked rmse 0.444782 trained in 39.65 seconds\n",
            "50_CatBoost_Stacked rmse 0.444629 trained in 208.05 seconds\n",
            "40_RandomForest_Stacked rmse 0.444542 trained in 813.27 seconds\n",
            "60_Xgboost_Stacked rmse 0.444864 trained in 60.7 seconds\n",
            "64_LightGBM_GoldenFeatures_SelectedFeatures_Stacked rmse 0.444967 trained in 42.45 seconds\n",
            "23_CatBoost_Stacked rmse 0.444639 trained in 157.34 seconds\n",
            "36_RandomForest_Stacked rmse 0.444598 trained in 1045.4 seconds\n",
            "46_Xgboost_GoldenFeatures_Stacked rmse 0.44487 trained in 48.8 seconds\n",
            "14_LightGBM_GoldenFeatures_SelectedFeatures_Stacked rmse 0.444839 trained in 40.56 seconds\n",
            "70_CatBoost_Stacked rmse 0.444647 trained in 260.11 seconds\n",
            "57_RandomForest_Stacked rmse 0.444631 trained in 1030.67 seconds\n",
            "65_Xgboost_Stacked rmse 0.444859 trained in 60.97 seconds\n",
            "14_LightGBM_GoldenFeatures_Stacked rmse 0.444815 trained in 51.24 seconds\n",
            "25_CatBoost_Stacked rmse 0.444698 trained in 104.13 seconds\n",
            "55_RandomForest_Stacked rmse 0.444662 trained in 894.66 seconds\n",
            "61_Xgboost_Stacked rmse 0.444864 trained in 59.63 seconds\n",
            "67_LightGBM_GoldenFeatures_SelectedFeatures_Stacked rmse 0.445013 trained in 45.64 seconds\n",
            "51_CatBoost_Stacked rmse 0.444677 trained in 126.41 seconds\n",
            "56_RandomForest_Stacked rmse 0.444529 trained in 823.81 seconds\n",
            "10_Xgboost_categorical_mix_Stacked rmse 0.4449 trained in 60.81 seconds\n",
            "14_LightGBM_Stacked rmse 0.444778 trained in 45.53 seconds\n",
            "74_CatBoost_Stacked rmse 0.444538 trained in 134.64 seconds\n",
            "75_RandomForest_Stacked rmse 0.44464 trained in 1312.8 seconds\n",
            "47_Xgboost_GoldenFeatures_Stacked rmse 0.444948 trained in 50.77 seconds\n",
            "68_LightGBM_GoldenFeatures_Stacked rmse 0.444906 trained in 53.54 seconds\n",
            "52_CatBoost_Stacked rmse 0.444597 trained in 138.43 seconds\n",
            "58_RandomForest_Stacked rmse 0.444663 trained in 873.83 seconds\n",
            "66_Xgboost_Stacked rmse 0.444814 trained in 59.92 seconds\n",
            "49_LightGBM_Stacked rmse 0.444848 trained in 44.93 seconds\n",
            "73_CatBoost_Stacked rmse 0.444539 trained in 89.12 seconds\n",
            "35_RandomForest_Stacked rmse 0.444656 trained in 897.25 seconds\n",
            "44_Xgboost_GoldenFeatures_Stacked rmse 0.444962 trained in 68.77 seconds\n",
            "48_LightGBM_GoldenFeatures_Stacked rmse 0.444791 trained in 51.31 seconds\n",
            "31_CatBoost_Stacked rmse 0.444627 trained in 179.41 seconds\n",
            "59_RandomForest_Stacked rmse 0.444608 trained in 928.0 seconds\n",
            "10_Xgboost_categorical_mix_GoldenFeatures_Stacked rmse 0.444851 trained in 69.23 seconds\n",
            "22_LightGBM_Stacked rmse 0.444822 trained in 46.86 seconds\n",
            "72_CatBoost_Stacked rmse 0.44467 trained in 186.55 seconds\n",
            "37_RandomForest_Stacked rmse 0.444661 trained in 1221.9 seconds\n",
            "* Step ensemble_stacked will try to check up to 1 model\n",
            "Ensemble_Stacked rmse 0.444218 trained in 64.06 seconds\n",
            "AutoML fit time: 24510.15 seconds\n",
            "AutoML best model: Ensemble_Stacked\n"
          ]
        },
        {
          "data": {
            "text/html": [
              "<style>#sk-container-id-1 {color: black;}#sk-container-id-1 pre{padding: 0;}#sk-container-id-1 div.sk-toggleable {background-color: white;}#sk-container-id-1 label.sk-toggleable__label {cursor: pointer;display: block;width: 100%;margin-bottom: 0;padding: 0.3em;box-sizing: border-box;text-align: center;}#sk-container-id-1 label.sk-toggleable__label-arrow:before {content: \"▸\";float: left;margin-right: 0.25em;color: #696969;}#sk-container-id-1 label.sk-toggleable__label-arrow:hover:before {color: black;}#sk-container-id-1 div.sk-estimator:hover label.sk-toggleable__label-arrow:before {color: black;}#sk-container-id-1 div.sk-toggleable__content {max-height: 0;max-width: 0;overflow: hidden;text-align: left;background-color: #f0f8ff;}#sk-container-id-1 div.sk-toggleable__content pre {margin: 0.2em;color: black;border-radius: 0.25em;background-color: #f0f8ff;}#sk-container-id-1 input.sk-toggleable__control:checked~div.sk-toggleable__content {max-height: 200px;max-width: 100%;overflow: auto;}#sk-container-id-1 input.sk-toggleable__control:checked~label.sk-toggleable__label-arrow:before {content: \"▾\";}#sk-container-id-1 div.sk-estimator input.sk-toggleable__control:checked~label.sk-toggleable__label {background-color: #d4ebff;}#sk-container-id-1 div.sk-label input.sk-toggleable__control:checked~label.sk-toggleable__label {background-color: #d4ebff;}#sk-container-id-1 input.sk-hidden--visually {border: 0;clip: rect(1px 1px 1px 1px);clip: rect(1px, 1px, 1px, 1px);height: 1px;margin: -1px;overflow: hidden;padding: 0;position: absolute;width: 1px;}#sk-container-id-1 div.sk-estimator {font-family: monospace;background-color: #f0f8ff;border: 1px dotted black;border-radius: 0.25em;box-sizing: border-box;margin-bottom: 0.5em;}#sk-container-id-1 div.sk-estimator:hover {background-color: #d4ebff;}#sk-container-id-1 div.sk-parallel-item::after {content: \"\";width: 100%;border-bottom: 1px solid gray;flex-grow: 1;}#sk-container-id-1 div.sk-label:hover label.sk-toggleable__label {background-color: #d4ebff;}#sk-container-id-1 div.sk-serial::before {content: \"\";position: absolute;border-left: 1px solid gray;box-sizing: border-box;top: 0;bottom: 0;left: 50%;z-index: 0;}#sk-container-id-1 div.sk-serial {display: flex;flex-direction: column;align-items: center;background-color: white;padding-right: 0.2em;padding-left: 0.2em;position: relative;}#sk-container-id-1 div.sk-item {position: relative;z-index: 1;}#sk-container-id-1 div.sk-parallel {display: flex;align-items: stretch;justify-content: center;background-color: white;position: relative;}#sk-container-id-1 div.sk-item::before, #sk-container-id-1 div.sk-parallel-item::before {content: \"\";position: absolute;border-left: 1px solid gray;box-sizing: border-box;top: 0;bottom: 0;left: 50%;z-index: -1;}#sk-container-id-1 div.sk-parallel-item {display: flex;flex-direction: column;z-index: 1;position: relative;background-color: white;}#sk-container-id-1 div.sk-parallel-item:first-child::after {align-self: flex-end;width: 50%;}#sk-container-id-1 div.sk-parallel-item:last-child::after {align-self: flex-start;width: 50%;}#sk-container-id-1 div.sk-parallel-item:only-child::after {width: 0;}#sk-container-id-1 div.sk-dashed-wrapped {border: 1px dashed gray;margin: 0 0.4em 0.5em 0.4em;box-sizing: border-box;padding-bottom: 0.4em;background-color: white;}#sk-container-id-1 div.sk-label label {font-family: monospace;font-weight: bold;display: inline-block;line-height: 1.2em;}#sk-container-id-1 div.sk-label-container {text-align: center;}#sk-container-id-1 div.sk-container {/* jupyter's `normalize.less` sets `[hidden] { display: none; }` but bootstrap.min.css set `[hidden] { display: none !important; }` so we also need the `!important` here to be able to override the default hidden behavior on the sphinx rendered scikit-learn.org. See: https://github.com/scikit-learn/scikit-learn/issues/21755 */display: inline-block !important;position: relative;}#sk-container-id-1 div.sk-text-repr-fallback {display: none;}</style><div id=\"sk-container-id-1\" class=\"sk-top-container\"><div class=\"sk-text-repr-fallback\"><pre>AutoML(algorithms=[&#x27;Random Forest&#x27;, &#x27;LightGBM&#x27;, &#x27;Xgboost&#x27;, &#x27;CatBoost&#x27;],\n",
              "       eval_metric=&#x27;rmse&#x27;, explain_level=2, ml_task=&#x27;regression&#x27;,\n",
              "       mode=&#x27;Compete&#x27;, results_path=&#x27;../Model/AutoML_rmse_best_log1p/&#x27;,\n",
              "       total_time_limit=43200)</pre><b>In a Jupyter environment, please rerun this cell to show the HTML representation or trust the notebook. <br />On GitHub, the HTML representation is unable to render, please try loading this page with nbviewer.org.</b></div><div class=\"sk-container\" hidden><div class=\"sk-item\"><div class=\"sk-estimator sk-toggleable\"><input class=\"sk-toggleable__control sk-hidden--visually\" id=\"sk-estimator-id-1\" type=\"checkbox\" checked><label for=\"sk-estimator-id-1\" class=\"sk-toggleable__label sk-toggleable__label-arrow\">AutoML</label><div class=\"sk-toggleable__content\"><pre>AutoML(algorithms=[&#x27;Random Forest&#x27;, &#x27;LightGBM&#x27;, &#x27;Xgboost&#x27;, &#x27;CatBoost&#x27;],\n",
              "       eval_metric=&#x27;rmse&#x27;, explain_level=2, ml_task=&#x27;regression&#x27;,\n",
              "       mode=&#x27;Compete&#x27;, results_path=&#x27;../Model/AutoML_rmse_best_log1p/&#x27;,\n",
              "       total_time_limit=43200)</pre></div></div></div></div></div>"
            ],
            "text/plain": [
              "AutoML(algorithms=['Random Forest', 'LightGBM', 'Xgboost', 'CatBoost'],\n",
              "       eval_metric='rmse', explain_level=2, ml_task='regression',\n",
              "       mode='Compete', results_path='../Model/AutoML_rmse_best_log1p/',\n",
              "       total_time_limit=43200)"
            ]
          },
          "execution_count": 89,
          "metadata": {},
          "output_type": "execute_result"
        }
      ],
      "source": [
        "automl.fit(train_x, train_y)"
      ]
    },
    {
      "cell_type": "code",
      "execution_count": 90,
      "metadata": {
        "id": "QI6_gHGPfD00"
      },
      "outputs": [],
      "source": [
        "pred = automl.predict(test_x)"
      ]
    },
    {
      "cell_type": "code",
      "execution_count": 91,
      "metadata": {
        "id": "0gDrV831fEoj"
      },
      "outputs": [],
      "source": [
        "submission = pd.read_csv('../Data/sample_submission.csv')"
      ]
    },
    {
      "cell_type": "code",
      "execution_count": 107,
      "metadata": {
        "id": "HkBgXVTDfF3_"
      },
      "outputs": [],
      "source": [
        "submission['ECLO'] = np.expm1(pred)"
      ]
    },
    {
      "cell_type": "code",
      "execution_count": 108,
      "metadata": {
        "id": "ceIpoHu7fIl8"
      },
      "outputs": [],
      "source": [
        "submission.loc[ submission['ECLO'] < 0.0, 'ECLO'] = 0.0"
      ]
    },
    {
      "cell_type": "code",
      "execution_count": 109,
      "metadata": {
        "colab": {
          "base_uri": "https://localhost:8080/"
        },
        "id": "BIwO3YeOfKnW",
        "outputId": "74dbd593-2b15-42ca-dada-0b56e69668ba"
      },
      "outputs": [
        {
          "data": {
            "text/plain": [
              "2.747193948121656"
            ]
          },
          "execution_count": 109,
          "metadata": {},
          "output_type": "execute_result"
        }
      ],
      "source": [
        "min(submission['ECLO'])"
      ]
    },
    {
      "cell_type": "code",
      "execution_count": 110,
      "metadata": {
        "id": "1Ir40zlffM38"
      },
      "outputs": [],
      "source": [
        "submission.to_csv('../Data/AutoML_best_model_log1p.csv', index=False)"
      ]
    }
  ],
  "metadata": {
    "colab": {
      "provenance": []
    },
    "kernelspec": {
      "display_name": "Python 3",
      "name": "python3"
    },
    "language_info": {
      "codemirror_mode": {
        "name": "ipython",
        "version": 3
      },
      "file_extension": ".py",
      "mimetype": "text/x-python",
      "name": "python",
      "nbconvert_exporter": "python",
      "pygments_lexer": "ipython3",
      "version": "3.8.17"
    }
  },
  "nbformat": 4,
  "nbformat_minor": 0
}
