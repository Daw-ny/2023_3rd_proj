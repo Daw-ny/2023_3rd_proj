{
  "cells": [
    {
      "cell_type": "markdown",
      "metadata": {
        "id": "3x8lYC0B4TmP"
      },
      "source": [
        "Setting Data"
      ]
    },
    {
      "cell_type": "code",
      "execution_count": 1,
      "metadata": {
        "id": "Evs9qp-MV0Ek"
      },
      "outputs": [
        {
          "name": "stderr",
          "output_type": "stream",
          "text": [
            "Using `tqdm.autonotebook.tqdm` in notebook mode. Use `tqdm.tqdm` instead to force console mode (e.g. in jupyter console)\n"
          ]
        }
      ],
      "source": [
        "# load modules\n",
        "import numpy as np\n",
        "import pandas as pd\n",
        "import random\n",
        "import os\n",
        "import warnings\n",
        "\n",
        "# models \n",
        "from supervised.automl import AutoML\n",
        "\n",
        "# encoder\n",
        "from sklearn.preprocessing import OneHotEncoder\n",
        "from target_encoding import TargetEncoder\n",
        "\n",
        "# visualization\n",
        "import matplotlib\n",
        "import matplotlib.pyplot as plt\n",
        "\n",
        "# 경고 무시\n",
        "import warnings\n",
        "warnings.filterwarnings('ignore')\n",
        "\n",
        "%matplotlib inline"
      ]
    },
    {
      "cell_type": "code",
      "execution_count": 2,
      "metadata": {
        "id": "uXi1_cVQoCYE"
      },
      "outputs": [],
      "source": [
        "# 한글 깨짐 방지 및 warnings 알림 금지\n",
        "plt.rc('font', family='NanumSquare')\n",
        "warnings.filterwarnings(action = 'ignore')\n"
      ]
    },
    {
      "cell_type": "code",
      "execution_count": 3,
      "metadata": {},
      "outputs": [],
      "source": [
        "# random seed 고정하기\n",
        "def seed_everything(seed):\n",
        "    random.seed(seed)\n",
        "    os.environ['PYTHONHASHSEED'] = str(seed)\n",
        "    np.random.seed(seed)\n",
        "\n",
        "seed_everything(42) # Seed 고정"
      ]
    },
    {
      "cell_type": "code",
      "execution_count": 4,
      "metadata": {
        "id": "fxCbAj4_WVeA"
      },
      "outputs": [],
      "source": [
        "# load data\n",
        "# train = pd.read_csv('train_1.csv',encoding='cp949')\n",
        "# test = pd.read_csv('test_1.csv')"
      ]
    },
    {
      "cell_type": "code",
      "execution_count": 5,
      "metadata": {
        "id": "f3PAGVEg-X6V"
      },
      "outputs": [],
      "source": [
        "df_t=pd.read_csv('../Data/train_1.csv',encoding='cp949')\n",
        "df_te=pd.read_csv('../Data/test_1.csv',encoding='cp949')"
      ]
    },
    {
      "cell_type": "code",
      "execution_count": 6,
      "metadata": {
        "id": "QYML1hr4-r_I"
      },
      "outputs": [],
      "source": [
        "df_t['군'] = ''\n",
        "df_t['구'] = ''"
      ]
    },
    {
      "cell_type": "code",
      "execution_count": 7,
      "metadata": {
        "id": "aQW2CVi4-_7Q"
      },
      "outputs": [],
      "source": [
        "# 주소 분리 및 군과 구 열에 저장\n",
        "for i in range(0, len(df_t)):\n",
        "    address = df_t['시군구'][i]\n",
        "    elements = address.split(\" \")\n",
        "    if len(elements) == 3:\n",
        "        city = elements[0]\n",
        "        county = elements[1]\n",
        "        district = elements[2]\n",
        "        df_t.at[i, '군'] = county\n",
        "        df_t.at[i, '구'] = district\n",
        "    else:\n",
        "        print(f\"잘못된 주소 형식입니다: {address}\")"
      ]
    },
    {
      "cell_type": "code",
      "execution_count": 8,
      "metadata": {
        "id": "p5LI8pDgMa7u"
      },
      "outputs": [],
      "source": [
        "df_te['군'] = ''\n",
        "df_te['구'] = ''"
      ]
    },
    {
      "cell_type": "code",
      "execution_count": 9,
      "metadata": {
        "id": "URfhCcO7-8k_"
      },
      "outputs": [],
      "source": [
        "for i in range(0, len(df_te)):\n",
        "    address = df_te['시군구'][i]\n",
        "    elements = address.split(\" \")\n",
        "    if len(elements) == 3:\n",
        "        city = elements[0]\n",
        "        county = elements[1]\n",
        "        district = elements[2]\n",
        "        df_te.at[i, '군'] = county\n",
        "        df_te.at[i, '구'] = district\n",
        "    else:\n",
        "        print(f\"잘못된 주소 형식입니다: {address}\")"
      ]
    },
    {
      "cell_type": "code",
      "execution_count": 10,
      "metadata": {
        "id": "yLjUrTJ5-m1c"
      },
      "outputs": [],
      "source": [
        "# train_df와 test_df의 기상상태 및 노면상태 열 선택\n",
        "train_categorical_data = df_t[['군']]\n",
        "test_categorical_data = df_te[['군']]"
      ]
    },
    {
      "cell_type": "code",
      "execution_count": 11,
      "metadata": {
        "id": "JwvinUt7_LvT"
      },
      "outputs": [],
      "source": [
        "# OneHotEncoder 인스턴스 생성 및 fit_transform 수행\n",
        "encoder = OneHotEncoder()\n",
        "train_encoded = encoder.fit_transform(train_categorical_data)\n",
        "test_encoded = encoder.transform(test_categorical_data)"
      ]
    },
    {
      "cell_type": "code",
      "execution_count": 12,
      "metadata": {
        "id": "k4DxsU2A_Nfe"
      },
      "outputs": [],
      "source": [
        "# OneHotEncoder가 사용한 카테고리 목록을 가져와서 카테고리 이름을 열 이름으로 변환\n",
        "feature_names = encoder.get_feature_names_out(['군'])"
      ]
    },
    {
      "cell_type": "code",
      "execution_count": 13,
      "metadata": {
        "id": "lRomMPIv_QCT"
      },
      "outputs": [],
      "source": [
        "# 밀집 행렬로 변환 (선택 사항)\n",
        "train_encoded_dense = train_encoded.toarray()\n",
        "test_encoded_dense = test_encoded.toarray()"
      ]
    },
    {
      "cell_type": "code",
      "execution_count": 14,
      "metadata": {
        "id": "kuZdpugt_Tgv"
      },
      "outputs": [],
      "source": [
        "# 데이터프레임으로 변환 (선택 사항)\n",
        "train_encoded_df = pd.DataFrame(train_encoded_dense, columns=feature_names, index=df_t.index)\n",
        "test_encoded_df = pd.DataFrame(test_encoded_dense, columns=feature_names, index=df_te.index)"
      ]
    },
    {
      "cell_type": "code",
      "execution_count": 15,
      "metadata": {
        "id": "8uqBMr89_VlN"
      },
      "outputs": [],
      "source": [
        "# 기존 열 제거\n",
        "df_t = df_t.drop(['군'], axis=1)\n",
        "df_te = df_te.drop(['군'], axis=1)"
      ]
    },
    {
      "cell_type": "code",
      "execution_count": 16,
      "metadata": {
        "id": "UZzCfTq7_ay7"
      },
      "outputs": [],
      "source": [
        "# 인코딩된 열 추가\n",
        "df_t = pd.concat([df_t, train_encoded_df], axis=1)\n",
        "df_te = pd.concat([df_te, test_encoded_df], axis=1)"
      ]
    },
    {
      "cell_type": "code",
      "execution_count": 17,
      "metadata": {
        "colab": {
          "base_uri": "https://localhost:8080/",
          "height": 1000
        },
        "id": "iSl7xu3B_eQ7",
        "outputId": "11a640a2-3d34-44e9-a9c9-d8d9df0c8f29"
      },
      "outputs": [
        {
          "data": {
            "text/html": [
              "<div>\n",
              "<style scoped>\n",
              "    .dataframe tbody tr th:only-of-type {\n",
              "        vertical-align: middle;\n",
              "    }\n",
              "\n",
              "    .dataframe tbody tr th {\n",
              "        vertical-align: top;\n",
              "    }\n",
              "\n",
              "    .dataframe thead th {\n",
              "        text-align: right;\n",
              "    }\n",
              "</style>\n",
              "<table border=\"1\" class=\"dataframe\">\n",
              "  <thead>\n",
              "    <tr style=\"text-align: right;\">\n",
              "      <th></th>\n",
              "      <th>ID</th>\n",
              "      <th>사고일시</th>\n",
              "      <th>요일</th>\n",
              "      <th>기상상태</th>\n",
              "      <th>시군구</th>\n",
              "      <th>도로형태</th>\n",
              "      <th>노면상태</th>\n",
              "      <th>사고유형</th>\n",
              "      <th>사고유형 - 세부분류</th>\n",
              "      <th>법규위반</th>\n",
              "      <th>...</th>\n",
              "      <th>어린이보호구역개수</th>\n",
              "      <th>구</th>\n",
              "      <th>군_남구</th>\n",
              "      <th>군_달서구</th>\n",
              "      <th>군_달성군</th>\n",
              "      <th>군_동구</th>\n",
              "      <th>군_북구</th>\n",
              "      <th>군_서구</th>\n",
              "      <th>군_수성구</th>\n",
              "      <th>군_중구</th>\n",
              "    </tr>\n",
              "  </thead>\n",
              "  <tbody>\n",
              "    <tr>\n",
              "      <th>0</th>\n",
              "      <td>ACCIDENT_00000</td>\n",
              "      <td>2019-01-01 00</td>\n",
              "      <td>화요일</td>\n",
              "      <td>맑음</td>\n",
              "      <td>대구광역시 중구 대신동</td>\n",
              "      <td>단일로 - 기타</td>\n",
              "      <td>건조</td>\n",
              "      <td>차대사람</td>\n",
              "      <td>길가장자리구역통행중</td>\n",
              "      <td>안전운전불이행</td>\n",
              "      <td>...</td>\n",
              "      <td>2.0</td>\n",
              "      <td>대신동</td>\n",
              "      <td>0.0</td>\n",
              "      <td>0.0</td>\n",
              "      <td>0.0</td>\n",
              "      <td>0.0</td>\n",
              "      <td>0.0</td>\n",
              "      <td>0.0</td>\n",
              "      <td>0.0</td>\n",
              "      <td>1.0</td>\n",
              "    </tr>\n",
              "    <tr>\n",
              "      <th>1</th>\n",
              "      <td>ACCIDENT_00001</td>\n",
              "      <td>2019-01-01 00</td>\n",
              "      <td>화요일</td>\n",
              "      <td>흐림</td>\n",
              "      <td>대구광역시 달서구 감삼동</td>\n",
              "      <td>단일로 - 기타</td>\n",
              "      <td>건조</td>\n",
              "      <td>차대사람</td>\n",
              "      <td>보도통행중</td>\n",
              "      <td>기타</td>\n",
              "      <td>...</td>\n",
              "      <td>0.0</td>\n",
              "      <td>감삼동</td>\n",
              "      <td>0.0</td>\n",
              "      <td>1.0</td>\n",
              "      <td>0.0</td>\n",
              "      <td>0.0</td>\n",
              "      <td>0.0</td>\n",
              "      <td>0.0</td>\n",
              "      <td>0.0</td>\n",
              "      <td>0.0</td>\n",
              "    </tr>\n",
              "    <tr>\n",
              "      <th>2</th>\n",
              "      <td>ACCIDENT_00002</td>\n",
              "      <td>2019-01-01 01</td>\n",
              "      <td>화요일</td>\n",
              "      <td>맑음</td>\n",
              "      <td>대구광역시 수성구 두산동</td>\n",
              "      <td>단일로 - 기타</td>\n",
              "      <td>건조</td>\n",
              "      <td>차대사람</td>\n",
              "      <td>차도통행중</td>\n",
              "      <td>안전운전불이행</td>\n",
              "      <td>...</td>\n",
              "      <td>5.0</td>\n",
              "      <td>두산동</td>\n",
              "      <td>0.0</td>\n",
              "      <td>0.0</td>\n",
              "      <td>0.0</td>\n",
              "      <td>0.0</td>\n",
              "      <td>0.0</td>\n",
              "      <td>0.0</td>\n",
              "      <td>1.0</td>\n",
              "      <td>0.0</td>\n",
              "    </tr>\n",
              "    <tr>\n",
              "      <th>3</th>\n",
              "      <td>ACCIDENT_00003</td>\n",
              "      <td>2019-01-01 02</td>\n",
              "      <td>화요일</td>\n",
              "      <td>맑음</td>\n",
              "      <td>대구광역시 북구 복현동</td>\n",
              "      <td>단일로 - 기타</td>\n",
              "      <td>건조</td>\n",
              "      <td>차대차</td>\n",
              "      <td>추돌</td>\n",
              "      <td>안전운전불이행</td>\n",
              "      <td>...</td>\n",
              "      <td>11.0</td>\n",
              "      <td>복현동</td>\n",
              "      <td>0.0</td>\n",
              "      <td>0.0</td>\n",
              "      <td>0.0</td>\n",
              "      <td>0.0</td>\n",
              "      <td>1.0</td>\n",
              "      <td>0.0</td>\n",
              "      <td>0.0</td>\n",
              "      <td>0.0</td>\n",
              "    </tr>\n",
              "    <tr>\n",
              "      <th>4</th>\n",
              "      <td>ACCIDENT_00004</td>\n",
              "      <td>2019-01-01 04</td>\n",
              "      <td>화요일</td>\n",
              "      <td>맑음</td>\n",
              "      <td>대구광역시 동구 신암동</td>\n",
              "      <td>단일로 - 기타</td>\n",
              "      <td>건조</td>\n",
              "      <td>차대차</td>\n",
              "      <td>추돌</td>\n",
              "      <td>안전운전불이행</td>\n",
              "      <td>...</td>\n",
              "      <td>0.0</td>\n",
              "      <td>신암동</td>\n",
              "      <td>0.0</td>\n",
              "      <td>0.0</td>\n",
              "      <td>0.0</td>\n",
              "      <td>1.0</td>\n",
              "      <td>0.0</td>\n",
              "      <td>0.0</td>\n",
              "      <td>0.0</td>\n",
              "      <td>0.0</td>\n",
              "    </tr>\n",
              "    <tr>\n",
              "      <th>...</th>\n",
              "      <td>...</td>\n",
              "      <td>...</td>\n",
              "      <td>...</td>\n",
              "      <td>...</td>\n",
              "      <td>...</td>\n",
              "      <td>...</td>\n",
              "      <td>...</td>\n",
              "      <td>...</td>\n",
              "      <td>...</td>\n",
              "      <td>...</td>\n",
              "      <td>...</td>\n",
              "      <td>...</td>\n",
              "      <td>...</td>\n",
              "      <td>...</td>\n",
              "      <td>...</td>\n",
              "      <td>...</td>\n",
              "      <td>...</td>\n",
              "      <td>...</td>\n",
              "      <td>...</td>\n",
              "      <td>...</td>\n",
              "      <td>...</td>\n",
              "    </tr>\n",
              "    <tr>\n",
              "      <th>39604</th>\n",
              "      <td>ACCIDENT_39604</td>\n",
              "      <td>2021-12-31 19</td>\n",
              "      <td>금요일</td>\n",
              "      <td>맑음</td>\n",
              "      <td>대구광역시 수성구 수성동3가</td>\n",
              "      <td>교차로 - 교차로안</td>\n",
              "      <td>건조</td>\n",
              "      <td>차대차</td>\n",
              "      <td>측면충돌</td>\n",
              "      <td>신호위반</td>\n",
              "      <td>...</td>\n",
              "      <td>1.0</td>\n",
              "      <td>수성동3가</td>\n",
              "      <td>0.0</td>\n",
              "      <td>0.0</td>\n",
              "      <td>0.0</td>\n",
              "      <td>0.0</td>\n",
              "      <td>0.0</td>\n",
              "      <td>0.0</td>\n",
              "      <td>1.0</td>\n",
              "      <td>0.0</td>\n",
              "    </tr>\n",
              "    <tr>\n",
              "      <th>39605</th>\n",
              "      <td>ACCIDENT_39605</td>\n",
              "      <td>2021-12-31 19</td>\n",
              "      <td>금요일</td>\n",
              "      <td>맑음</td>\n",
              "      <td>대구광역시 달서구 상인동</td>\n",
              "      <td>단일로 - 기타</td>\n",
              "      <td>건조</td>\n",
              "      <td>차대차</td>\n",
              "      <td>측면충돌</td>\n",
              "      <td>안전거리미확보</td>\n",
              "      <td>...</td>\n",
              "      <td>0.0</td>\n",
              "      <td>상인동</td>\n",
              "      <td>0.0</td>\n",
              "      <td>1.0</td>\n",
              "      <td>0.0</td>\n",
              "      <td>0.0</td>\n",
              "      <td>0.0</td>\n",
              "      <td>0.0</td>\n",
              "      <td>0.0</td>\n",
              "      <td>0.0</td>\n",
              "    </tr>\n",
              "    <tr>\n",
              "      <th>39606</th>\n",
              "      <td>ACCIDENT_39606</td>\n",
              "      <td>2021-12-31 21</td>\n",
              "      <td>금요일</td>\n",
              "      <td>맑음</td>\n",
              "      <td>대구광역시 달서구 월성동</td>\n",
              "      <td>교차로 - 교차로안</td>\n",
              "      <td>건조</td>\n",
              "      <td>차대차</td>\n",
              "      <td>측면충돌</td>\n",
              "      <td>교차로운행방법위반</td>\n",
              "      <td>...</td>\n",
              "      <td>0.0</td>\n",
              "      <td>월성동</td>\n",
              "      <td>0.0</td>\n",
              "      <td>1.0</td>\n",
              "      <td>0.0</td>\n",
              "      <td>0.0</td>\n",
              "      <td>0.0</td>\n",
              "      <td>0.0</td>\n",
              "      <td>0.0</td>\n",
              "      <td>0.0</td>\n",
              "    </tr>\n",
              "    <tr>\n",
              "      <th>39607</th>\n",
              "      <td>ACCIDENT_39607</td>\n",
              "      <td>2021-12-31 22</td>\n",
              "      <td>금요일</td>\n",
              "      <td>맑음</td>\n",
              "      <td>대구광역시 달서구 장동</td>\n",
              "      <td>기타 - 기타</td>\n",
              "      <td>건조</td>\n",
              "      <td>차대차</td>\n",
              "      <td>추돌</td>\n",
              "      <td>안전운전불이행</td>\n",
              "      <td>...</td>\n",
              "      <td>0.0</td>\n",
              "      <td>장동</td>\n",
              "      <td>0.0</td>\n",
              "      <td>1.0</td>\n",
              "      <td>0.0</td>\n",
              "      <td>0.0</td>\n",
              "      <td>0.0</td>\n",
              "      <td>0.0</td>\n",
              "      <td>0.0</td>\n",
              "      <td>0.0</td>\n",
              "    </tr>\n",
              "    <tr>\n",
              "      <th>39608</th>\n",
              "      <td>ACCIDENT_39608</td>\n",
              "      <td>2021-12-31 23</td>\n",
              "      <td>금요일</td>\n",
              "      <td>맑음</td>\n",
              "      <td>대구광역시 서구 비산동</td>\n",
              "      <td>단일로 - 지하차도(도로)내</td>\n",
              "      <td>건조</td>\n",
              "      <td>차대차</td>\n",
              "      <td>측면충돌</td>\n",
              "      <td>안전운전불이행</td>\n",
              "      <td>...</td>\n",
              "      <td>19.0</td>\n",
              "      <td>비산동</td>\n",
              "      <td>0.0</td>\n",
              "      <td>0.0</td>\n",
              "      <td>0.0</td>\n",
              "      <td>0.0</td>\n",
              "      <td>0.0</td>\n",
              "      <td>1.0</td>\n",
              "      <td>0.0</td>\n",
              "      <td>0.0</td>\n",
              "    </tr>\n",
              "  </tbody>\n",
              "</table>\n",
              "<p>39609 rows × 39 columns</p>\n",
              "</div>"
            ],
            "text/plain": [
              "                   ID           사고일시   요일 기상상태              시군구  \\\n",
              "0      ACCIDENT_00000  2019-01-01 00  화요일   맑음     대구광역시 중구 대신동   \n",
              "1      ACCIDENT_00001  2019-01-01 00  화요일   흐림    대구광역시 달서구 감삼동   \n",
              "2      ACCIDENT_00002  2019-01-01 01  화요일   맑음    대구광역시 수성구 두산동   \n",
              "3      ACCIDENT_00003  2019-01-01 02  화요일   맑음     대구광역시 북구 복현동   \n",
              "4      ACCIDENT_00004  2019-01-01 04  화요일   맑음     대구광역시 동구 신암동   \n",
              "...               ...            ...  ...  ...              ...   \n",
              "39604  ACCIDENT_39604  2021-12-31 19  금요일   맑음  대구광역시 수성구 수성동3가   \n",
              "39605  ACCIDENT_39605  2021-12-31 19  금요일   맑음    대구광역시 달서구 상인동   \n",
              "39606  ACCIDENT_39606  2021-12-31 21  금요일   맑음    대구광역시 달서구 월성동   \n",
              "39607  ACCIDENT_39607  2021-12-31 22  금요일   맑음     대구광역시 달서구 장동   \n",
              "39608  ACCIDENT_39608  2021-12-31 23  금요일   맑음     대구광역시 서구 비산동   \n",
              "\n",
              "                  도로형태 노면상태  사고유형 사고유형 - 세부분류       법규위반  ... 어린이보호구역개수  \\\n",
              "0             단일로 - 기타   건조  차대사람  길가장자리구역통행중    안전운전불이행  ...       2.0   \n",
              "1             단일로 - 기타   건조  차대사람       보도통행중         기타  ...       0.0   \n",
              "2             단일로 - 기타   건조  차대사람       차도통행중    안전운전불이행  ...       5.0   \n",
              "3             단일로 - 기타   건조   차대차          추돌    안전운전불이행  ...      11.0   \n",
              "4             단일로 - 기타   건조   차대차          추돌    안전운전불이행  ...       0.0   \n",
              "...                ...  ...   ...         ...        ...  ...       ...   \n",
              "39604       교차로 - 교차로안   건조   차대차        측면충돌       신호위반  ...       1.0   \n",
              "39605         단일로 - 기타   건조   차대차        측면충돌    안전거리미확보  ...       0.0   \n",
              "39606       교차로 - 교차로안   건조   차대차        측면충돌  교차로운행방법위반  ...       0.0   \n",
              "39607          기타 - 기타   건조   차대차          추돌    안전운전불이행  ...       0.0   \n",
              "39608  단일로 - 지하차도(도로)내   건조   차대차        측면충돌    안전운전불이행  ...      19.0   \n",
              "\n",
              "           구 군_남구 군_달서구 군_달성군 군_동구 군_북구 군_서구  군_수성구  군_중구  \n",
              "0        대신동  0.0   0.0   0.0  0.0  0.0  0.0    0.0   1.0  \n",
              "1        감삼동  0.0   1.0   0.0  0.0  0.0  0.0    0.0   0.0  \n",
              "2        두산동  0.0   0.0   0.0  0.0  0.0  0.0    1.0   0.0  \n",
              "3        복현동  0.0   0.0   0.0  0.0  1.0  0.0    0.0   0.0  \n",
              "4        신암동  0.0   0.0   0.0  1.0  0.0  0.0    0.0   0.0  \n",
              "...      ...  ...   ...   ...  ...  ...  ...    ...   ...  \n",
              "39604  수성동3가  0.0   0.0   0.0  0.0  0.0  0.0    1.0   0.0  \n",
              "39605    상인동  0.0   1.0   0.0  0.0  0.0  0.0    0.0   0.0  \n",
              "39606    월성동  0.0   1.0   0.0  0.0  0.0  0.0    0.0   0.0  \n",
              "39607     장동  0.0   1.0   0.0  0.0  0.0  0.0    0.0   0.0  \n",
              "39608    비산동  0.0   0.0   0.0  0.0  0.0  1.0    0.0   0.0  \n",
              "\n",
              "[39609 rows x 39 columns]"
            ]
          },
          "execution_count": 17,
          "metadata": {},
          "output_type": "execute_result"
        }
      ],
      "source": [
        "df_t"
      ]
    },
    {
      "cell_type": "code",
      "execution_count": 18,
      "metadata": {
        "id": "CVU_-7iw_rpu"
      },
      "outputs": [],
      "source": [
        "accident_counts = df_t['시군구'].value_counts().reset_index()\n",
        "accident_counts.columns = ['시군구', '사고횟수']"
      ]
    },
    {
      "cell_type": "code",
      "execution_count": 19,
      "metadata": {
        "id": "miUs_XHn_u_T"
      },
      "outputs": [],
      "source": [
        "# '시군구'별 사고 횟수를 train_df에 매핑하기 위해 '시군구' 컬럼을 기준으로 사고 횟수를 가져옵니다.\n",
        "df_t['사고발생횟수'] = df_t['시군구'].map(accident_counts.set_index('시군구')['사고횟수'])"
      ]
    },
    {
      "cell_type": "code",
      "execution_count": 20,
      "metadata": {
        "id": "SmtzQTrh_x2d"
      },
      "outputs": [],
      "source": [
        "# '시군구'별 사고 횟수를 train_df에 매핑하기 위해 '시군구' 컬럼을 기준으로 사고 횟수를 가져옵니다.\n",
        "df_te['사고발생횟수'] = df_te['시군구'].map(accident_counts.set_index('시군구')['사고횟수'])"
      ]
    },
    {
      "cell_type": "code",
      "execution_count": 21,
      "metadata": {
        "id": "jmmJ8hE4_2I1"
      },
      "outputs": [],
      "source": [
        "# datetime 컬럼 처리\n",
        "df_t['사고일시'] = pd.to_datetime(df_t['사고일시'])\n",
        "df_te['사고일시'] = pd.to_datetime(df_te['사고일시'])\n",
        "\n",
        "# datetime을 여러 파생 변수로 변환\n",
        "for df in [df_t, df_te]:\n",
        "    df['year'] = df['사고일시'].dt.year\n",
        "    df['month'] = df['사고일시'].dt.month\n",
        "    df['day'] = df['사고일시'].dt.day\n",
        "    df['hour'] = df['사고일시'].dt.hour\n",
        "    df['weekday'] = df['사고일시'].dt.weekday"
      ]
    },
    {
      "cell_type": "code",
      "execution_count": 22,
      "metadata": {
        "id": "qPiKK4erALsm"
      },
      "outputs": [],
      "source": [
        "holi_weekday = ['2019-01-01', '2019-02-04', '2019-02-05', '2019-02-06', '2019-03-01', '2019-05-05', '2019-05-12', '2019-06-06', '2019-08-15', '2019-09-12', '2019-09-13', '2019-09-14', '2019-10-03', '2019-10-09', '2019-12-25',\n",
        "                '2020-01-01' ,'2020-01-24' ,'2020-01-25', '2020-01-26', '2020-03-01', '2020-04-30', '2020-05-05', '2020-06-06', '2020-08-15', '2020-08-17', '2020-09-30', '2020-10-01', '2020-10-02', '2020-10-03', '2020-10-09', '2020-12-25',\n",
        "                '2021-01-01' ,'2021-02-11' ,'2021-02-12', '2021-02-13', '2021-03-01', '2021-05-05', '2021-05-19', '2021-06-06', '2021-08-15', '2021-09-20', '2021-09-21', '2021-09-22', '2021-10-03', '2021-10-09', '2021-12-25',\n",
        "                '2022-01-01' ,'2022-01-31' ,'2022-02-01', '2022-02-02', '2022-03-01', '2022-05-05', '2022-05-08', '2022-06-06', '2022-08-15', '2022-09-09', '2022-09-10', '2022-09-11', '2022-09-12', '2022-10-03', '2022-10-09', '2020-10-10', '2022-12-25',\n",
        "                '2023-01-01' ,'2023-01-21' ,'2023-01-22', '2023-01-23', '2023-01-24', '2023-03-01']"
      ]
    },
    {
      "cell_type": "code",
      "execution_count": 23,
      "metadata": {
        "id": "NHJYTWAMAN56"
      },
      "outputs": [],
      "source": [
        "df_t['사고일시'] = pd.to_datetime(df_t['사고일시'])\n",
        "df_t['day_of_week'] = df_t['사고일시'].dt.dayofweek\n",
        "df_t['holiday'] = np.where((df_t.day_of_week >= 5) | (df_t.사고일시.dt.strftime('%Y-%m-%d').isin(holi_weekday)), 1, 0)"
      ]
    },
    {
      "cell_type": "code",
      "execution_count": 24,
      "metadata": {
        "id": "7MTYJFQcAlDO"
      },
      "outputs": [],
      "source": [
        "df_te['사고일시'] = pd.to_datetime(df_te['사고일시'])\n",
        "df_te['day_of_week'] = df_te['사고일시'].dt.dayofweek\n",
        "df_te['holiday'] = np.where((df_te.day_of_week >= 5) | (df_te.사고일시.dt.strftime('%Y-%m-%d').isin(holi_weekday)), 1, 0)"
      ]
    },
    {
      "cell_type": "code",
      "execution_count": 25,
      "metadata": {
        "id": "IsyQt--uAZjg"
      },
      "outputs": [],
      "source": [
        "df_t = df_t.drop(columns=['사고유형 - 세부분류','법규위반','가해운전자 차종','가해운전자 성별','가해운전자 연령',\n",
        "                               '가해운전자 상해정도','사망자수','사망자수','중상자수','피해운전자 차종','피해운전자 성별',\n",
        "                      '피해운전자 연령','피해운전자 상해정도','경상자수','부상자수','사고유형 - 세부분류'])"
      ]
    },
    {
      "cell_type": "code",
      "execution_count": 26,
      "metadata": {
        "id": "WwyJCP8zAyvd"
      },
      "outputs": [],
      "source": [
        "def group_season(df):\n",
        "    df.loc[(df['month'] == 3) | (df['month'] == 4) | (df['month'] == 5), 'season'] = '봄'\n",
        "    df.loc[(df['month'] == 6) | (df['month'] == 7) | (df['month'] == 8), 'season'] = '여름'\n",
        "    df.loc[(df['month'] == 9) | (df['month'] == 10) | (df['month'] == 11), 'season'] = '가을'\n",
        "    df.loc[(df['month'] == 12) | (df['month'] == 1) | (df['month'] == 2), 'season'] = '겨울'\n",
        "    return df['season']\n",
        "\n",
        "df_t['Cosine_Time'] = np.cos(2 * np.pi * df_t['hour'] / 24)\n",
        "df_te['Cosine_Time'] = np.cos(2 * np.pi * df_te['hour'] / 24)\n",
        "df_t['season'] = group_season(df_t)\n",
        "df_te['season'] = group_season(df_te)"
      ]
    },
    {
      "cell_type": "code",
      "execution_count": 27,
      "metadata": {
        "id": "LiVwAUGnBEgd"
      },
      "outputs": [],
      "source": [
        "target = df_t['ECLO']"
      ]
    },
    {
      "cell_type": "code",
      "execution_count": 28,
      "metadata": {
        "id": "JG4pmbjuBGuW"
      },
      "outputs": [],
      "source": [
        "df_t['ECLO'] = target"
      ]
    },
    {
      "cell_type": "code",
      "execution_count": 29,
      "metadata": {
        "colab": {
          "base_uri": "https://localhost:8080/"
        },
        "id": "U0tOsXMmBOOx",
        "outputId": "056a8509-efc5-4180-b1e0-168042d88804"
      },
      "outputs": [
        {
          "data": {
            "text/plain": [
              "Index(['ID', '사고일시', '요일', '기상상태', '시군구', '도로형태', '노면상태', '사고유형', 'ECLO',\n",
              "       '보호구역', '불법주정차', '차량전용', '평지도로', '설치개수', '주차장개수', '어린이보호구역개수', '구',\n",
              "       '군_남구', '군_달서구', '군_달성군', '군_동구', '군_북구', '군_서구', '군_수성구', '군_중구',\n",
              "       '사고발생횟수', 'year', 'month', 'day', 'hour', 'weekday', 'day_of_week',\n",
              "       'holiday', 'Cosine_Time', 'season'],\n",
              "      dtype='object')"
            ]
          },
          "execution_count": 29,
          "metadata": {},
          "output_type": "execute_result"
        }
      ],
      "source": [
        "df_t.columns\n"
      ]
    },
    {
      "cell_type": "code",
      "execution_count": 30,
      "metadata": {
        "colab": {
          "base_uri": "https://localhost:8080/"
        },
        "id": "N6uDjxnLBWf9",
        "outputId": "20b41a84-512b-44e4-bf61-06a608ac0f30"
      },
      "outputs": [
        {
          "data": {
            "text/plain": [
              "Index(['ID', '사고일시', '요일', '기상상태', '시군구', '도로형태', '노면상태', '사고유형', '보호구역',\n",
              "       '불법주정차', '차량전용', '평지도로', '설치개수', '주차장개수', '어린이보호구역개수', '구', '군_남구',\n",
              "       '군_달서구', '군_달성군', '군_동구', '군_북구', '군_서구', '군_수성구', '군_중구', '사고발생횟수',\n",
              "       'year', 'month', 'day', 'hour', 'weekday', 'day_of_week', 'holiday',\n",
              "       'Cosine_Time', 'season'],\n",
              "      dtype='object')"
            ]
          },
          "execution_count": 30,
          "metadata": {},
          "output_type": "execute_result"
        }
      ],
      "source": [
        "df_te.columns"
      ]
    },
    {
      "cell_type": "code",
      "execution_count": 31,
      "metadata": {
        "colab": {
          "base_uri": "https://localhost:8080/"
        },
        "id": "8VK0jPaVZFxK",
        "outputId": "2b6e2739-35fd-4271-a8c0-095a77a817e9"
      },
      "outputs": [
        {
          "name": "stdout",
          "output_type": "stream",
          "text": [
            "<class 'pandas.core.frame.DataFrame'>\n",
            "RangeIndex: 39609 entries, 0 to 39608\n",
            "Data columns (total 35 columns):\n",
            " #   Column       Non-Null Count  Dtype         \n",
            "---  ------       --------------  -----         \n",
            " 0   ID           39609 non-null  object        \n",
            " 1   사고일시         39609 non-null  datetime64[ns]\n",
            " 2   요일           39609 non-null  object        \n",
            " 3   기상상태         39609 non-null  object        \n",
            " 4   시군구          39609 non-null  object        \n",
            " 5   도로형태         39609 non-null  object        \n",
            " 6   노면상태         39609 non-null  object        \n",
            " 7   사고유형         39609 non-null  object        \n",
            " 8   ECLO         39609 non-null  int64         \n",
            " 9   보호구역         39609 non-null  float64       \n",
            " 10  불법주정차        39609 non-null  float64       \n",
            " 11  차량전용         39609 non-null  float64       \n",
            " 12  평지도로         39609 non-null  float64       \n",
            " 13  설치개수         39609 non-null  float64       \n",
            " 14  주차장개수        39609 non-null  float64       \n",
            " 15  어린이보호구역개수    39609 non-null  float64       \n",
            " 16  구            39609 non-null  object        \n",
            " 17  군_남구         39609 non-null  float64       \n",
            " 18  군_달서구        39609 non-null  float64       \n",
            " 19  군_달성군        39609 non-null  float64       \n",
            " 20  군_동구         39609 non-null  float64       \n",
            " 21  군_북구         39609 non-null  float64       \n",
            " 22  군_서구         39609 non-null  float64       \n",
            " 23  군_수성구        39609 non-null  float64       \n",
            " 24  군_중구         39609 non-null  float64       \n",
            " 25  사고발생횟수       39609 non-null  int64         \n",
            " 26  year         39609 non-null  int32         \n",
            " 27  month        39609 non-null  int32         \n",
            " 28  day          39609 non-null  int32         \n",
            " 29  hour         39609 non-null  int32         \n",
            " 30  weekday      39609 non-null  int32         \n",
            " 31  day_of_week  39609 non-null  int32         \n",
            " 32  holiday      39609 non-null  int32         \n",
            " 33  Cosine_Time  39609 non-null  float64       \n",
            " 34  season       39609 non-null  object        \n",
            "dtypes: datetime64[ns](1), float64(16), int32(7), int64(2), object(9)\n",
            "memory usage: 9.5+ MB\n"
          ]
        }
      ],
      "source": [
        "# null 값을 0으로 채우기\n",
        "df_t.fillna(0, inplace=True)\n",
        "df_t.info()"
      ]
    },
    {
      "cell_type": "code",
      "execution_count": 32,
      "metadata": {
        "colab": {
          "base_uri": "https://localhost:8080/"
        },
        "id": "oIRwkMUvZWgG",
        "outputId": "96d65117-b488-46b2-96da-9d4eba4fb7f4"
      },
      "outputs": [
        {
          "name": "stdout",
          "output_type": "stream",
          "text": [
            "<class 'pandas.core.frame.DataFrame'>\n",
            "RangeIndex: 10963 entries, 0 to 10962\n",
            "Data columns (total 34 columns):\n",
            " #   Column       Non-Null Count  Dtype         \n",
            "---  ------       --------------  -----         \n",
            " 0   ID           10963 non-null  object        \n",
            " 1   사고일시         10963 non-null  datetime64[ns]\n",
            " 2   요일           10963 non-null  object        \n",
            " 3   기상상태         10963 non-null  object        \n",
            " 4   시군구          10963 non-null  object        \n",
            " 5   도로형태         10963 non-null  object        \n",
            " 6   노면상태         10963 non-null  object        \n",
            " 7   사고유형         10963 non-null  object        \n",
            " 8   보호구역         10963 non-null  float64       \n",
            " 9   불법주정차        10963 non-null  float64       \n",
            " 10  차량전용         10963 non-null  float64       \n",
            " 11  평지도로         10963 non-null  float64       \n",
            " 12  설치개수         10963 non-null  float64       \n",
            " 13  주차장개수        10963 non-null  float64       \n",
            " 14  어린이보호구역개수    10963 non-null  float64       \n",
            " 15  구            10963 non-null  object        \n",
            " 16  군_남구         10963 non-null  float64       \n",
            " 17  군_달서구        10963 non-null  float64       \n",
            " 18  군_달성군        10963 non-null  float64       \n",
            " 19  군_동구         10963 non-null  float64       \n",
            " 20  군_북구         10963 non-null  float64       \n",
            " 21  군_서구         10963 non-null  float64       \n",
            " 22  군_수성구        10963 non-null  float64       \n",
            " 23  군_중구         10963 non-null  float64       \n",
            " 24  사고발생횟수       10963 non-null  int64         \n",
            " 25  year         10963 non-null  int32         \n",
            " 26  month        10963 non-null  int32         \n",
            " 27  day          10963 non-null  int32         \n",
            " 28  hour         10963 non-null  int32         \n",
            " 29  weekday      10963 non-null  int32         \n",
            " 30  day_of_week  10963 non-null  int32         \n",
            " 31  holiday      10963 non-null  int32         \n",
            " 32  Cosine_Time  10963 non-null  float64       \n",
            " 33  season       10963 non-null  object        \n",
            "dtypes: datetime64[ns](1), float64(16), int32(7), int64(1), object(9)\n",
            "memory usage: 2.6+ MB\n"
          ]
        }
      ],
      "source": [
        "# null 값을 0으로 채우기\n",
        "df_te.fillna(0, inplace=True)\n",
        "df_te.info()"
      ]
    },
    {
      "cell_type": "code",
      "execution_count": 33,
      "metadata": {
        "id": "OkuuEdamBViw"
      },
      "outputs": [],
      "source": [
        "test_x = df_te.drop(columns=['ID','year','month','day','hour','day_of_week','사고일시']).copy()\n",
        "train_x = df_t[test_x.columns].copy()\n",
        "train_y = np.log1p(df_t['ECLO'].copy())"
      ]
    },
    {
      "cell_type": "code",
      "execution_count": 41,
      "metadata": {},
      "outputs": [
        {
          "data": {
            "text/plain": [
              "Index(['요일', '기상상태', '시군구', '도로형태', '노면상태', '사고유형', '보호구역', '불법주정차', '차량전용',\n",
              "       '평지도로', '설치개수', '주차장개수', '어린이보호구역개수', '구', '군_남구', '군_달서구', '군_달성군',\n",
              "       '군_동구', '군_북구', '군_서구', '군_수성구', '군_중구', '사고발생횟수', 'weekday', 'holiday',\n",
              "       'Cosine_Time', 'season'],\n",
              "      dtype='object')"
            ]
          },
          "execution_count": 41,
          "metadata": {},
          "output_type": "execute_result"
        }
      ],
      "source": [
        "train_x.columns.astype(str)"
      ]
    },
    {
      "cell_type": "code",
      "execution_count": 44,
      "metadata": {},
      "outputs": [
        {
          "data": {
            "text/html": [
              "<div>\n",
              "<style scoped>\n",
              "    .dataframe tbody tr th:only-of-type {\n",
              "        vertical-align: middle;\n",
              "    }\n",
              "\n",
              "    .dataframe tbody tr th {\n",
              "        vertical-align: top;\n",
              "    }\n",
              "\n",
              "    .dataframe thead th {\n",
              "        text-align: right;\n",
              "    }\n",
              "</style>\n",
              "<table border=\"1\" class=\"dataframe\">\n",
              "  <thead>\n",
              "    <tr style=\"text-align: right;\">\n",
              "      <th></th>\n",
              "      <th>요일</th>\n",
              "      <th>기상상태</th>\n",
              "      <th>시군구</th>\n",
              "      <th>도로형태</th>\n",
              "      <th>노면상태</th>\n",
              "      <th>사고유형</th>\n",
              "      <th>보호구역</th>\n",
              "      <th>불법주정차</th>\n",
              "      <th>차량전용</th>\n",
              "      <th>평지도로</th>\n",
              "      <th>...</th>\n",
              "      <th>군_동구</th>\n",
              "      <th>군_북구</th>\n",
              "      <th>군_서구</th>\n",
              "      <th>군_수성구</th>\n",
              "      <th>군_중구</th>\n",
              "      <th>사고발생횟수</th>\n",
              "      <th>weekday</th>\n",
              "      <th>holiday</th>\n",
              "      <th>Cosine_Time</th>\n",
              "      <th>season</th>\n",
              "    </tr>\n",
              "  </thead>\n",
              "  <tbody>\n",
              "    <tr>\n",
              "      <th>0</th>\n",
              "      <td>화요일</td>\n",
              "      <td>맑음</td>\n",
              "      <td>대구광역시 중구 대신동</td>\n",
              "      <td>단일로 - 기타</td>\n",
              "      <td>건조</td>\n",
              "      <td>차대사람</td>\n",
              "      <td>1.0</td>\n",
              "      <td>4.0</td>\n",
              "      <td>0.0</td>\n",
              "      <td>0.0</td>\n",
              "      <td>...</td>\n",
              "      <td>0.0</td>\n",
              "      <td>0.0</td>\n",
              "      <td>0.0</td>\n",
              "      <td>0.0</td>\n",
              "      <td>1.0</td>\n",
              "      <td>131</td>\n",
              "      <td>1</td>\n",
              "      <td>1</td>\n",
              "      <td>1.000000</td>\n",
              "      <td>겨울</td>\n",
              "    </tr>\n",
              "    <tr>\n",
              "      <th>1</th>\n",
              "      <td>화요일</td>\n",
              "      <td>흐림</td>\n",
              "      <td>대구광역시 달서구 감삼동</td>\n",
              "      <td>단일로 - 기타</td>\n",
              "      <td>건조</td>\n",
              "      <td>차대사람</td>\n",
              "      <td>1.0</td>\n",
              "      <td>8.0</td>\n",
              "      <td>0.0</td>\n",
              "      <td>3.0</td>\n",
              "      <td>...</td>\n",
              "      <td>0.0</td>\n",
              "      <td>0.0</td>\n",
              "      <td>0.0</td>\n",
              "      <td>0.0</td>\n",
              "      <td>0.0</td>\n",
              "      <td>678</td>\n",
              "      <td>1</td>\n",
              "      <td>1</td>\n",
              "      <td>1.000000</td>\n",
              "      <td>겨울</td>\n",
              "    </tr>\n",
              "    <tr>\n",
              "      <th>2</th>\n",
              "      <td>화요일</td>\n",
              "      <td>맑음</td>\n",
              "      <td>대구광역시 수성구 두산동</td>\n",
              "      <td>단일로 - 기타</td>\n",
              "      <td>건조</td>\n",
              "      <td>차대사람</td>\n",
              "      <td>0.0</td>\n",
              "      <td>0.0</td>\n",
              "      <td>0.0</td>\n",
              "      <td>4.0</td>\n",
              "      <td>...</td>\n",
              "      <td>0.0</td>\n",
              "      <td>0.0</td>\n",
              "      <td>0.0</td>\n",
              "      <td>1.0</td>\n",
              "      <td>0.0</td>\n",
              "      <td>604</td>\n",
              "      <td>1</td>\n",
              "      <td>1</td>\n",
              "      <td>0.965926</td>\n",
              "      <td>겨울</td>\n",
              "    </tr>\n",
              "    <tr>\n",
              "      <th>3</th>\n",
              "      <td>화요일</td>\n",
              "      <td>맑음</td>\n",
              "      <td>대구광역시 북구 복현동</td>\n",
              "      <td>단일로 - 기타</td>\n",
              "      <td>건조</td>\n",
              "      <td>차대차</td>\n",
              "      <td>7.0</td>\n",
              "      <td>0.0</td>\n",
              "      <td>0.0</td>\n",
              "      <td>3.0</td>\n",
              "      <td>...</td>\n",
              "      <td>0.0</td>\n",
              "      <td>1.0</td>\n",
              "      <td>0.0</td>\n",
              "      <td>0.0</td>\n",
              "      <td>0.0</td>\n",
              "      <td>426</td>\n",
              "      <td>1</td>\n",
              "      <td>1</td>\n",
              "      <td>0.866025</td>\n",
              "      <td>겨울</td>\n",
              "    </tr>\n",
              "    <tr>\n",
              "      <th>4</th>\n",
              "      <td>화요일</td>\n",
              "      <td>맑음</td>\n",
              "      <td>대구광역시 동구 신암동</td>\n",
              "      <td>단일로 - 기타</td>\n",
              "      <td>건조</td>\n",
              "      <td>차대차</td>\n",
              "      <td>7.0</td>\n",
              "      <td>0.0</td>\n",
              "      <td>0.0</td>\n",
              "      <td>5.0</td>\n",
              "      <td>...</td>\n",
              "      <td>1.0</td>\n",
              "      <td>0.0</td>\n",
              "      <td>0.0</td>\n",
              "      <td>0.0</td>\n",
              "      <td>0.0</td>\n",
              "      <td>825</td>\n",
              "      <td>1</td>\n",
              "      <td>1</td>\n",
              "      <td>0.500000</td>\n",
              "      <td>겨울</td>\n",
              "    </tr>\n",
              "    <tr>\n",
              "      <th>...</th>\n",
              "      <td>...</td>\n",
              "      <td>...</td>\n",
              "      <td>...</td>\n",
              "      <td>...</td>\n",
              "      <td>...</td>\n",
              "      <td>...</td>\n",
              "      <td>...</td>\n",
              "      <td>...</td>\n",
              "      <td>...</td>\n",
              "      <td>...</td>\n",
              "      <td>...</td>\n",
              "      <td>...</td>\n",
              "      <td>...</td>\n",
              "      <td>...</td>\n",
              "      <td>...</td>\n",
              "      <td>...</td>\n",
              "      <td>...</td>\n",
              "      <td>...</td>\n",
              "      <td>...</td>\n",
              "      <td>...</td>\n",
              "      <td>...</td>\n",
              "    </tr>\n",
              "    <tr>\n",
              "      <th>39604</th>\n",
              "      <td>금요일</td>\n",
              "      <td>맑음</td>\n",
              "      <td>대구광역시 수성구 수성동3가</td>\n",
              "      <td>교차로 - 교차로안</td>\n",
              "      <td>건조</td>\n",
              "      <td>차대차</td>\n",
              "      <td>1.0</td>\n",
              "      <td>0.0</td>\n",
              "      <td>0.0</td>\n",
              "      <td>0.0</td>\n",
              "      <td>...</td>\n",
              "      <td>0.0</td>\n",
              "      <td>0.0</td>\n",
              "      <td>0.0</td>\n",
              "      <td>1.0</td>\n",
              "      <td>0.0</td>\n",
              "      <td>104</td>\n",
              "      <td>4</td>\n",
              "      <td>0</td>\n",
              "      <td>0.258819</td>\n",
              "      <td>겨울</td>\n",
              "    </tr>\n",
              "    <tr>\n",
              "      <th>39605</th>\n",
              "      <td>금요일</td>\n",
              "      <td>맑음</td>\n",
              "      <td>대구광역시 달서구 상인동</td>\n",
              "      <td>단일로 - 기타</td>\n",
              "      <td>건조</td>\n",
              "      <td>차대차</td>\n",
              "      <td>11.0</td>\n",
              "      <td>12.0</td>\n",
              "      <td>3.0</td>\n",
              "      <td>4.0</td>\n",
              "      <td>...</td>\n",
              "      <td>0.0</td>\n",
              "      <td>0.0</td>\n",
              "      <td>0.0</td>\n",
              "      <td>0.0</td>\n",
              "      <td>0.0</td>\n",
              "      <td>1143</td>\n",
              "      <td>4</td>\n",
              "      <td>0</td>\n",
              "      <td>0.258819</td>\n",
              "      <td>겨울</td>\n",
              "    </tr>\n",
              "    <tr>\n",
              "      <th>39606</th>\n",
              "      <td>금요일</td>\n",
              "      <td>맑음</td>\n",
              "      <td>대구광역시 달서구 월성동</td>\n",
              "      <td>교차로 - 교차로안</td>\n",
              "      <td>건조</td>\n",
              "      <td>차대차</td>\n",
              "      <td>4.0</td>\n",
              "      <td>13.0</td>\n",
              "      <td>0.0</td>\n",
              "      <td>5.0</td>\n",
              "      <td>...</td>\n",
              "      <td>0.0</td>\n",
              "      <td>0.0</td>\n",
              "      <td>0.0</td>\n",
              "      <td>0.0</td>\n",
              "      <td>0.0</td>\n",
              "      <td>618</td>\n",
              "      <td>4</td>\n",
              "      <td>0</td>\n",
              "      <td>0.707107</td>\n",
              "      <td>겨울</td>\n",
              "    </tr>\n",
              "    <tr>\n",
              "      <th>39607</th>\n",
              "      <td>금요일</td>\n",
              "      <td>맑음</td>\n",
              "      <td>대구광역시 달서구 장동</td>\n",
              "      <td>기타 - 기타</td>\n",
              "      <td>건조</td>\n",
              "      <td>차대차</td>\n",
              "      <td>0.0</td>\n",
              "      <td>0.0</td>\n",
              "      <td>0.0</td>\n",
              "      <td>1.0</td>\n",
              "      <td>...</td>\n",
              "      <td>0.0</td>\n",
              "      <td>0.0</td>\n",
              "      <td>0.0</td>\n",
              "      <td>0.0</td>\n",
              "      <td>0.0</td>\n",
              "      <td>125</td>\n",
              "      <td>4</td>\n",
              "      <td>0</td>\n",
              "      <td>0.866025</td>\n",
              "      <td>겨울</td>\n",
              "    </tr>\n",
              "    <tr>\n",
              "      <th>39608</th>\n",
              "      <td>금요일</td>\n",
              "      <td>맑음</td>\n",
              "      <td>대구광역시 서구 비산동</td>\n",
              "      <td>단일로 - 지하차도(도로)내</td>\n",
              "      <td>건조</td>\n",
              "      <td>차대차</td>\n",
              "      <td>3.0</td>\n",
              "      <td>0.0</td>\n",
              "      <td>0.0</td>\n",
              "      <td>11.0</td>\n",
              "      <td>...</td>\n",
              "      <td>0.0</td>\n",
              "      <td>0.0</td>\n",
              "      <td>1.0</td>\n",
              "      <td>0.0</td>\n",
              "      <td>0.0</td>\n",
              "      <td>968</td>\n",
              "      <td>4</td>\n",
              "      <td>0</td>\n",
              "      <td>0.965926</td>\n",
              "      <td>겨울</td>\n",
              "    </tr>\n",
              "  </tbody>\n",
              "</table>\n",
              "<p>39609 rows × 27 columns</p>\n",
              "</div>"
            ],
            "text/plain": [
              "        요일 기상상태              시군구             도로형태 노면상태  사고유형  보호구역  불법주정차  \\\n",
              "0      화요일   맑음     대구광역시 중구 대신동         단일로 - 기타   건조  차대사람   1.0    4.0   \n",
              "1      화요일   흐림    대구광역시 달서구 감삼동         단일로 - 기타   건조  차대사람   1.0    8.0   \n",
              "2      화요일   맑음    대구광역시 수성구 두산동         단일로 - 기타   건조  차대사람   0.0    0.0   \n",
              "3      화요일   맑음     대구광역시 북구 복현동         단일로 - 기타   건조   차대차   7.0    0.0   \n",
              "4      화요일   맑음     대구광역시 동구 신암동         단일로 - 기타   건조   차대차   7.0    0.0   \n",
              "...    ...  ...              ...              ...  ...   ...   ...    ...   \n",
              "39604  금요일   맑음  대구광역시 수성구 수성동3가       교차로 - 교차로안   건조   차대차   1.0    0.0   \n",
              "39605  금요일   맑음    대구광역시 달서구 상인동         단일로 - 기타   건조   차대차  11.0   12.0   \n",
              "39606  금요일   맑음    대구광역시 달서구 월성동       교차로 - 교차로안   건조   차대차   4.0   13.0   \n",
              "39607  금요일   맑음     대구광역시 달서구 장동          기타 - 기타   건조   차대차   0.0    0.0   \n",
              "39608  금요일   맑음     대구광역시 서구 비산동  단일로 - 지하차도(도로)내   건조   차대차   3.0    0.0   \n",
              "\n",
              "       차량전용  평지도로  ...  군_동구  군_북구  군_서구 군_수성구  군_중구  사고발생횟수  weekday  \\\n",
              "0       0.0   0.0  ...   0.0   0.0   0.0   0.0   1.0     131        1   \n",
              "1       0.0   3.0  ...   0.0   0.0   0.0   0.0   0.0     678        1   \n",
              "2       0.0   4.0  ...   0.0   0.0   0.0   1.0   0.0     604        1   \n",
              "3       0.0   3.0  ...   0.0   1.0   0.0   0.0   0.0     426        1   \n",
              "4       0.0   5.0  ...   1.0   0.0   0.0   0.0   0.0     825        1   \n",
              "...     ...   ...  ...   ...   ...   ...   ...   ...     ...      ...   \n",
              "39604   0.0   0.0  ...   0.0   0.0   0.0   1.0   0.0     104        4   \n",
              "39605   3.0   4.0  ...   0.0   0.0   0.0   0.0   0.0    1143        4   \n",
              "39606   0.0   5.0  ...   0.0   0.0   0.0   0.0   0.0     618        4   \n",
              "39607   0.0   1.0  ...   0.0   0.0   0.0   0.0   0.0     125        4   \n",
              "39608   0.0  11.0  ...   0.0   0.0   1.0   0.0   0.0     968        4   \n",
              "\n",
              "       holiday  Cosine_Time  season  \n",
              "0            1     1.000000      겨울  \n",
              "1            1     1.000000      겨울  \n",
              "2            1     0.965926      겨울  \n",
              "3            1     0.866025      겨울  \n",
              "4            1     0.500000      겨울  \n",
              "...        ...          ...     ...  \n",
              "39604        0     0.258819      겨울  \n",
              "39605        0     0.258819      겨울  \n",
              "39606        0     0.707107      겨울  \n",
              "39607        0     0.866025      겨울  \n",
              "39608        0     0.965926      겨울  \n",
              "\n",
              "[39609 rows x 27 columns]"
            ]
          },
          "execution_count": 44,
          "metadata": {},
          "output_type": "execute_result"
        }
      ],
      "source": [
        "train_x"
      ]
    },
    {
      "cell_type": "markdown",
      "metadata": {
        "id": "humajNLFVOGz"
      },
      "source": [
        "AUTOML"
      ]
    },
    {
      "cell_type": "code",
      "execution_count": 37,
      "metadata": {
        "id": "BmeJKd2kVNmO"
      },
      "outputs": [],
      "source": [
        "matplotlib.use('Agg')"
      ]
    },
    {
      "cell_type": "code",
      "execution_count": 38,
      "metadata": {
        "id": "ECYz8n5UVQeR"
      },
      "outputs": [],
      "source": [
        "automl = AutoML(mode=\"Compete\",\n",
        "                algorithms = ['Random Forest',\n",
        "                            'LightGBM',\n",
        "                            'Xgboost',\n",
        "                            'CatBoost'],\n",
        "                n_jobs = -1,\n",
        "                total_time_limit=43200,\n",
        "                eval_metric=\"rmse\", \n",
        "                ml_task = \"regression\",\n",
        "                results_path = '../Model/AutoML_rmse_best_log1p/',\n",
        "                explain_level=2)"
      ]
    },
    {
      "cell_type": "code",
      "execution_count": 39,
      "metadata": {
        "colab": {
          "base_uri": "https://localhost:8080/",
          "height": 1000
        },
        "id": "wpgVn65_VaZw",
        "outputId": "fcce0b40-f54b-4e51-c150-8f90d77fe7fc"
      },
      "outputs": [
        {
          "name": "stdout",
          "output_type": "stream",
          "text": [
            "This model has already been fitted. You can use predict methods or select a new 'results_path' for a new 'fit()'.\n"
          ]
        }
      ],
      "source": [
        "automl.fit(train_x, train_y)"
      ]
    },
    {
      "cell_type": "code",
      "execution_count": 90,
      "metadata": {
        "id": "QI6_gHGPfD00"
      },
      "outputs": [],
      "source": [
        "pred = automl.predict(test_x)"
      ]
    },
    {
      "cell_type": "code",
      "execution_count": 91,
      "metadata": {
        "id": "0gDrV831fEoj"
      },
      "outputs": [],
      "source": [
        "submission = pd.read_csv('../Data/sample_submission.csv')"
      ]
    },
    {
      "cell_type": "code",
      "execution_count": 107,
      "metadata": {
        "id": "HkBgXVTDfF3_"
      },
      "outputs": [],
      "source": [
        "submission['ECLO'] = np.expm1(pred)"
      ]
    },
    {
      "cell_type": "code",
      "execution_count": 108,
      "metadata": {
        "id": "ceIpoHu7fIl8"
      },
      "outputs": [],
      "source": [
        "submission.loc[ submission['ECLO'] < 0.0, 'ECLO'] = 0.0"
      ]
    },
    {
      "cell_type": "code",
      "execution_count": 109,
      "metadata": {
        "colab": {
          "base_uri": "https://localhost:8080/"
        },
        "id": "BIwO3YeOfKnW",
        "outputId": "74dbd593-2b15-42ca-dada-0b56e69668ba"
      },
      "outputs": [
        {
          "data": {
            "text/plain": [
              "2.747193948121656"
            ]
          },
          "execution_count": 109,
          "metadata": {},
          "output_type": "execute_result"
        }
      ],
      "source": [
        "min(submission['ECLO'])"
      ]
    },
    {
      "cell_type": "code",
      "execution_count": 110,
      "metadata": {
        "id": "1Ir40zlffM38"
      },
      "outputs": [],
      "source": [
        "submission.to_csv('../Data/AutoML_best_model_log1p.csv', index=False)"
      ]
    }
  ],
  "metadata": {
    "colab": {
      "provenance": []
    },
    "kernelspec": {
      "display_name": "Python 3",
      "name": "python3"
    },
    "language_info": {
      "codemirror_mode": {
        "name": "ipython",
        "version": 3
      },
      "file_extension": ".py",
      "mimetype": "text/x-python",
      "name": "python",
      "nbconvert_exporter": "python",
      "pygments_lexer": "ipython3",
      "version": "3.8.17"
    }
  },
  "nbformat": 4,
  "nbformat_minor": 0
}
