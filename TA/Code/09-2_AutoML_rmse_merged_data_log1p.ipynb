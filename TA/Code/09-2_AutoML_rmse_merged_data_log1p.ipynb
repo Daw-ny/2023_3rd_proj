{
 "cells": [
  {
   "cell_type": "markdown",
   "metadata": {},
   "source": [
    "# Merged data AutoML\n",
    "\n",
    "## 1. setting modules"
   ]
  },
  {
   "cell_type": "code",
   "execution_count": 1,
   "metadata": {},
   "outputs": [
    {
     "name": "stderr",
     "output_type": "stream",
     "text": [
      "Using `tqdm.autonotebook.tqdm` in notebook mode. Use `tqdm.tqdm` instead to force console mode (e.g. in jupyter console)\n"
     ]
    }
   ],
   "source": [
    "# load modules\n",
    "import numpy as np\n",
    "import pandas as pd\n",
    "import geopandas as gpd\n",
    "import tqdm\n",
    "import random\n",
    "import os\n",
    "import fiona\n",
    "import sqlite3\n",
    "from shapely import wkb\n",
    "from pyproj import Proj, transform\n",
    "import csv\n",
    "import chardet\n",
    "\n",
    "# split\n",
    "from sklearn.model_selection import train_test_split\n",
    "\n",
    "# models \n",
    "from xgboost import XGBRegressor, DMatrix\n",
    "import xgboost as xgb\n",
    "from lightgbm import LGBMRegressor\n",
    "from catboost import CatBoostRegressor\n",
    "from supervised.automl import AutoML\n",
    "\n",
    "# tuning\n",
    "import optuna\n",
    "\n",
    "# vif\n",
    "from statsmodels.stats.outliers_influence import variance_inflation_factor\n",
    "\n",
    "# visualization\n",
    "from matplotlib import pyplot as plt\n",
    "import seaborn as sns\n",
    "import matplotlib as mpl\n",
    "import plotly\n",
    "from shapely.geometry import MultiPolygon\n",
    "from shapely.wkt import loads\n",
    "\n",
    "# metrics\n",
    "from sklearn.metrics import mean_squared_log_error\n",
    "\n",
    "# 경고 무시\n",
    "import warnings\n",
    "warnings.filterwarnings('ignore')\n",
    "\n",
    "# test\n",
    "import scipy.stats as stats\n",
    "from statsmodels.stats.anova import anova_lm\n",
    "from statsmodels.formula.api import ols\n",
    "from statsmodels.stats.multicomp import pairwise_tukeyhsd\n",
    "from statsmodels.tsa.seasonal import seasonal_decompose\n",
    "\n",
    "%matplotlib inline"
   ]
  },
  {
   "cell_type": "code",
   "execution_count": 2,
   "metadata": {},
   "outputs": [],
   "source": [
    "plt.rcParams['font.family'] = 'NanumSquare'\n",
    "plt.rcParams['font.size'] = 10"
   ]
  },
  {
   "cell_type": "code",
   "execution_count": 3,
   "metadata": {},
   "outputs": [],
   "source": [
    "# load pd data\n",
    "cross = pd.read_csv('../Data/cross100_address.csv', encoding='cp949')\n",
    "park_cctv = pd.read_csv('../Data/bigdatamart/주차단속카메라정보.csv', encoding='cp949')\n",
    "rest = pd.read_csv('../Data/bigdatamart/소상공인시장진흥공단_상가(상권)정보_대구_202109.csv')\n",
    "corner = pd.read_csv('../Data/bigdatamart/먹거리골목업소정보.csv', encoding = 'cp949')\n",
    "nadel = pd.read_csv('../Data/bigdatamart/소상공인시장진흥공단_전국 나들가게 현황(CSV)_20210512.csv', encoding = 'cp949')\n",
    "baek = pd.read_csv('../Data/bigdatamart/소상공인시장진흥공단_전국 백년가게 현황_20220713.csv', encoding='cp949')\n",
    "train = pd.read_csv('../Data/train_4.csv', encoding='cp949')\n",
    "test = pd.read_csv('../Data/test_4.csv', encoding='cp949')\n",
    "m4 = pd.read_csv('../Data/bigdatamart/merge_3_data_by_dongga.csv', encoding='cp949')\n",
    "train_merge = pd.read_csv('../Data/train_merged_with_parking.csv', encoding='cp949')\n",
    "test_merge = pd.read_csv('../Data/test_merged_with_parking.csv', encoding='cp949')"
   ]
  },
  {
   "cell_type": "code",
   "execution_count": 4,
   "metadata": {},
   "outputs": [],
   "source": [
    "# random seed 고정하기\n",
    "def seed_everything(seed):\n",
    "    random.seed(seed)\n",
    "    os.environ['PYTHONHASHSEED'] = str(seed)\n",
    "    np.random.seed(seed)\n",
    "\n",
    "seed_everything(42) # Seed 고정"
   ]
  },
  {
   "cell_type": "code",
   "execution_count": 5,
   "metadata": {},
   "outputs": [],
   "source": [
    "# train, test 추가변수 생성 완료\n",
    "train_merge[train.columns[~train.columns.isin(train_merge.columns)]] = train[train.columns[~train.columns.isin(train_merge.columns)]]\n",
    "test_merge[test.columns[~test.columns.isin(test_merge.columns)]] = test[test.columns[~test.columns.isin(test_merge.columns)]]"
   ]
  },
  {
   "cell_type": "code",
   "execution_count": 6,
   "metadata": {},
   "outputs": [],
   "source": [
    "# 미리 저장하기\n",
    "#train_merge.to_csv('../Data/train_4.csv', index = False, encoding = 'cp949')\n",
    "#test_merge.to_csv('../Data/test_4.csv', index = False, encoding = 'cp949')"
   ]
  },
  {
   "cell_type": "markdown",
   "metadata": {},
   "source": [
    "## 2. Preprocessing"
   ]
  },
  {
   "cell_type": "code",
   "execution_count": 7,
   "metadata": {},
   "outputs": [],
   "source": [
    "# 요일: 주말과 평균으로 나눔\n",
    "train_merge['주말'] = np.where(train_merge['요일'].isin(['토요일', '일요일']), 1, 0)\n",
    "test_merge['주말'] = np.where(test_merge['요일'].isin(['토요일', '일요일']), 1, 0)"
   ]
  },
  {
   "cell_type": "code",
   "execution_count": 8,
   "metadata": {},
   "outputs": [],
   "source": [
    "# 사고 시간\n",
    "train_merge['피크타임'] = np.where(train_merge['시간'] > 6, 0, 1)\n",
    "test_merge['피크타임'] = np.where(test_merge['시간'] > 6, 0, 1)"
   ]
  },
  {
   "cell_type": "code",
   "execution_count": 9,
   "metadata": {},
   "outputs": [],
   "source": [
    "# 기상상태\n",
    "train_merge['맑음'] = np.where(train_merge['기상상태'] == '맑음', 1, 0)\n",
    "test_merge['맑음'] = np.where(test_merge['기상상태'] == '맑음', 1, 0)"
   ]
  },
  {
   "cell_type": "code",
   "execution_count": 10,
   "metadata": {},
   "outputs": [],
   "source": [
    "# 교차로\n",
    "train_merge['도로'] = np.where(train_merge['도로형태1'].isin(['단일로', '교차로']), train_merge['도로형태1'], '기타')\n",
    "test_merge['도로'] = np.where(test_merge['도로형태1'].isin(['단일로', '교차로']), test_merge['도로형태1'], '기타')"
   ]
  },
  {
   "cell_type": "code",
   "execution_count": 11,
   "metadata": {},
   "outputs": [],
   "source": [
    "# 노면상태\n",
    "train_merge['건조'] = np.where(train_merge['노면상태'] == '건조', 1, 0)\n",
    "test_merge['건조'] = np.where(test_merge['노면상태'] == '건조', 1, 0)"
   ]
  },
  {
   "cell_type": "code",
   "execution_count": 12,
   "metadata": {},
   "outputs": [],
   "source": [
    "# 사고유형\n",
    "train_merge['차대차'] = np.where(train_merge['사고유형'] == '차대차', 1, 0)\n",
    "test_merge['차대차'] = np.where(test_merge['사고유형'] == '차대차', 1, 0)"
   ]
  },
  {
   "cell_type": "code",
   "execution_count": 13,
   "metadata": {},
   "outputs": [],
   "source": [
    "# test에 없는 train 변수 중 ECLO를 제외하고 삭제하자\n",
    "train_merge2 = train_merge[train_merge.columns[train_merge.columns.isin(test_merge.columns)]]\n",
    "train_merge2['ECLO'] = train_merge['ECLO']"
   ]
  },
  {
   "cell_type": "markdown",
   "metadata": {},
   "source": [
    "### 기존 계획했던 변수 변환은 끝났고 다음 변수 선택 및 변환을 적용하자"
   ]
  },
  {
   "cell_type": "code",
   "execution_count": 14,
   "metadata": {},
   "outputs": [],
   "source": [
    "# 사망자수 컬럼 제외\n",
    "train_merge3 = train_merge2[train_merge2.columns[~train_merge2.columns.str.contains('사망자수')]]\n",
    "test_merge3 = test_merge[test_merge.columns[~test_merge.columns.str.contains('사망자수')]]"
   ]
  },
  {
   "cell_type": "code",
   "execution_count": 15,
   "metadata": {},
   "outputs": [],
   "source": [
    "# 부상자수 컬럼 제외\n",
    "train_merge4 = train_merge3[train_merge3.columns[~train_merge3.columns.str.contains('부상자수')]]\n",
    "test_merge4 = test_merge3[test_merge3.columns[~test_merge3.columns.str.contains('부상자수')]]"
   ]
  },
  {
   "cell_type": "code",
   "execution_count": 16,
   "metadata": {},
   "outputs": [],
   "source": [
    "# 경상자수 컬럼 제외\n",
    "train_merge5 = train_merge4[train_merge4.columns[~train_merge4.columns.str.contains('경상자수')]]\n",
    "test_merge5 = test_merge4[test_merge4.columns[~test_merge4.columns.str.contains('경상자수')]]"
   ]
  },
  {
   "cell_type": "code",
   "execution_count": 17,
   "metadata": {},
   "outputs": [],
   "source": [
    "# 중상자수 컬럼 제외\n",
    "train_merge6 = train_merge5[train_merge5.columns[~train_merge5.columns.str.contains('중상자수')]]\n",
    "test_merge6 = test_merge5[test_merge5.columns[~test_merge5.columns.str.contains('중상자수')]]"
   ]
  },
  {
   "cell_type": "code",
   "execution_count": 18,
   "metadata": {},
   "outputs": [],
   "source": [
    "# 필요없는 변수 제외\n",
    "train_merge7 = train_merge6.drop(['ID', '요일', '기상상태', '노면상태', '사고유형',\n",
    "                                  '연', '월', '일', '시간', 'sin_hour', 'cos_hour', \n",
    "                                  '도시', '구', '동', '도로형태1', '도로형태2', '상권total',\n",
    "                                  '도로형태', '시군구', '시', '군구', '동가', '사고일시'], axis = 1).fillna(0)\n",
    "test_merge7 = test_merge6.drop(['ID', '요일', '기상상태', '노면상태', '사고유형',\n",
    "                                  '연', '월', '일', '시간', 'sin_hour', 'cos_hour', \n",
    "                                  '도시', '구', '동', '도로형태1', '도로형태2', '상권total',\n",
    "                                  '도로형태', '시군구', '시', '군구', '동가', '사고일시', '주차단속카메라_개수'], axis = 1).fillna(0)"
   ]
  },
  {
   "cell_type": "code",
   "execution_count": 19,
   "metadata": {},
   "outputs": [],
   "source": [
    "# 미리 저장하기\n",
    "train_merge7.to_csv('../Data/train_5.csv', index = False, encoding = 'cp949')\n",
    "test_merge7.to_csv('../Data/test_5.csv', index = False, encoding = 'cp949')"
   ]
  },
  {
   "cell_type": "code",
   "execution_count": 20,
   "metadata": {},
   "outputs": [],
   "source": [
    "# 타겟인코딩\n",
    "target_encoded=train_merge7.groupby('도로')['ECLO'].mean()\n",
    "train_merge7['도로']=train_merge7['도로'].map(target_encoded)\n",
    "test_merge7['도로']=test_merge7['도로'].map(target_encoded)"
   ]
  },
  {
   "cell_type": "markdown",
   "metadata": {},
   "source": [
    "## 3. Modeling"
   ]
  },
  {
   "cell_type": "code",
   "execution_count": 21,
   "metadata": {},
   "outputs": [],
   "source": [
    "# train test split\n",
    "x_train = train_merge7[train_merge7.columns.difference(['ECLO'])]\n",
    "y_train = np.log1p(train_merge7['ECLO'])"
   ]
  },
  {
   "cell_type": "code",
   "execution_count": 22,
   "metadata": {},
   "outputs": [],
   "source": [
    "# automl modeling\n",
    "automl = AutoML(mode=\"Compete\",\n",
    "                algorithms=[\"CatBoost\",\n",
    "                            \"Xgboost\",\n",
    "                            \"LightGBM\",\n",
    "                            ], \n",
    "                ml_task = \"regression\",\n",
    "                eval_metric = 'rmse',\n",
    "                random_state = 42,\n",
    "                n_jobs = -1,\n",
    "                total_time_limit=43200,\n",
    "                results_path = '../Model/AutoML_mae_merged_data_log1p/',\n",
    "                explain_level=2\n",
    "               )"
   ]
  },
  {
   "cell_type": "code",
   "execution_count": 23,
   "metadata": {},
   "outputs": [
    {
     "name": "stdout",
     "output_type": "stream",
     "text": [
      "AutoML directory: ../Model/AutoML_mae_merged_data_log1p/\n",
      "The task is regression with evaluation metric rmse\n",
      "AutoML will use algorithms: ['CatBoost', 'Xgboost', 'LightGBM']\n",
      "AutoML will stack models\n",
      "AutoML will ensemble available models\n",
      "AutoML steps: ['adjust_validation', 'simple_algorithms', 'default_algorithms', 'not_so_random', 'golden_features', 'kmeans_features', 'insert_random_feature', 'features_selection', 'hill_climbing_1', 'hill_climbing_2', 'boost_on_errors', 'ensemble', 'stack', 'ensemble_stacked']\n",
      "* Step adjust_validation will try to check up to 1 model\n",
      "1_DecisionTree rmse 0.445321 trained in 28.43 seconds\n",
      "Adjust validation. Remove: 1_DecisionTree\n",
      "Validation strategy: 10-fold CV Shuffle\n",
      "Skip simple_algorithms because no parameters were generated.\n",
      "* Step default_algorithms will try to check up to 3 models\n",
      "1_Default_LightGBM rmse 0.445703 trained in 125.13 seconds\n",
      "2_Default_Xgboost rmse 0.445658 trained in 109.53 seconds\n",
      "3_Default_CatBoost rmse 0.444874 trained in 40.98 seconds\n",
      "* Step not_so_random will try to check up to 27 models\n",
      "13_LightGBM rmse 0.446237 trained in 104.24 seconds\n",
      "4_Xgboost rmse 0.446689 trained in 117.82 seconds\n",
      "22_CatBoost rmse 0.44498 trained in 49.01 seconds\n",
      "14_LightGBM rmse 0.444994 trained in 99.93 seconds\n",
      "5_Xgboost rmse 0.445858 trained in 132.01 seconds\n",
      "23_CatBoost rmse 0.445019 trained in 41.52 seconds\n",
      "15_LightGBM rmse 0.445271 trained in 105.29 seconds\n",
      "6_Xgboost rmse 0.44655 trained in 143.03 seconds\n",
      "24_CatBoost rmse 0.488264 trained in 388.54 seconds\n",
      "16_LightGBM rmse 0.446046 trained in 115.08 seconds\n",
      "7_Xgboost rmse 0.445148 trained in 116.15 seconds\n",
      "25_CatBoost rmse 0.504026 trained in 100.71 seconds\n",
      "17_LightGBM rmse 0.44619 trained in 109.99 seconds\n",
      "8_Xgboost rmse 0.445068 trained in 127.09 seconds\n",
      "26_CatBoost rmse 0.444899 trained in 88.65 seconds\n",
      "18_LightGBM rmse 0.445773 trained in 113.85 seconds\n",
      "9_Xgboost rmse 0.445152 trained in 121.61 seconds\n",
      "27_CatBoost rmse 0.500611 trained in 105.25 seconds\n",
      "19_LightGBM rmse 0.446201 trained in 116.23 seconds\n",
      "10_Xgboost rmse 0.445798 trained in 127.29 seconds\n",
      "28_CatBoost rmse 0.495929 trained in 89.94 seconds\n",
      "20_LightGBM rmse 0.446318 trained in 119.05 seconds\n",
      "11_Xgboost rmse 0.446517 trained in 146.91 seconds\n",
      "29_CatBoost rmse 0.445065 trained in 70.81 seconds\n",
      "21_LightGBM rmse 0.445873 trained in 118.03 seconds\n",
      "12_Xgboost rmse 0.445478 trained in 143.0 seconds\n",
      "30_CatBoost rmse 0.501456 trained in 183.98 seconds\n",
      "* Step golden_features will try to check up to 3 models\n",
      "None 10\n",
      "Add Golden Feature: 피크타임_sum_차대차\n",
      "Add Golden Feature: 차대차_ratio_도로\n",
      "Add Golden Feature: 차대차_multiply_도로\n",
      "Add Golden Feature: 도로_ratio_차대차\n",
      "Add Golden Feature: 차대차_sum_주말\n",
      "Add Golden Feature: 차대차_sum_도로\n",
      "Add Golden Feature: 차량전용_sum_차대차\n",
      "Add Golden Feature: 차대차_multiply_노인요양시설_개수\n",
      "Add Golden Feature: 노인요양시설_개수_ratio_차대차\n",
      "Add Golden Feature: 차대차_ratio_노인요양시설_개수\n",
      "Created 10 Golden Features in 18.38 seconds.\n",
      "3_Default_CatBoost_GoldenFeatures rmse 0.444818 trained in 101.98 seconds\n",
      "26_CatBoost_GoldenFeatures rmse 0.44481 trained in 114.19 seconds\n",
      "22_CatBoost_GoldenFeatures rmse 0.44486 trained in 82.09 seconds\n",
      "* Step kmeans_features will try to check up to 3 models\n",
      "3_Default_CatBoost_KMeansFeatures rmse 0.445159 trained in 111.66 seconds\n",
      "26_CatBoost_KMeansFeatures rmse 0.445056 trained in 155.0 seconds\n",
      "22_CatBoost_KMeansFeatures rmse 0.445125 trained in 116.8 seconds\n",
      "* Step insert_random_feature will try to check up to 1 model\n",
      "26_CatBoost_GoldenFeatures_RandomFeature rmse 0.444789 trained in 117.57 seconds\n",
      "Drop features ['차대차_ratio_도로', '차대차_ratio_노인요양시설_개수', '피크타임_sum_차대차', '피크타임', 'bicycle_ECLO', '생활서비스', '음식', 'random_feature', '법규위반지역수', '소매', '무료주차', '지역대', '숙박', '노상주차면수', '화물차사고건수', '차량전용', '경로당현황_개수', '스쿨존내어린이사고지역수', '펌프', '구급', '학문/교육', '보행노인사고사고건수', '노인요양시설_개수', '불법주정차', '화물차지역수', 'schoolzone_ECLO', '보행어린이사고사고건수', '스쿨존내어린이사고사고건수', '고가굴절', '맛집개수', 'cctv 설치개수', 'truck_ECLO', '정원', 'parking_count', '안전센터', 'violt_ECLO', 'freezing_ECLO', '결빙사고지역수', 'pedstrians_ECLO', '결빙사고사고건수', '보행자무단횡단지역수', '연휴기간사고건수', '연휴기간지역수', '구조', '보행어린이사고지역수', 'tmzon_ECLO', '보호구역', '맑음', '어린이보호구역개수', '기타', '화학', 'jaywalking_ECLO', '건조', '음주사고사고건수', 'child_ECLO', '자전거사고지역수', '보행자사고사고건수', '평지도로', '관광/여가/오락', '음주사고지역수', 'drunk_ECLO', '횡단보도개수', '소상공인상권정보_개수', '스포츠', '이륜차사고사고건수', '주차장CCTV개수', '구조대', '장 비(소방차량)계', '보행자무단횡단발생건수', '탱크', 'motorcycle_ECLO', '신호위반', '보행자사고지역수', '자전거사고사고건수', '중앙선침범', '이륜차사고지역수', '법규위반사고건수', '먹거리골목업소정보_개수', '주차장개수', '부동산', '유료주차', '보행노인사고지역수', 'oldman_ECLO']\n",
      "* Step features_selection will try to check up to 3 models\n",
      "26_CatBoost_GoldenFeatures_SelectedFeatures rmse 0.445902 trained in 63.44 seconds\n",
      "14_LightGBM_SelectedFeatures rmse 0.446375 trained in 69.3 seconds\n",
      "8_Xgboost_SelectedFeatures rmse 0.446398 trained in 77.33 seconds\n",
      "* Step hill_climbing_1 will try to check up to 16 models\n",
      "31_CatBoost_GoldenFeatures rmse 0.444795 trained in 116.95 seconds\n",
      "32_CatBoost_GoldenFeatures rmse 0.444801 trained in 108.04 seconds\n",
      "33_CatBoost_GoldenFeatures rmse 0.44486 trained in 84.85 seconds\n",
      "34_CatBoost_GoldenFeatures rmse 0.444788 trained in 92.38 seconds\n",
      "35_CatBoost_GoldenFeatures rmse 0.444886 trained in 85.39 seconds\n",
      "36_LightGBM rmse 0.445014 trained in 132.17 seconds\n",
      "37_Xgboost rmse 0.44525 trained in 158.0 seconds\n",
      "38_Xgboost rmse 0.445177 trained in 153.64 seconds\n",
      "39_Xgboost rmse 0.445171 trained in 147.6 seconds\n",
      "40_Xgboost rmse 0.445035 trained in 148.11 seconds\n",
      "41_Xgboost rmse 0.445314 trained in 159.34 seconds\n",
      "42_Xgboost rmse 0.445199 trained in 158.98 seconds\n",
      "43_LightGBM rmse 0.445311 trained in 153.71 seconds\n",
      "44_LightGBM rmse 0.445282 trained in 156.47 seconds\n",
      "45_LightGBM rmse 0.445814 trained in 159.23 seconds\n",
      "46_LightGBM rmse 0.445746 trained in 163.43 seconds\n",
      "* Step hill_climbing_2 will try to check up to 6 models\n",
      "47_CatBoost_GoldenFeatures rmse 0.444743 trained in 122.81 seconds\n",
      "48_CatBoost_GoldenFeatures rmse 0.444937 trained in 102.99 seconds\n",
      "49_CatBoost_GoldenFeatures rmse 0.444872 trained in 120.71 seconds\n",
      "50_CatBoost_GoldenFeatures rmse 0.44481 trained in 114.85 seconds\n",
      "51_LightGBM rmse 0.445047 trained in 152.47 seconds\n",
      "52_Xgboost rmse 0.445051 trained in 164.43 seconds\n",
      "* Step boost_on_errors will try to check up to 1 model\n",
      "47_CatBoost_GoldenFeatures_BoostOnErrors rmse 0.444954 trained in 117.61 seconds\n",
      "* Step ensemble will try to check up to 1 model\n",
      "Ensemble rmse 0.44461 trained in 17.26 seconds\n",
      "* Step stack will try to check up to 30 models\n",
      "47_CatBoost_GoldenFeatures_Stacked rmse 0.444591 trained in 157.9 seconds\n",
      "14_LightGBM_Stacked rmse 0.444813 trained in 179.74 seconds\n",
      "40_Xgboost_Stacked rmse 0.444764 trained in 194.99 seconds\n",
      "34_CatBoost_GoldenFeatures_Stacked rmse 0.444661 trained in 138.45 seconds\n",
      "36_LightGBM_Stacked rmse 0.444582 trained in 188.34 seconds\n",
      "52_Xgboost_Stacked rmse 0.444841 trained in 201.08 seconds\n",
      "31_CatBoost_GoldenFeatures_Stacked rmse 0.444635 trained in 176.44 seconds\n",
      "51_LightGBM_Stacked rmse 0.44463 trained in 191.09 seconds\n",
      "8_Xgboost_Stacked rmse 0.444906 trained in 219.4 seconds\n",
      "32_CatBoost_GoldenFeatures_Stacked rmse 0.444706 trained in 180.47 seconds\n",
      "15_LightGBM_Stacked rmse 0.444506 trained in 217.11 seconds\n",
      "7_Xgboost_Stacked rmse 0.444846 trained in 211.48 seconds\n",
      "50_CatBoost_GoldenFeatures_Stacked rmse 0.444624 trained in 154.91 seconds\n",
      "44_LightGBM_Stacked rmse 0.444601 trained in 198.79 seconds\n",
      "9_Xgboost_Stacked rmse 0.444987 trained in 204.71 seconds\n",
      "26_CatBoost_GoldenFeatures_Stacked rmse 0.444726 trained in 171.05 seconds\n",
      "43_LightGBM_Stacked rmse 0.444549 trained in 205.93 seconds\n",
      "39_Xgboost_Stacked rmse 0.44482 trained in 205.38 seconds\n",
      "3_Default_CatBoost_GoldenFeatures_Stacked rmse 0.444691 trained in 149.39 seconds\n",
      "1_Default_LightGBM_Stacked rmse 0.444711 trained in 210.06 seconds\n",
      "38_Xgboost_Stacked rmse 0.444924 trained in 221.15 seconds\n",
      "22_CatBoost_GoldenFeatures_Stacked rmse 0.444665 trained in 157.71 seconds\n",
      "46_LightGBM_Stacked rmse 0.444639 trained in 227.13 seconds\n",
      "42_Xgboost_Stacked rmse 0.444886 trained in 220.29 seconds\n",
      "33_CatBoost_GoldenFeatures_Stacked rmse 0.444628 trained in 158.49 seconds\n",
      "18_LightGBM_Stacked rmse 0.444994 trained in 208.6 seconds\n",
      "37_Xgboost_Stacked rmse 0.444907 trained in 232.24 seconds\n",
      "49_CatBoost_GoldenFeatures_Stacked rmse 0.444616 trained in 176.12 seconds\n",
      "45_LightGBM_Stacked rmse 0.444866 trained in 225.13 seconds\n",
      "41_Xgboost_Stacked rmse 0.444928 trained in 224.8 seconds\n",
      "* Step ensemble_stacked will try to check up to 1 model\n",
      "Ensemble_Stacked rmse 0.444167 trained in 43.84 seconds\n",
      "AutoML fit time: 13958.52 seconds\n",
      "AutoML best model: Ensemble_Stacked\n"
     ]
    },
    {
     "data": {
      "text/html": [
       "<style>#sk-container-id-1 {color: black;}#sk-container-id-1 pre{padding: 0;}#sk-container-id-1 div.sk-toggleable {background-color: white;}#sk-container-id-1 label.sk-toggleable__label {cursor: pointer;display: block;width: 100%;margin-bottom: 0;padding: 0.3em;box-sizing: border-box;text-align: center;}#sk-container-id-1 label.sk-toggleable__label-arrow:before {content: \"▸\";float: left;margin-right: 0.25em;color: #696969;}#sk-container-id-1 label.sk-toggleable__label-arrow:hover:before {color: black;}#sk-container-id-1 div.sk-estimator:hover label.sk-toggleable__label-arrow:before {color: black;}#sk-container-id-1 div.sk-toggleable__content {max-height: 0;max-width: 0;overflow: hidden;text-align: left;background-color: #f0f8ff;}#sk-container-id-1 div.sk-toggleable__content pre {margin: 0.2em;color: black;border-radius: 0.25em;background-color: #f0f8ff;}#sk-container-id-1 input.sk-toggleable__control:checked~div.sk-toggleable__content {max-height: 200px;max-width: 100%;overflow: auto;}#sk-container-id-1 input.sk-toggleable__control:checked~label.sk-toggleable__label-arrow:before {content: \"▾\";}#sk-container-id-1 div.sk-estimator input.sk-toggleable__control:checked~label.sk-toggleable__label {background-color: #d4ebff;}#sk-container-id-1 div.sk-label input.sk-toggleable__control:checked~label.sk-toggleable__label {background-color: #d4ebff;}#sk-container-id-1 input.sk-hidden--visually {border: 0;clip: rect(1px 1px 1px 1px);clip: rect(1px, 1px, 1px, 1px);height: 1px;margin: -1px;overflow: hidden;padding: 0;position: absolute;width: 1px;}#sk-container-id-1 div.sk-estimator {font-family: monospace;background-color: #f0f8ff;border: 1px dotted black;border-radius: 0.25em;box-sizing: border-box;margin-bottom: 0.5em;}#sk-container-id-1 div.sk-estimator:hover {background-color: #d4ebff;}#sk-container-id-1 div.sk-parallel-item::after {content: \"\";width: 100%;border-bottom: 1px solid gray;flex-grow: 1;}#sk-container-id-1 div.sk-label:hover label.sk-toggleable__label {background-color: #d4ebff;}#sk-container-id-1 div.sk-serial::before {content: \"\";position: absolute;border-left: 1px solid gray;box-sizing: border-box;top: 0;bottom: 0;left: 50%;z-index: 0;}#sk-container-id-1 div.sk-serial {display: flex;flex-direction: column;align-items: center;background-color: white;padding-right: 0.2em;padding-left: 0.2em;position: relative;}#sk-container-id-1 div.sk-item {position: relative;z-index: 1;}#sk-container-id-1 div.sk-parallel {display: flex;align-items: stretch;justify-content: center;background-color: white;position: relative;}#sk-container-id-1 div.sk-item::before, #sk-container-id-1 div.sk-parallel-item::before {content: \"\";position: absolute;border-left: 1px solid gray;box-sizing: border-box;top: 0;bottom: 0;left: 50%;z-index: -1;}#sk-container-id-1 div.sk-parallel-item {display: flex;flex-direction: column;z-index: 1;position: relative;background-color: white;}#sk-container-id-1 div.sk-parallel-item:first-child::after {align-self: flex-end;width: 50%;}#sk-container-id-1 div.sk-parallel-item:last-child::after {align-self: flex-start;width: 50%;}#sk-container-id-1 div.sk-parallel-item:only-child::after {width: 0;}#sk-container-id-1 div.sk-dashed-wrapped {border: 1px dashed gray;margin: 0 0.4em 0.5em 0.4em;box-sizing: border-box;padding-bottom: 0.4em;background-color: white;}#sk-container-id-1 div.sk-label label {font-family: monospace;font-weight: bold;display: inline-block;line-height: 1.2em;}#sk-container-id-1 div.sk-label-container {text-align: center;}#sk-container-id-1 div.sk-container {/* jupyter's `normalize.less` sets `[hidden] { display: none; }` but bootstrap.min.css set `[hidden] { display: none !important; }` so we also need the `!important` here to be able to override the default hidden behavior on the sphinx rendered scikit-learn.org. See: https://github.com/scikit-learn/scikit-learn/issues/21755 */display: inline-block !important;position: relative;}#sk-container-id-1 div.sk-text-repr-fallback {display: none;}</style><div id=\"sk-container-id-1\" class=\"sk-top-container\"><div class=\"sk-text-repr-fallback\"><pre>AutoML(algorithms=[&#x27;CatBoost&#x27;, &#x27;Xgboost&#x27;, &#x27;LightGBM&#x27;], eval_metric=&#x27;rmse&#x27;,\n",
       "       explain_level=2, ml_task=&#x27;regression&#x27;, mode=&#x27;Compete&#x27;, random_state=42,\n",
       "       results_path=&#x27;../Model/AutoML_mae_merged_data_log1p/&#x27;,\n",
       "       total_time_limit=43200)</pre><b>In a Jupyter environment, please rerun this cell to show the HTML representation or trust the notebook. <br />On GitHub, the HTML representation is unable to render, please try loading this page with nbviewer.org.</b></div><div class=\"sk-container\" hidden><div class=\"sk-item\"><div class=\"sk-estimator sk-toggleable\"><input class=\"sk-toggleable__control sk-hidden--visually\" id=\"sk-estimator-id-1\" type=\"checkbox\" checked><label for=\"sk-estimator-id-1\" class=\"sk-toggleable__label sk-toggleable__label-arrow\">AutoML</label><div class=\"sk-toggleable__content\"><pre>AutoML(algorithms=[&#x27;CatBoost&#x27;, &#x27;Xgboost&#x27;, &#x27;LightGBM&#x27;], eval_metric=&#x27;rmse&#x27;,\n",
       "       explain_level=2, ml_task=&#x27;regression&#x27;, mode=&#x27;Compete&#x27;, random_state=42,\n",
       "       results_path=&#x27;../Model/AutoML_mae_merged_data_log1p/&#x27;,\n",
       "       total_time_limit=43200)</pre></div></div></div></div></div>"
      ],
      "text/plain": [
       "AutoML(algorithms=['CatBoost', 'Xgboost', 'LightGBM'], eval_metric='rmse',\n",
       "       explain_level=2, ml_task='regression', mode='Compete', random_state=42,\n",
       "       results_path='../Model/AutoML_mae_merged_data_log1p/',\n",
       "       total_time_limit=43200)"
      ]
     },
     "execution_count": 23,
     "metadata": {},
     "output_type": "execute_result"
    }
   ],
   "source": [
    "# fitting\n",
    "automl.fit(x_train, y_train)"
   ]
  },
  {
   "cell_type": "code",
   "execution_count": 24,
   "metadata": {},
   "outputs": [],
   "source": [
    "preds = automl.predict(test_merge7)"
   ]
  },
  {
   "cell_type": "code",
   "execution_count": 30,
   "metadata": {},
   "outputs": [],
   "source": [
    "import math"
   ]
  },
  {
   "cell_type": "code",
   "execution_count": 67,
   "metadata": {},
   "outputs": [],
   "source": [
    "# submission 만들기\n",
    "sample_submission = pd.read_csv('../Data/sample_submission.csv')\n",
    "baseline_submission = sample_submission.copy()\n",
    "baseline_submission['ECLO'] = np.expm1(preds)\n",
    "baseline_submission.to_csv('../Data/AutoML_rmse_merged_data_log1p_round2.csv', index = False, encoding = 'cp949')"
   ]
  },
  {
   "cell_type": "code",
   "execution_count": null,
   "metadata": {},
   "outputs": [],
   "source": []
  }
 ],
 "metadata": {
  "kernelspec": {
   "display_name": "ss",
   "language": "python",
   "name": "python3"
  },
  "language_info": {
   "codemirror_mode": {
    "name": "ipython",
    "version": 3
   },
   "file_extension": ".py",
   "mimetype": "text/x-python",
   "name": "python",
   "nbconvert_exporter": "python",
   "pygments_lexer": "ipython3",
   "version": "3.8.17"
  }
 },
 "nbformat": 4,
 "nbformat_minor": 2
}
