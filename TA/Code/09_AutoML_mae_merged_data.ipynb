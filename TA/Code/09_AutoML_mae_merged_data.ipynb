{
 "cells": [
  {
   "cell_type": "markdown",
   "metadata": {},
   "source": [
    "# Merged data AutoML\n",
    "\n",
    "## 1. setting modules"
   ]
  },
  {
   "cell_type": "code",
   "execution_count": 1,
   "metadata": {},
   "outputs": [
    {
     "name": "stderr",
     "output_type": "stream",
     "text": [
      "Using `tqdm.autonotebook.tqdm` in notebook mode. Use `tqdm.tqdm` instead to force console mode (e.g. in jupyter console)\n"
     ]
    }
   ],
   "source": [
    "# load modules\n",
    "import numpy as np\n",
    "import pandas as pd\n",
    "import geopandas as gpd\n",
    "import tqdm\n",
    "import random\n",
    "import os\n",
    "import fiona\n",
    "import sqlite3\n",
    "from shapely import wkb\n",
    "from pyproj import Proj, transform\n",
    "import csv\n",
    "import chardet\n",
    "\n",
    "# split\n",
    "from sklearn.model_selection import train_test_split\n",
    "\n",
    "# models \n",
    "from xgboost import XGBRegressor, DMatrix\n",
    "import xgboost as xgb\n",
    "from lightgbm import LGBMRegressor\n",
    "from catboost import CatBoostRegressor\n",
    "from supervised.automl import AutoML\n",
    "\n",
    "# tuning\n",
    "import optuna\n",
    "\n",
    "# vif\n",
    "from statsmodels.stats.outliers_influence import variance_inflation_factor\n",
    "\n",
    "# visualization\n",
    "from matplotlib import pyplot as plt\n",
    "import seaborn as sns\n",
    "import matplotlib as mpl\n",
    "import plotly\n",
    "from shapely.geometry import MultiPolygon\n",
    "from shapely.wkt import loads\n",
    "\n",
    "# metrics\n",
    "from sklearn.metrics import mean_squared_log_error\n",
    "\n",
    "# 경고 무시\n",
    "import warnings\n",
    "warnings.filterwarnings('ignore')\n",
    "\n",
    "# test\n",
    "import scipy.stats as stats\n",
    "from statsmodels.stats.anova import anova_lm\n",
    "from statsmodels.formula.api import ols\n",
    "from statsmodels.stats.multicomp import pairwise_tukeyhsd\n",
    "from statsmodels.tsa.seasonal import seasonal_decompose\n",
    "\n",
    "%matplotlib inline"
   ]
  },
  {
   "cell_type": "code",
   "execution_count": 2,
   "metadata": {},
   "outputs": [],
   "source": [
    "plt.rcParams['font.family'] = 'NanumSquare'\n",
    "plt.rcParams['font.size'] = 10"
   ]
  },
  {
   "cell_type": "code",
   "execution_count": 3,
   "metadata": {},
   "outputs": [],
   "source": [
    "# load pd data\n",
    "cross = pd.read_csv('../Data/cross100_address.csv', encoding='cp949')\n",
    "park_cctv = pd.read_csv('../Data/bigdatamart/주차단속카메라정보.csv', encoding='cp949')\n",
    "rest = pd.read_csv('../Data/bigdatamart/소상공인시장진흥공단_상가(상권)정보_대구_202109.csv')\n",
    "corner = pd.read_csv('../Data/bigdatamart/먹거리골목업소정보.csv', encoding = 'cp949')\n",
    "nadel = pd.read_csv('../Data/bigdatamart/소상공인시장진흥공단_전국 나들가게 현황(CSV)_20210512.csv', encoding = 'cp949')\n",
    "baek = pd.read_csv('../Data/bigdatamart/소상공인시장진흥공단_전국 백년가게 현황_20220713.csv', encoding='cp949')\n",
    "train = pd.read_csv('../Data/train_4.csv', encoding='cp949')\n",
    "test = pd.read_csv('../Data/test_4.csv', encoding='cp949')\n",
    "m4 = pd.read_csv('../Data/bigdatamart/merge_3_data_by_dongga.csv', encoding='cp949')\n",
    "train_merge = pd.read_csv('../Data/train_merged_with_parking.csv', encoding='cp949')\n",
    "test_merge = pd.read_csv('../Data/test_merged_with_parking.csv', encoding='cp949')"
   ]
  },
  {
   "cell_type": "code",
   "execution_count": 4,
   "metadata": {},
   "outputs": [],
   "source": [
    "# random seed 고정하기\n",
    "def seed_everything(seed):\n",
    "    random.seed(seed)\n",
    "    os.environ['PYTHONHASHSEED'] = str(seed)\n",
    "    np.random.seed(seed)\n",
    "\n",
    "seed_everything(42) # Seed 고정"
   ]
  },
  {
   "cell_type": "code",
   "execution_count": 5,
   "metadata": {},
   "outputs": [],
   "source": [
    "# train, test 추가변수 생성 완료\n",
    "train_merge[train.columns[~train.columns.isin(train_merge.columns)]] = train[train.columns[~train.columns.isin(train_merge.columns)]]\n",
    "test_merge[test.columns[~test.columns.isin(test_merge.columns)]] = test[test.columns[~test.columns.isin(test_merge.columns)]]"
   ]
  },
  {
   "cell_type": "code",
   "execution_count": 6,
   "metadata": {},
   "outputs": [],
   "source": [
    "# 미리 저장하기\n",
    "#train_merge.to_csv('../Data/train_4.csv', index = False, encoding = 'cp949')\n",
    "#test_merge.to_csv('../Data/test_4.csv', index = False, encoding = 'cp949')"
   ]
  },
  {
   "cell_type": "markdown",
   "metadata": {},
   "source": [
    "## 2. Preprocessing"
   ]
  },
  {
   "cell_type": "code",
   "execution_count": 7,
   "metadata": {},
   "outputs": [],
   "source": [
    "# 요일: 주말과 평균으로 나눔\n",
    "train_merge['주말'] = np.where(train_merge['요일'].isin(['토요일', '일요일']), 1, 0)\n",
    "test_merge['주말'] = np.where(test_merge['요일'].isin(['토요일', '일요일']), 1, 0)"
   ]
  },
  {
   "cell_type": "code",
   "execution_count": 8,
   "metadata": {},
   "outputs": [],
   "source": [
    "# 사고 시간\n",
    "train_merge['피크타임'] = np.where(train_merge['시간'] > 6, 0, 1)\n",
    "test_merge['피크타임'] = np.where(test_merge['시간'] > 6, 0, 1)"
   ]
  },
  {
   "cell_type": "code",
   "execution_count": 9,
   "metadata": {},
   "outputs": [],
   "source": [
    "# 기상상태\n",
    "train_merge['맑음'] = np.where(train_merge['기상상태'] == '맑음', 1, 0)\n",
    "test_merge['맑음'] = np.where(test_merge['기상상태'] == '맑음', 1, 0)"
   ]
  },
  {
   "cell_type": "code",
   "execution_count": 10,
   "metadata": {},
   "outputs": [],
   "source": [
    "# 교차로\n",
    "train_merge['도로'] = np.where(train_merge['도로형태1'].isin(['단일로', '교차로']), train_merge['도로형태1'], '기타')\n",
    "test_merge['도로'] = np.where(test_merge['도로형태1'].isin(['단일로', '교차로']), test_merge['도로형태1'], '기타')"
   ]
  },
  {
   "cell_type": "code",
   "execution_count": 11,
   "metadata": {},
   "outputs": [],
   "source": [
    "# 노면상태\n",
    "train_merge['건조'] = np.where(train_merge['노면상태'] == '건조', 1, 0)\n",
    "test_merge['건조'] = np.where(test_merge['노면상태'] == '건조', 1, 0)"
   ]
  },
  {
   "cell_type": "code",
   "execution_count": 12,
   "metadata": {},
   "outputs": [],
   "source": [
    "# 사고유형\n",
    "train_merge['차대차'] = np.where(train_merge['사고유형'] == '차대차', 1, 0)\n",
    "test_merge['차대차'] = np.where(test_merge['사고유형'] == '차대차', 1, 0)"
   ]
  },
  {
   "cell_type": "code",
   "execution_count": 13,
   "metadata": {},
   "outputs": [],
   "source": [
    "# test에 없는 train 변수 중 ECLO를 제외하고 삭제하자\n",
    "train_merge2 = train_merge[train_merge.columns[train_merge.columns.isin(test_merge.columns)]]\n",
    "train_merge2['ECLO'] = train_merge['ECLO']"
   ]
  },
  {
   "cell_type": "markdown",
   "metadata": {},
   "source": [
    "### 기존 계획했던 변수 변환은 끝났고 다음 변수 선택 및 변환을 적용하자"
   ]
  },
  {
   "cell_type": "code",
   "execution_count": 14,
   "metadata": {},
   "outputs": [],
   "source": [
    "# 사망자수 컬럼 제외\n",
    "train_merge3 = train_merge2[train_merge2.columns[~train_merge2.columns.str.contains('사망자수')]]\n",
    "test_merge3 = test_merge[test_merge.columns[~test_merge.columns.str.contains('사망자수')]]"
   ]
  },
  {
   "cell_type": "code",
   "execution_count": 15,
   "metadata": {},
   "outputs": [],
   "source": [
    "# 부상자수 컬럼 제외\n",
    "train_merge4 = train_merge3[train_merge3.columns[~train_merge3.columns.str.contains('부상자수')]]\n",
    "test_merge4 = test_merge3[test_merge3.columns[~test_merge3.columns.str.contains('부상자수')]]"
   ]
  },
  {
   "cell_type": "code",
   "execution_count": 16,
   "metadata": {},
   "outputs": [],
   "source": [
    "# 경상자수 컬럼 제외\n",
    "train_merge5 = train_merge4[train_merge4.columns[~train_merge4.columns.str.contains('경상자수')]]\n",
    "test_merge5 = test_merge4[test_merge4.columns[~test_merge4.columns.str.contains('경상자수')]]"
   ]
  },
  {
   "cell_type": "code",
   "execution_count": 17,
   "metadata": {},
   "outputs": [],
   "source": [
    "# 중상자수 컬럼 제외\n",
    "train_merge6 = train_merge5[train_merge5.columns[~train_merge5.columns.str.contains('중상자수')]]\n",
    "test_merge6 = test_merge5[test_merge5.columns[~test_merge5.columns.str.contains('중상자수')]]"
   ]
  },
  {
   "cell_type": "code",
   "execution_count": 18,
   "metadata": {},
   "outputs": [],
   "source": [
    "# 필요없는 변수 제외\n",
    "train_merge7 = train_merge6.drop(['ID', '요일', '기상상태', '노면상태', '사고유형',\n",
    "                                  '연', '월', '일', '시간', 'sin_hour', 'cos_hour', \n",
    "                                  '도시', '구', '동', '도로형태1', '도로형태2', '상권total',\n",
    "                                  '도로형태', '시군구', '시', '군구', '동가', '사고일시'], axis = 1).fillna(0)\n",
    "test_merge7 = test_merge6.drop(['ID', '요일', '기상상태', '노면상태', '사고유형',\n",
    "                                  '연', '월', '일', '시간', 'sin_hour', 'cos_hour', \n",
    "                                  '도시', '구', '동', '도로형태1', '도로형태2', '상권total',\n",
    "                                  '도로형태', '시군구', '시', '군구', '동가', '사고일시', '주차단속카메라_개수'], axis = 1).fillna(0)"
   ]
  },
  {
   "cell_type": "code",
   "execution_count": 19,
   "metadata": {},
   "outputs": [],
   "source": [
    "# 미리 저장하기\n",
    "train_merge7.to_csv('../Data/train_5.csv', index = False, encoding = 'cp949')\n",
    "test_merge7.to_csv('../Data/test_5.csv', index = False, encoding = 'cp949')"
   ]
  },
  {
   "cell_type": "code",
   "execution_count": 20,
   "metadata": {},
   "outputs": [],
   "source": [
    "# 타겟인코딩\n",
    "target_encoded=train_merge7.groupby('도로')['ECLO'].mean()\n",
    "train_merge7['도로']=train_merge7['도로'].map(target_encoded)\n",
    "test_merge7['도로']=test_merge7['도로'].map(target_encoded)"
   ]
  },
  {
   "cell_type": "markdown",
   "metadata": {},
   "source": [
    "## 3. Modeling"
   ]
  },
  {
   "cell_type": "code",
   "execution_count": 21,
   "metadata": {},
   "outputs": [],
   "source": [
    "# train test split\n",
    "x_train = train_merge7[train_merge7.columns.difference(['ECLO'])]\n",
    "y_train = train_merge7['ECLO']"
   ]
  },
  {
   "cell_type": "code",
   "execution_count": 22,
   "metadata": {},
   "outputs": [],
   "source": [
    "# automl modeling\n",
    "automl = AutoML(mode=\"Compete\",\n",
    "                algorithms=[\"CatBoost\",\n",
    "                            \"Xgboost\",\n",
    "                            \"LightGBM\",\n",
    "                            ], \n",
    "                ml_task = \"regression\",\n",
    "                eval_metric = 'mae',\n",
    "                random_state = 42,\n",
    "                n_jobs = -1,\n",
    "                total_time_limit=43200,\n",
    "                results_path = '../Model/AutoML_mae_merged_data/',\n",
    "                explain_level=2\n",
    "               )"
   ]
  },
  {
   "cell_type": "code",
   "execution_count": 23,
   "metadata": {},
   "outputs": [
    {
     "name": "stdout",
     "output_type": "stream",
     "text": [
      "AutoML directory: ../Model/AutoML_mae_merged_data/\n",
      "The task is regression with evaluation metric mae\n",
      "AutoML will use algorithms: ['CatBoost', 'Xgboost', 'LightGBM']\n",
      "AutoML will stack models\n",
      "AutoML will ensemble available models\n"
     ]
    },
    {
     "name": "stdout",
     "output_type": "stream",
     "text": [
      "AutoML steps: ['adjust_validation', 'simple_algorithms', 'default_algorithms', 'not_so_random', 'golden_features', 'kmeans_features', 'insert_random_feature', 'features_selection', 'hill_climbing_1', 'hill_climbing_2', 'boost_on_errors', 'ensemble', 'stack', 'ensemble_stacked']\n",
      "* Step adjust_validation will try to check up to 1 model\n",
      "1_DecisionTree mae 2.152893 trained in 27.71 seconds\n",
      "Adjust validation. Remove: 1_DecisionTree\n",
      "Validation strategy: 10-fold CV Shuffle\n",
      "Skip simple_algorithms because no parameters were generated.\n",
      "* Step default_algorithms will try to check up to 3 models\n",
      "1_Default_LightGBM mae 2.041616 trained in 130.1 seconds\n",
      "2_Default_Xgboost mae 2.041328 trained in 108.86 seconds\n",
      "3_Default_CatBoost mae 2.037985 trained in 48.97 seconds\n",
      "* Step not_so_random will try to check up to 27 models\n",
      "13_LightGBM mae 2.041152 trained in 105.93 seconds\n",
      "4_Xgboost mae 2.043465 trained in 113.15 seconds\n",
      "22_CatBoost mae 2.038188 trained in 59.43 seconds\n",
      "14_LightGBM mae 2.040166 trained in 97.16 seconds\n",
      "5_Xgboost mae 2.040721 trained in 111.26 seconds\n",
      "23_CatBoost mae 2.039071 trained in 46.79 seconds\n",
      "15_LightGBM mae 2.039767 trained in 119.79 seconds\n",
      "6_Xgboost mae 2.043459 trained in 154.6 seconds\n",
      "24_CatBoost mae 1.984476 trained in 91.48 seconds\n",
      "16_LightGBM mae 2.043538 trained in 122.34 seconds\n",
      "7_Xgboost mae 2.038795 trained in 119.37 seconds\n",
      "25_CatBoost mae 1.983272 trained in 72.9 seconds\n",
      "17_LightGBM mae 2.041524 trained in 111.56 seconds\n",
      "8_Xgboost mae 2.038747 trained in 142.31 seconds\n",
      "26_CatBoost mae 2.038358 trained in 123.28 seconds\n",
      "18_LightGBM mae 2.041207 trained in 114.41 seconds\n",
      "9_Xgboost mae 2.039605 trained in 129.39 seconds\n",
      "27_CatBoost mae 1.982446 trained in 72.07 seconds\n",
      "19_LightGBM mae 2.042176 trained in 122.61 seconds\n",
      "10_Xgboost mae 2.041234 trained in 133.25 seconds\n",
      "28_CatBoost mae 1.982191 trained in 72.93 seconds\n",
      "20_LightGBM mae 2.043653 trained in 145.23 seconds\n",
      "11_Xgboost mae 2.041906 trained in 152.99 seconds\n",
      "29_CatBoost mae 2.038497 trained in 82.26 seconds\n",
      "21_LightGBM mae 2.042604 trained in 122.77 seconds\n",
      "12_Xgboost mae 2.03949 trained in 150.51 seconds\n",
      "30_CatBoost mae 1.984327 trained in 109.05 seconds\n",
      "* Step golden_features will try to check up to 3 models\n",
      "None 10\n",
      "Add Golden Feature: 차대차_sum_주말\n",
      "Add Golden Feature: 도로_ratio_차대차\n",
      "Add Golden Feature: 차대차_multiply_도로\n",
      "Add Golden Feature: 차대차_ratio_도로\n",
      "Add Golden Feature: 피크타임_sum_차대차\n",
      "Add Golden Feature: 소상공인상권정보_개수_ratio_차대차\n",
      "Add Golden Feature: 차대차_multiply_소상공인상권정보_개수\n",
      "Add Golden Feature: 차대차_ratio_소상공인상권정보_개수\n",
      "Add Golden Feature: 차대차_sum_도로\n",
      "Add Golden Feature: 건조_diff_차대차\n",
      "Created 10 Golden Features in 14.65 seconds.\n",
      "28_CatBoost_GoldenFeatures mae 1.981716 trained in 96.21 seconds\n",
      "27_CatBoost_GoldenFeatures mae 1.982777 trained in 89.95 seconds\n",
      "25_CatBoost_GoldenFeatures mae 1.982285 trained in 95.17 seconds\n",
      "* Step kmeans_features will try to check up to 3 models\n",
      "28_CatBoost_KMeansFeatures mae 1.983854 trained in 111.2 seconds\n",
      "27_CatBoost_KMeansFeatures mae 1.983803 trained in 122.99 seconds\n",
      "25_CatBoost_KMeansFeatures mae 1.981962 trained in 126.46 seconds\n",
      "* Step insert_random_feature will try to check up to 1 model\n",
      "28_CatBoost_GoldenFeatures_RandomFeature mae 1.983019 trained in 81.85 seconds\n",
      "Drop features ['맑음', 'schoolzone_ECLO', '보행노인사고지역수', '스쿨존내어린이사고지역수', '유료주차', 'parking_count', '화물차사고건수', 'truck_ECLO', '정원', '구급', '결빙사고지역수', 'tmzon_ECLO', 'freezing_ECLO', '연휴기간사고건수', '결빙사고사고건수', '연휴기간지역수', '중앙선침범', '차량전용', '차대차', '어린이보호구역개수', '펌프', '노상주차면수', 'random_feature', '보행어린이사고사고건수', '무료주차', '건조', '기타', '차대차_multiply_소상공인상권정보_개수', '관광/여가/오락', '이륜차사고사고건수', '장 비(소방차량)계', '맛집개수', '보행어린이사고지역수', '횡단보도개수', '노인요양시설_개수', '탱크', '시간', '화물차지역수', '평지도로', '경로당현황_개수', '숙박', '음주사고지역수', '안전센터', '지역대', '자전거사고지역수', '스쿨존내어린이사고사고건수', 'oldman_ECLO', '이륜차사고지역수', '보행자사고사고건수', '보행자무단횡단지역수', 'jaywalking_ECLO', 'child_ECLO', '학문/교육', '고가굴절', '구조', '법규위반지역수', '화학', '불법주정차', '법규위반사고건수', '생활서비스', '보행자사고지역수', 'drunk_ECLO', '구조대', '신호위반', '소상공인상권정보_개수', '소매', '음주사고사고건수', '스포츠', '건조_diff_차대차', '도로', '차대차_ratio_도로', 'cctv 설치개수', '주차장CCTV개수', '피크타임_sum_차대차', '주차장개수', '차대차_sum_도로', '음식', '자전거사고사고건수', 'violt_ECLO', '부동산', 'bicycle_ECLO', '보호구역', '보행자무단횡단발생건수', '피크타임', 'motorcycle_ECLO', '주말', '차대차_ratio_소상공인상권정보_개수', 'pedstrians_ECLO', '도로_ratio_차대차', '차대차_multiply_도로', '소상공인상권정보_개수_ratio_차대차', '먹거리골목업소정보_개수', '보행노인사고사고건수']\n",
      "* Step features_selection will try to check up to 3 models\n",
      "28_CatBoost_GoldenFeatures_SelectedFeatures mae 1.994622 trained in 57.65 seconds\n"
     ]
    },
    {
     "name": "stderr",
     "output_type": "stream",
     "text": [
      "2023-12-10 03:54:00,735 supervised.exceptions ERROR All features are droppped! Your data looks like random data.\n",
      "2023-12-10 03:54:00,914 supervised.exceptions ERROR All features are droppped! Your data looks like random data.\n"
     ]
    },
    {
     "name": "stdout",
     "output_type": "stream",
     "text": [
      "There was an error during 8_Xgboost_SelectedFeatures training.\n",
      "Please check ../Model/AutoML_mae_merged_data/errors.md for details.\n",
      "There was an error during 15_LightGBM_SelectedFeatures training.\n",
      "Please check ../Model/AutoML_mae_merged_data/errors.md for details.\n",
      "* Step hill_climbing_1 will try to check up to 13 models\n",
      "31_CatBoost_GoldenFeatures mae 1.982057 trained in 109.52 seconds\n",
      "32_CatBoost mae 1.982881 trained in 146.77 seconds\n",
      "33_CatBoost mae 1.981416 trained in 150.93 seconds\n",
      "34_CatBoost mae 1.982992 trained in 79.92 seconds\n",
      "35_Xgboost mae 2.03871 trained in 150.99 seconds\n",
      "36_Xgboost mae 2.03861 trained in 150.13 seconds\n",
      "37_Xgboost mae 2.03963 trained in 143.96 seconds\n",
      "38_Xgboost mae 2.04045 trained in 152.87 seconds\n",
      "39_LightGBM mae 2.039195 trained in 152.66 seconds\n",
      "40_LightGBM mae 2.041098 trained in 157.42 seconds\n",
      "41_LightGBM mae 2.040673 trained in 144.28 seconds\n",
      "42_LightGBM mae 2.040919 trained in 203.33 seconds\n",
      "43_LightGBM mae 2.041449 trained in 212.35 seconds\n",
      "* Step hill_climbing_2 will try to check up to 7 models\n",
      "44_CatBoost mae 1.983848 trained in 211.43 seconds\n",
      "45_CatBoost mae 1.981384 trained in 150.37 seconds\n",
      "46_CatBoost_GoldenFeatures mae 1.9827 trained in 107.29 seconds\n",
      "47_CatBoost mae 1.984091 trained in 163.07 seconds\n",
      "48_CatBoost mae 1.982115 trained in 134.74 seconds\n",
      "49_Xgboost mae 2.038504 trained in 171.97 seconds\n",
      "50_Xgboost mae 2.039315 trained in 168.55 seconds\n",
      "* Step boost_on_errors will try to check up to 1 model\n",
      "45_CatBoost_BoostOnErrors mae 1.983806 trained in 147.18 seconds\n",
      "* Step ensemble will try to check up to 1 model\n",
      "Ensemble mae 1.980053 trained in 15.18 seconds\n",
      "* Step stack will try to check up to 30 models\n",
      "45_CatBoost_Stacked mae 1.977825 trained in 147.25 seconds\n",
      "49_Xgboost_Stacked mae 2.040029 trained in 190.84 seconds\n",
      "39_LightGBM_Stacked mae 2.038909 trained in 194.8 seconds\n",
      "33_CatBoost_Stacked mae 1.978287 trained in 154.32 seconds\n",
      "36_Xgboost_Stacked mae 2.039584 trained in 196.81 seconds\n",
      "15_LightGBM_Stacked mae 2.039237 trained in 199.94 seconds\n",
      "28_CatBoost_GoldenFeatures_Stacked mae 1.978652 trained in 130.26 seconds\n",
      "35_Xgboost_Stacked mae 2.039999 trained in 203.6 seconds\n",
      "14_LightGBM_Stacked mae 2.03918 trained in 184.61 seconds\n",
      "25_CatBoost_KMeansFeatures_Stacked mae 1.977175 trained in 166.35 seconds\n",
      "8_Xgboost_Stacked mae 2.038128 trained in 223.52 seconds\n",
      "41_LightGBM_Stacked mae 2.039622 trained in 192.23 seconds\n",
      "31_CatBoost_GoldenFeatures_Stacked mae 1.979472 trained in 143.63 seconds\n",
      "7_Xgboost_Stacked mae 2.039355 trained in 208.11 seconds\n",
      "42_LightGBM_Stacked mae 2.038837 trained in 212.77 seconds\n",
      "48_CatBoost_Stacked mae 1.977466 trained in 164.07 seconds\n",
      "50_Xgboost_Stacked mae 2.040684 trained in 214.08 seconds\n",
      "40_LightGBM_Stacked mae 2.03856 trained in 224.21 seconds\n",
      "28_CatBoost_Stacked mae 1.980047 trained in 139.51 seconds\n",
      "12_Xgboost_Stacked mae 2.039577 trained in 241.67 seconds\n",
      "13_LightGBM_Stacked mae 2.03718 trained in 227.88 seconds\n",
      "25_CatBoost_GoldenFeatures_Stacked mae 1.977601 trained in 160.27 seconds\n",
      "9_Xgboost_Stacked mae 2.040473 trained in 222.87 seconds\n",
      "18_LightGBM_Stacked mae 2.03788 trained in 223.51 seconds\n",
      "27_CatBoost_Stacked mae 1.979094 trained in 151.14 seconds\n",
      "37_Xgboost_Stacked mae 2.038863 trained in 223.02 seconds\n",
      "43_LightGBM_Stacked mae 2.036415 trained in 272.87 seconds\n",
      "46_CatBoost_GoldenFeatures_Stacked mae 1.980515 trained in 166.57 seconds\n",
      "38_Xgboost_Stacked mae 2.039026 trained in 245.55 seconds\n",
      "17_LightGBM_Stacked mae 2.04062 trained in 217.23 seconds\n",
      "* Step ensemble_stacked will try to check up to 1 model\n",
      "Ensemble_Stacked mae 1.977128 trained in 45.36 seconds\n",
      "AutoML fit time: 13602.64 seconds\n",
      "AutoML best model: Ensemble_Stacked\n"
     ]
    },
    {
     "data": {
      "text/html": [
       "<style>#sk-container-id-1 {color: black;}#sk-container-id-1 pre{padding: 0;}#sk-container-id-1 div.sk-toggleable {background-color: white;}#sk-container-id-1 label.sk-toggleable__label {cursor: pointer;display: block;width: 100%;margin-bottom: 0;padding: 0.3em;box-sizing: border-box;text-align: center;}#sk-container-id-1 label.sk-toggleable__label-arrow:before {content: \"▸\";float: left;margin-right: 0.25em;color: #696969;}#sk-container-id-1 label.sk-toggleable__label-arrow:hover:before {color: black;}#sk-container-id-1 div.sk-estimator:hover label.sk-toggleable__label-arrow:before {color: black;}#sk-container-id-1 div.sk-toggleable__content {max-height: 0;max-width: 0;overflow: hidden;text-align: left;background-color: #f0f8ff;}#sk-container-id-1 div.sk-toggleable__content pre {margin: 0.2em;color: black;border-radius: 0.25em;background-color: #f0f8ff;}#sk-container-id-1 input.sk-toggleable__control:checked~div.sk-toggleable__content {max-height: 200px;max-width: 100%;overflow: auto;}#sk-container-id-1 input.sk-toggleable__control:checked~label.sk-toggleable__label-arrow:before {content: \"▾\";}#sk-container-id-1 div.sk-estimator input.sk-toggleable__control:checked~label.sk-toggleable__label {background-color: #d4ebff;}#sk-container-id-1 div.sk-label input.sk-toggleable__control:checked~label.sk-toggleable__label {background-color: #d4ebff;}#sk-container-id-1 input.sk-hidden--visually {border: 0;clip: rect(1px 1px 1px 1px);clip: rect(1px, 1px, 1px, 1px);height: 1px;margin: -1px;overflow: hidden;padding: 0;position: absolute;width: 1px;}#sk-container-id-1 div.sk-estimator {font-family: monospace;background-color: #f0f8ff;border: 1px dotted black;border-radius: 0.25em;box-sizing: border-box;margin-bottom: 0.5em;}#sk-container-id-1 div.sk-estimator:hover {background-color: #d4ebff;}#sk-container-id-1 div.sk-parallel-item::after {content: \"\";width: 100%;border-bottom: 1px solid gray;flex-grow: 1;}#sk-container-id-1 div.sk-label:hover label.sk-toggleable__label {background-color: #d4ebff;}#sk-container-id-1 div.sk-serial::before {content: \"\";position: absolute;border-left: 1px solid gray;box-sizing: border-box;top: 0;bottom: 0;left: 50%;z-index: 0;}#sk-container-id-1 div.sk-serial {display: flex;flex-direction: column;align-items: center;background-color: white;padding-right: 0.2em;padding-left: 0.2em;position: relative;}#sk-container-id-1 div.sk-item {position: relative;z-index: 1;}#sk-container-id-1 div.sk-parallel {display: flex;align-items: stretch;justify-content: center;background-color: white;position: relative;}#sk-container-id-1 div.sk-item::before, #sk-container-id-1 div.sk-parallel-item::before {content: \"\";position: absolute;border-left: 1px solid gray;box-sizing: border-box;top: 0;bottom: 0;left: 50%;z-index: -1;}#sk-container-id-1 div.sk-parallel-item {display: flex;flex-direction: column;z-index: 1;position: relative;background-color: white;}#sk-container-id-1 div.sk-parallel-item:first-child::after {align-self: flex-end;width: 50%;}#sk-container-id-1 div.sk-parallel-item:last-child::after {align-self: flex-start;width: 50%;}#sk-container-id-1 div.sk-parallel-item:only-child::after {width: 0;}#sk-container-id-1 div.sk-dashed-wrapped {border: 1px dashed gray;margin: 0 0.4em 0.5em 0.4em;box-sizing: border-box;padding-bottom: 0.4em;background-color: white;}#sk-container-id-1 div.sk-label label {font-family: monospace;font-weight: bold;display: inline-block;line-height: 1.2em;}#sk-container-id-1 div.sk-label-container {text-align: center;}#sk-container-id-1 div.sk-container {/* jupyter's `normalize.less` sets `[hidden] { display: none; }` but bootstrap.min.css set `[hidden] { display: none !important; }` so we also need the `!important` here to be able to override the default hidden behavior on the sphinx rendered scikit-learn.org. See: https://github.com/scikit-learn/scikit-learn/issues/21755 */display: inline-block !important;position: relative;}#sk-container-id-1 div.sk-text-repr-fallback {display: none;}</style><div id=\"sk-container-id-1\" class=\"sk-top-container\"><div class=\"sk-text-repr-fallback\"><pre>AutoML(algorithms=[&#x27;CatBoost&#x27;, &#x27;Xgboost&#x27;, &#x27;LightGBM&#x27;], eval_metric=&#x27;mae&#x27;,\n",
       "       explain_level=2, ml_task=&#x27;regression&#x27;, mode=&#x27;Compete&#x27;, random_state=42,\n",
       "       results_path=&#x27;../Model/AutoML_mae_merged_data/&#x27;, total_time_limit=43200)</pre><b>In a Jupyter environment, please rerun this cell to show the HTML representation or trust the notebook. <br />On GitHub, the HTML representation is unable to render, please try loading this page with nbviewer.org.</b></div><div class=\"sk-container\" hidden><div class=\"sk-item\"><div class=\"sk-estimator sk-toggleable\"><input class=\"sk-toggleable__control sk-hidden--visually\" id=\"sk-estimator-id-1\" type=\"checkbox\" checked><label for=\"sk-estimator-id-1\" class=\"sk-toggleable__label sk-toggleable__label-arrow\">AutoML</label><div class=\"sk-toggleable__content\"><pre>AutoML(algorithms=[&#x27;CatBoost&#x27;, &#x27;Xgboost&#x27;, &#x27;LightGBM&#x27;], eval_metric=&#x27;mae&#x27;,\n",
       "       explain_level=2, ml_task=&#x27;regression&#x27;, mode=&#x27;Compete&#x27;, random_state=42,\n",
       "       results_path=&#x27;../Model/AutoML_mae_merged_data/&#x27;, total_time_limit=43200)</pre></div></div></div></div></div>"
      ],
      "text/plain": [
       "AutoML(algorithms=['CatBoost', 'Xgboost', 'LightGBM'], eval_metric='mae',\n",
       "       explain_level=2, ml_task='regression', mode='Compete', random_state=42,\n",
       "       results_path='../Model/AutoML_mae_merged_data/', total_time_limit=43200)"
      ]
     },
     "execution_count": 23,
     "metadata": {},
     "output_type": "execute_result"
    }
   ],
   "source": [
    "# fitting\n",
    "automl.fit(x_train, y_train)"
   ]
  },
  {
   "cell_type": "code",
   "execution_count": 24,
   "metadata": {},
   "outputs": [],
   "source": [
    "preds = automl.predict(test_merge7)"
   ]
  },
  {
   "cell_type": "code",
   "execution_count": 25,
   "metadata": {},
   "outputs": [],
   "source": [
    "# submission 만들기\n",
    "sample_submission = pd.read_csv('../Data/sample_submission.csv')\n",
    "baseline_submission = sample_submission.copy()\n",
    "baseline_submission['ECLO'] = preds\n",
    "baseline_submission.to_csv('../Data/AutoML_mae_merged_data.csv', index = False, encoding = 'cp949')"
   ]
  },
  {
   "cell_type": "code",
   "execution_count": null,
   "metadata": {},
   "outputs": [],
   "source": []
  }
 ],
 "metadata": {
  "kernelspec": {
   "display_name": "ss",
   "language": "python",
   "name": "python3"
  },
  "language_info": {
   "codemirror_mode": {
    "name": "ipython",
    "version": 3
   },
   "file_extension": ".py",
   "mimetype": "text/x-python",
   "name": "python",
   "nbconvert_exporter": "python",
   "pygments_lexer": "ipython3",
   "version": "3.8.17"
  }
 },
 "nbformat": 4,
 "nbformat_minor": 2
}
