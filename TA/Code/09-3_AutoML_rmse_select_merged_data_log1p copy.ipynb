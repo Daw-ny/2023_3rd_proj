{
 "cells": [
  {
   "cell_type": "markdown",
   "metadata": {},
   "source": [
    "# Select Merged data AutoML\n",
    "\n",
    "## 1. setting modules"
   ]
  },
  {
   "cell_type": "code",
   "execution_count": 34,
   "metadata": {},
   "outputs": [],
   "source": [
    "# load modules\n",
    "import numpy as np\n",
    "import pandas as pd\n",
    "import geopandas as gpd\n",
    "import tqdm\n",
    "import random\n",
    "import os\n",
    "import fiona\n",
    "import sqlite3\n",
    "from shapely import wkb\n",
    "from pyproj import Proj, transform\n",
    "import csv\n",
    "import chardet\n",
    "\n",
    "# split\n",
    "from sklearn.model_selection import train_test_split\n",
    "\n",
    "# models \n",
    "from xgboost import XGBRegressor, DMatrix\n",
    "import xgboost as xgb\n",
    "from lightgbm import LGBMRegressor\n",
    "from catboost import CatBoostRegressor\n",
    "from supervised.automl import AutoML\n",
    "\n",
    "# tuning\n",
    "import optuna\n",
    "\n",
    "# vif\n",
    "from statsmodels.stats.outliers_influence import variance_inflation_factor\n",
    "\n",
    "# visualization\n",
    "from matplotlib import pyplot as plt\n",
    "import seaborn as sns\n",
    "import matplotlib as mpl\n",
    "import plotly\n",
    "from shapely.geometry import MultiPolygon\n",
    "from shapely.wkt import loads\n",
    "\n",
    "# metrics\n",
    "from sklearn.metrics import mean_squared_log_error\n",
    "\n",
    "# 경고 무시\n",
    "import warnings\n",
    "warnings.filterwarnings('ignore')\n",
    "\n",
    "# test\n",
    "import scipy.stats as stats\n",
    "from statsmodels.stats.anova import anova_lm\n",
    "from statsmodels.formula.api import ols\n",
    "from statsmodels.stats.multicomp import pairwise_tukeyhsd\n",
    "from statsmodels.tsa.seasonal import seasonal_decompose\n",
    "\n",
    "%matplotlib inline"
   ]
  },
  {
   "cell_type": "code",
   "execution_count": 35,
   "metadata": {},
   "outputs": [],
   "source": [
    "plt.rcParams['font.family'] = 'NanumSquare'\n",
    "plt.rcParams['font.size'] = 10"
   ]
  },
  {
   "cell_type": "code",
   "execution_count": 36,
   "metadata": {},
   "outputs": [],
   "source": [
    "# load pd data\n",
    "cross = pd.read_csv('../Data/cross100_address.csv', encoding='cp949')\n",
    "park_cctv = pd.read_csv('../Data/bigdatamart/주차단속카메라정보.csv', encoding='cp949')\n",
    "rest = pd.read_csv('../Data/bigdatamart/소상공인시장진흥공단_상가(상권)정보_대구_202109.csv')\n",
    "corner = pd.read_csv('../Data/bigdatamart/먹거리골목업소정보.csv', encoding = 'cp949')\n",
    "nadel = pd.read_csv('../Data/bigdatamart/소상공인시장진흥공단_전국 나들가게 현황(CSV)_20210512.csv', encoding = 'cp949')\n",
    "baek = pd.read_csv('../Data/bigdatamart/소상공인시장진흥공단_전국 백년가게 현황_20220713.csv', encoding='cp949')\n",
    "train = pd.read_csv('../Data/train_4.csv', encoding='cp949')\n",
    "test = pd.read_csv('../Data/test_4.csv', encoding='cp949')\n",
    "m4 = pd.read_csv('../Data/bigdatamart/merge_3_data_by_dongga.csv', encoding='cp949')\n",
    "train_merge = pd.read_csv('../Data/train_merged_with_parking.csv', encoding='cp949')\n",
    "test_merge = pd.read_csv('../Data/test_merged_with_parking.csv', encoding='cp949')"
   ]
  },
  {
   "cell_type": "code",
   "execution_count": 37,
   "metadata": {},
   "outputs": [],
   "source": [
    "# random seed 고정하기\n",
    "def seed_everything(seed):\n",
    "    random.seed(seed)\n",
    "    os.environ['PYTHONHASHSEED'] = str(seed)\n",
    "    np.random.seed(seed)\n",
    "\n",
    "seed_everything(42) # Seed 고정"
   ]
  },
  {
   "cell_type": "code",
   "execution_count": 38,
   "metadata": {},
   "outputs": [],
   "source": [
    "# train, test 추가변수 생성 완료\n",
    "train_merge[train.columns[~train.columns.isin(train_merge.columns)]] = train[train.columns[~train.columns.isin(train_merge.columns)]]\n",
    "test_merge[test.columns[~test.columns.isin(test_merge.columns)]] = test[test.columns[~test.columns.isin(test_merge.columns)]]"
   ]
  },
  {
   "cell_type": "code",
   "execution_count": 39,
   "metadata": {},
   "outputs": [],
   "source": [
    "# 미리 저장하기\n",
    "#train_merge.to_csv('../Data/train_4.csv', index = False, encoding = 'cp949')\n",
    "#test_merge.to_csv('../Data/test_4.csv', index = False, encoding = 'cp949')"
   ]
  },
  {
   "cell_type": "markdown",
   "metadata": {},
   "source": [
    "## 2. Preprocessing"
   ]
  },
  {
   "cell_type": "code",
   "execution_count": 40,
   "metadata": {},
   "outputs": [],
   "source": [
    "# 요일: 주말과 평균으로 나눔\n",
    "train_merge['주말'] = np.where(train_merge['요일'].isin(['토요일', '일요일']), 1, 0)\n",
    "test_merge['주말'] = np.where(test_merge['요일'].isin(['토요일', '일요일']), 1, 0)"
   ]
  },
  {
   "cell_type": "code",
   "execution_count": 41,
   "metadata": {},
   "outputs": [],
   "source": [
    "# 사고 시간\n",
    "train_merge['피크타임'] = np.where(train_merge['시간'] > 6, 0, 1)\n",
    "test_merge['피크타임'] = np.where(test_merge['시간'] > 6, 0, 1)"
   ]
  },
  {
   "cell_type": "code",
   "execution_count": 42,
   "metadata": {},
   "outputs": [],
   "source": [
    "# 기상상태\n",
    "train_merge['맑음'] = np.where(train_merge['기상상태'] == '맑음', 1, 0)\n",
    "test_merge['맑음'] = np.where(test_merge['기상상태'] == '맑음', 1, 0)"
   ]
  },
  {
   "cell_type": "code",
   "execution_count": 43,
   "metadata": {},
   "outputs": [],
   "source": [
    "# 교차로\n",
    "train_merge['도로'] = np.where(train_merge['도로형태1'].isin(['단일로', '교차로']), train_merge['도로형태1'], '기타')\n",
    "test_merge['도로'] = np.where(test_merge['도로형태1'].isin(['단일로', '교차로']), test_merge['도로형태1'], '기타')"
   ]
  },
  {
   "cell_type": "code",
   "execution_count": 44,
   "metadata": {},
   "outputs": [],
   "source": [
    "# 노면상태\n",
    "train_merge['건조'] = np.where(train_merge['노면상태'] == '건조', 1, 0)\n",
    "test_merge['건조'] = np.where(test_merge['노면상태'] == '건조', 1, 0)"
   ]
  },
  {
   "cell_type": "code",
   "execution_count": 45,
   "metadata": {},
   "outputs": [],
   "source": [
    "# 사고유형\n",
    "train_merge['차대차'] = np.where(train_merge['사고유형'] == '차대차', 1, 0)\n",
    "test_merge['차대차'] = np.where(test_merge['사고유형'] == '차대차', 1, 0)"
   ]
  },
  {
   "cell_type": "code",
   "execution_count": 46,
   "metadata": {},
   "outputs": [],
   "source": [
    "# test에 없는 train 변수 중 ECLO를 제외하고 삭제하자\n",
    "train_merge2 = train_merge[train_merge.columns[train_merge.columns.isin(test_merge.columns)]]\n",
    "train_merge2['ECLO'] = train_merge['ECLO']"
   ]
  },
  {
   "cell_type": "markdown",
   "metadata": {},
   "source": [
    "### 기존 계획했던 변수 변환은 끝났고 다음 변수 선택 및 변환을 적용하자"
   ]
  },
  {
   "cell_type": "code",
   "execution_count": 47,
   "metadata": {},
   "outputs": [],
   "source": [
    "# 사망자수 컬럼 제외\n",
    "train_merge3 = train_merge2[train_merge2.columns[~train_merge2.columns.str.contains('사망자수')]]\n",
    "test_merge3 = test_merge[test_merge.columns[~test_merge.columns.str.contains('사망자수')]]"
   ]
  },
  {
   "cell_type": "code",
   "execution_count": 48,
   "metadata": {},
   "outputs": [],
   "source": [
    "# 부상자수 컬럼 제외\n",
    "train_merge4 = train_merge3[train_merge3.columns[~train_merge3.columns.str.contains('부상자수')]]\n",
    "test_merge4 = test_merge3[test_merge3.columns[~test_merge3.columns.str.contains('부상자수')]]"
   ]
  },
  {
   "cell_type": "code",
   "execution_count": 49,
   "metadata": {},
   "outputs": [],
   "source": [
    "# 경상자수 컬럼 제외\n",
    "train_merge5 = train_merge4[train_merge4.columns[~train_merge4.columns.str.contains('경상자수')]]\n",
    "test_merge5 = test_merge4[test_merge4.columns[~test_merge4.columns.str.contains('경상자수')]]"
   ]
  },
  {
   "cell_type": "code",
   "execution_count": 50,
   "metadata": {},
   "outputs": [],
   "source": [
    "# 중상자수 컬럼 제외\n",
    "train_merge6 = train_merge5[train_merge5.columns[~train_merge5.columns.str.contains('중상자수')]]\n",
    "test_merge6 = test_merge5[test_merge5.columns[~test_merge5.columns.str.contains('중상자수')]]"
   ]
  },
  {
   "cell_type": "code",
   "execution_count": 51,
   "metadata": {},
   "outputs": [],
   "source": [
    "# 필요없는 변수 제외\n",
    "train_merge7 = train_merge6.drop(['ID', '요일', '기상상태', '노면상태', '사고유형', '자전거사고지역수', '음주사고지역수', '결빙사고지역수',\n",
    "                                  '연', '월', '일', '시간', 'sin_hour', 'cos_hour', '이륜차사고지역수',\n",
    "                                  '도시', '구', '동', '도로형태1', '도로형태2', '보행자사고지역수',\n",
    "                                  '보행노인사고사고건수', 'oldman_ECLO', '보행노인사고지역수', '맛집개수',\n",
    "                                  '보행어린이사고사고건수', 'child_ECLO', '보행어린이사고지역수', '정원', '펌프', '탱크', '고가굴절', '화학',\n",
    "                                  '구조', '구급', '화물차지역수', '소상공인상권정보_개수', '먹거리골목업소정보_개수', '주차장CCTV개수',\n",
    "                                  '관광/여가/오락', '부동산', '생활서비스', '소매', '숙박', '스포츠', '음식', '학문/교육', '상권total',\n",
    "                                  '보행자무단횡단발생건수', 'jaywalking_ECLO', '보행자무단횡단지역수', 'parking_count', '유료주차', '무료주차',\n",
    "                                  '보행어린이사고사고건수', 'child_ECLO', '보행어린이사고지역수', '법규위반지역수',\n",
    "                                  '스쿨존내어린이사고사고건수', 'schoolzone_ECLO', '스쿨존내어린이사고지역수', '장 비(소방차량)계',\n",
    "                                  '연휴기간사고건수', 'tmzon_ECLO', '연휴기간지역수', '보호구역', '불법주정차', '기타', '안전센터', '구조대', '지역대',\n",
    "                                  '차량전용', '평지도로', 'cctv 설치개수', '주차장개수', '어린이보호구역개수', '노인요양시설_개수', '경로당현황_개수',\n",
    "                                  '도로형태', '시군구', '시', '군구', '동가', '사고일시'], axis = 1).fillna(0)\n",
    "\n",
    "test_merge7 = test_merge6.drop(['ID', '요일', '기상상태', '노면상태', '사고유형', '자전거사고지역수', '음주사고지역수', '결빙사고지역수',\n",
    "                                  '연', '월', '일', '시간', 'sin_hour', 'cos_hour', '이륜차사고지역수',\n",
    "                                  '도시', '구', '동', '도로형태1', '도로형태2', '보행자사고지역수',\n",
    "                                  '보행노인사고사고건수', 'oldman_ECLO', '보행노인사고지역수', '맛집개수',\n",
    "                                  '보행어린이사고사고건수', 'child_ECLO', '보행어린이사고지역수', '정원', '펌프', '탱크', '고가굴절', '화학',\n",
    "                                  '구조', '구급', '화물차지역수', '소상공인상권정보_개수', '먹거리골목업소정보_개수', '주차장CCTV개수',\n",
    "                                  '관광/여가/오락', '부동산', '생활서비스', '소매', '숙박', '스포츠', '음식', '학문/교육', '상권total',\n",
    "                                  '보행자무단횡단발생건수', 'jaywalking_ECLO', '보행자무단횡단지역수', 'parking_count', '유료주차', '무료주차',\n",
    "                                  '보행어린이사고사고건수', 'child_ECLO', '보행어린이사고지역수', '법규위반지역수',\n",
    "                                  '스쿨존내어린이사고사고건수', 'schoolzone_ECLO', '스쿨존내어린이사고지역수', '장 비(소방차량)계',\n",
    "                                  '연휴기간사고건수', 'tmzon_ECLO', '연휴기간지역수', '보호구역', '불법주정차', '기타', '안전센터', '구조대', '지역대',\n",
    "                                  '차량전용', '평지도로', 'cctv 설치개수', '주차장개수', '어린이보호구역개수', '노인요양시설_개수', '경로당현황_개수',\n",
    "                                  '도로형태', '시군구', '시', '군구', '동가', '사고일시', '주차단속카메라_개수'], axis = 1).fillna(0)"
   ]
  },
  {
   "cell_type": "code",
   "execution_count": 52,
   "metadata": {},
   "outputs": [
    {
     "data": {
      "text/plain": [
       "Index(['자전거사고사고건수', 'bicycle_ECLO', '음주사고사고건수', 'drunk_ECLO', '결빙사고사고건수',\n",
       "       'freezing_ECLO', '이륜차사고사고건수', 'motorcycle_ECLO', '보행자사고사고건수',\n",
       "       'pedstrians_ECLO', '법규위반사고건수', 'violt_ECLO', '중앙선침범', '신호위반', '화물차사고건수',\n",
       "       'truck_ECLO', '노상주차면수', '횡단보도개수', '주말', '피크타임', '맑음', '도로', '건조', '차대차',\n",
       "       'ECLO'],\n",
       "      dtype='object')"
      ]
     },
     "execution_count": 52,
     "metadata": {},
     "output_type": "execute_result"
    }
   ],
   "source": [
    "train_merge7.columns"
   ]
  },
  {
   "cell_type": "code",
   "execution_count": 53,
   "metadata": {},
   "outputs": [],
   "source": [
    "# 타겟인코딩\n",
    "target_encoded=train_merge7.groupby('도로')['ECLO'].mean()\n",
    "train_merge7['도로']=train_merge7['도로'].map(target_encoded)\n",
    "test_merge7['도로']=test_merge7['도로'].map(target_encoded)"
   ]
  },
  {
   "cell_type": "markdown",
   "metadata": {},
   "source": [
    "## 3. Modeling"
   ]
  },
  {
   "cell_type": "code",
   "execution_count": 54,
   "metadata": {},
   "outputs": [],
   "source": [
    "# train test split\n",
    "x_train = train_merge7[train_merge7.columns.difference(['ECLO'])]\n",
    "y_train = np.log1p(train_merge7['ECLO'])"
   ]
  },
  {
   "cell_type": "code",
   "execution_count": 55,
   "metadata": {},
   "outputs": [],
   "source": [
    "# automl modeling\n",
    "automl = AutoML(mode=\"Compete\",\n",
    "                algorithms=[\"CatBoost\",\n",
    "                            \"Xgboost\",\n",
    "                            \"LightGBM\",\n",
    "                            ], \n",
    "                ml_task = \"regression\",\n",
    "                eval_metric = 'rmse',\n",
    "                random_state = 42,\n",
    "                n_jobs = -1,\n",
    "                total_time_limit=43200,\n",
    "                results_path = '../Model/AutoML_mae_select_merged_data_log1p/',\n",
    "                explain_level=2\n",
    "               )"
   ]
  },
  {
   "cell_type": "code",
   "execution_count": 56,
   "metadata": {},
   "outputs": [
    {
     "name": "stdout",
     "output_type": "stream",
     "text": [
      "AutoML directory: ../Model/AutoML_mae_select_merged_data_log1p/\n",
      "The task is regression with evaluation metric rmse\n",
      "AutoML will use algorithms: ['CatBoost', 'Xgboost', 'LightGBM']\n",
      "AutoML will stack models\n",
      "AutoML will ensemble available models\n",
      "AutoML steps: ['adjust_validation', 'simple_algorithms', 'default_algorithms', 'not_so_random', 'golden_features', 'kmeans_features', 'insert_random_feature', 'features_selection', 'hill_climbing_1', 'hill_climbing_2', 'boost_on_errors', 'ensemble', 'stack', 'ensemble_stacked']\n",
      "* Step adjust_validation will try to check up to 1 model\n",
      "1_DecisionTree rmse 0.44564 trained in 26.16 seconds\n",
      "Adjust validation. Remove: 1_DecisionTree\n",
      "Validation strategy: 10-fold CV Shuffle\n",
      "Skip simple_algorithms because no parameters were generated.\n",
      "* Step default_algorithms will try to check up to 3 models\n",
      "1_Default_LightGBM rmse 0.446132 trained in 85.05 seconds\n",
      "2_Default_Xgboost rmse 0.446055 trained in 68.42 seconds\n",
      "3_Default_CatBoost rmse 0.445653 trained in 18.6 seconds\n",
      "* Step not_so_random will try to check up to 27 models\n",
      "13_LightGBM rmse 0.446148 trained in 66.7 seconds\n",
      "4_Xgboost rmse 0.446064 trained in 72.03 seconds\n",
      "22_CatBoost rmse 0.445608 trained in 24.44 seconds\n",
      "14_LightGBM rmse 0.445719 trained in 66.6 seconds\n",
      "5_Xgboost rmse 0.445928 trained in 70.15 seconds\n",
      "23_CatBoost rmse 0.445657 trained in 24.42 seconds\n",
      "15_LightGBM rmse 0.445881 trained in 69.38 seconds\n",
      "6_Xgboost rmse 0.446601 trained in 94.71 seconds\n",
      "24_CatBoost rmse 0.500497 trained in 82.62 seconds\n",
      "16_LightGBM rmse 0.446363 trained in 77.69 seconds\n",
      "7_Xgboost rmse 0.445549 trained in 75.31 seconds\n",
      "25_CatBoost rmse 0.508789 trained in 48.96 seconds\n",
      "17_LightGBM rmse 0.446485 trained in 88.5 seconds\n",
      "8_Xgboost rmse 0.445699 trained in 92.99 seconds\n",
      "26_CatBoost rmse 0.445537 trained in 50.34 seconds\n",
      "18_LightGBM rmse 0.446218 trained in 78.65 seconds\n",
      "9_Xgboost rmse 0.445721 trained in 89.74 seconds\n",
      "27_CatBoost rmse 0.504423 trained in 65.43 seconds\n",
      "19_LightGBM rmse 0.446528 trained in 83.65 seconds\n",
      "10_Xgboost rmse 0.44603 trained in 89.23 seconds\n",
      "28_CatBoost rmse 0.501014 trained in 56.36 seconds\n",
      "20_LightGBM rmse 0.446373 trained in 86.97 seconds\n",
      "11_Xgboost rmse 0.446372 trained in 101.74 seconds\n",
      "29_CatBoost rmse 0.445611 trained in 50.02 seconds\n",
      "21_LightGBM rmse 0.446209 trained in 86.97 seconds\n",
      "12_Xgboost rmse 0.445869 trained in 103.05 seconds\n",
      "30_CatBoost rmse 0.502773 trained in 113.92 seconds\n",
      "* Step golden_features will try to check up to 3 models\n",
      "None 10\n",
      "Add Golden Feature: 피크타임_sum_차대차\n",
      "Add Golden Feature: 차대차_multiply_도로\n",
      "Add Golden Feature: 차대차_ratio_도로\n",
      "Add Golden Feature: 도로_ratio_차대차\n",
      "Add Golden Feature: 차대차_sum_주말\n",
      "Add Golden Feature: 차대차_sum_도로\n",
      "Add Golden Feature: 도로_diff_차대차\n",
      "Add Golden Feature: 건조_diff_차대차\n",
      "Add Golden Feature: 맑음_diff_차대차\n",
      "Add Golden Feature: 결빙사고사고건수_diff_차대차\n",
      "Created 10 Golden Features in 1.27 seconds.\n",
      "26_CatBoost_GoldenFeatures rmse 0.445538 trained in 71.69 seconds\n",
      "7_Xgboost_GoldenFeatures rmse 0.445537 trained in 104.48 seconds\n",
      "22_CatBoost_GoldenFeatures rmse 0.44565 trained in 59.19 seconds\n",
      "* Step kmeans_features will try to check up to 3 models\n",
      "26_CatBoost_KMeansFeatures rmse 0.445691 trained in 100.53 seconds\n",
      "7_Xgboost_KMeansFeatures rmse 0.445734 trained in 126.71 seconds\n",
      "22_CatBoost_KMeansFeatures rmse 0.445748 trained in 82.49 seconds\n",
      "* Step insert_random_feature will try to check up to 1 model\n",
      "26_CatBoost_RandomFeature rmse 0.445635 trained in 71.76 seconds\n",
      "Drop features ['이륜차사고사고건수', '중앙선침범', '맑음', '횡단보도개수', '노상주차면수', 'pedstrians_ECLO', '결빙사고사고건수', 'freezing_ECLO', 'random_feature']\n",
      "* Step features_selection will try to check up to 3 models\n",
      "26_CatBoost_SelectedFeatures rmse 0.445507 trained in 67.83 seconds\n",
      "7_Xgboost_GoldenFeatures_SelectedFeatures rmse 0.445556 trained in 104.51 seconds\n",
      "14_LightGBM_SelectedFeatures rmse 0.44564 trained in 92.84 seconds\n",
      "* Step hill_climbing_1 will try to check up to 16 models\n",
      "31_CatBoost_SelectedFeatures rmse 0.445471 trained in 72.35 seconds\n",
      "32_CatBoost_SelectedFeatures rmse 0.445484 trained in 71.59 seconds\n",
      "33_CatBoost rmse 0.445549 trained in 77.5 seconds\n",
      "34_CatBoost rmse 0.445564 trained in 73.3 seconds\n",
      "35_Xgboost_GoldenFeatures rmse 0.445587 trained in 113.36 seconds\n",
      "36_Xgboost_GoldenFeatures rmse 0.445592 trained in 116.58 seconds\n",
      "37_CatBoost_GoldenFeatures rmse 0.44554 trained in 85.45 seconds\n",
      "38_CatBoost_GoldenFeatures rmse 0.445558 trained in 82.64 seconds\n",
      "39_Xgboost rmse 0.445668 trained in 112.6 seconds\n",
      "40_Xgboost rmse 0.445604 trained in 115.44 seconds\n",
      "41_Xgboost_GoldenFeatures_SelectedFeatures rmse 0.445572 trained in 116.51 seconds\n",
      "42_Xgboost_GoldenFeatures_SelectedFeatures rmse 0.445492 trained in 118.91 seconds\n",
      "43_LightGBM_SelectedFeatures rmse 0.445624 trained in 108.24 seconds\n",
      "44_LightGBM rmse 0.445747 trained in 116.22 seconds\n",
      "45_LightGBM rmse 0.445851 trained in 123.24 seconds\n",
      "46_LightGBM rmse 0.445836 trained in 133.46 seconds\n",
      "* Step hill_climbing_2 will try to check up to 5 models\n",
      "47_CatBoost_SelectedFeatures rmse 0.445552 trained in 85.54 seconds\n",
      "48_CatBoost_SelectedFeatures rmse 0.445493 trained in 85.93 seconds\n",
      "49_Xgboost_GoldenFeatures_SelectedFeatures rmse 0.445491 trained in 131.48 seconds\n",
      "50_CatBoost_SelectedFeatures rmse 0.445477 trained in 88.25 seconds\n",
      "51_LightGBM_SelectedFeatures rmse 0.445644 trained in 120.76 seconds\n",
      "* Step boost_on_errors will try to check up to 1 model\n",
      "31_CatBoost_SelectedFeatures_BoostOnErrors rmse 0.445634 trained in 96.61 seconds\n",
      "* Step ensemble will try to check up to 1 model\n",
      "Ensemble rmse 0.445329 trained in 15.98 seconds\n",
      "* Step stack will try to check up to 30 models\n",
      "31_CatBoost_SelectedFeatures_Stacked rmse 0.445343 trained in 116.51 seconds\n",
      "49_Xgboost_GoldenFeatures_SelectedFeatures_Stacked rmse 0.445414 trained in 151.76 seconds\n",
      "43_LightGBM_SelectedFeatures_Stacked rmse 0.445488 trained in 145.26 seconds\n",
      "50_CatBoost_SelectedFeatures_Stacked rmse 0.445327 trained in 115.98 seconds\n",
      "42_Xgboost_GoldenFeatures_SelectedFeatures_Stacked rmse 0.445275 trained in 157.19 seconds\n",
      "14_LightGBM_SelectedFeatures_Stacked rmse 0.445301 trained in 149.4 seconds\n",
      "32_CatBoost_SelectedFeatures_Stacked rmse 0.44525 trained in 130.21 seconds\n",
      "7_Xgboost_GoldenFeatures_Stacked rmse 0.445388 trained in 162.22 seconds\n",
      "51_LightGBM_SelectedFeatures_Stacked rmse 0.445339 trained in 157.83 seconds\n",
      "48_CatBoost_SelectedFeatures_Stacked rmse 0.445199 trained in 126.98 seconds\n",
      "7_Xgboost_Stacked rmse 0.445394 trained in 162.28 seconds\n",
      "14_LightGBM_Stacked rmse 0.445504 trained in 153.97 seconds\n",
      "26_CatBoost_SelectedFeatures_Stacked rmse 0.445197 trained in 142.42 seconds\n",
      "7_Xgboost_GoldenFeatures_SelectedFeatures_Stacked rmse 0.445414 trained in 165.12 seconds\n",
      "44_LightGBM_Stacked rmse 0.445384 trained in 160.97 seconds\n",
      "26_CatBoost_Stacked rmse 0.445322 trained in 150.74 seconds\n",
      "41_Xgboost_GoldenFeatures_SelectedFeatures_Stacked rmse 0.445278 trained in 177.49 seconds\n",
      "46_LightGBM_Stacked rmse 0.445402 trained in 178.98 seconds\n",
      "26_CatBoost_GoldenFeatures_Stacked rmse 0.445199 trained in 157.77 seconds\n",
      "35_Xgboost_GoldenFeatures_Stacked rmse 0.445337 trained in 184.35 seconds\n",
      "45_LightGBM_Stacked rmse 0.445344 trained in 184.43 seconds\n",
      "37_CatBoost_GoldenFeatures_Stacked rmse 0.44538 trained in 151.21 seconds\n",
      "36_Xgboost_GoldenFeatures_Stacked rmse 0.445307 trained in 184.07 seconds\n",
      "15_LightGBM_Stacked rmse 0.445416 trained in 177.6 seconds\n",
      "33_CatBoost_Stacked rmse 0.445315 trained in 152.95 seconds\n",
      "40_Xgboost_Stacked rmse 0.445389 trained in 181.13 seconds\n",
      "1_Default_LightGBM_Stacked rmse 0.445547 trained in 187.43 seconds\n",
      "47_CatBoost_SelectedFeatures_Stacked rmse 0.44527 trained in 147.72 seconds\n",
      "39_Xgboost_Stacked rmse 0.445483 trained in 195.5 seconds\n",
      "13_LightGBM_Stacked rmse 0.445667 trained in 195.18 seconds\n",
      "* Step ensemble_stacked will try to check up to 1 model\n",
      "Ensemble_Stacked rmse 0.444934 trained in 44.81 seconds\n",
      "AutoML fit time: 10600.6 seconds\n",
      "AutoML best model: Ensemble_Stacked\n"
     ]
    },
    {
     "data": {
      "text/html": [
       "<style>#sk-container-id-1 {color: black;}#sk-container-id-1 pre{padding: 0;}#sk-container-id-1 div.sk-toggleable {background-color: white;}#sk-container-id-1 label.sk-toggleable__label {cursor: pointer;display: block;width: 100%;margin-bottom: 0;padding: 0.3em;box-sizing: border-box;text-align: center;}#sk-container-id-1 label.sk-toggleable__label-arrow:before {content: \"▸\";float: left;margin-right: 0.25em;color: #696969;}#sk-container-id-1 label.sk-toggleable__label-arrow:hover:before {color: black;}#sk-container-id-1 div.sk-estimator:hover label.sk-toggleable__label-arrow:before {color: black;}#sk-container-id-1 div.sk-toggleable__content {max-height: 0;max-width: 0;overflow: hidden;text-align: left;background-color: #f0f8ff;}#sk-container-id-1 div.sk-toggleable__content pre {margin: 0.2em;color: black;border-radius: 0.25em;background-color: #f0f8ff;}#sk-container-id-1 input.sk-toggleable__control:checked~div.sk-toggleable__content {max-height: 200px;max-width: 100%;overflow: auto;}#sk-container-id-1 input.sk-toggleable__control:checked~label.sk-toggleable__label-arrow:before {content: \"▾\";}#sk-container-id-1 div.sk-estimator input.sk-toggleable__control:checked~label.sk-toggleable__label {background-color: #d4ebff;}#sk-container-id-1 div.sk-label input.sk-toggleable__control:checked~label.sk-toggleable__label {background-color: #d4ebff;}#sk-container-id-1 input.sk-hidden--visually {border: 0;clip: rect(1px 1px 1px 1px);clip: rect(1px, 1px, 1px, 1px);height: 1px;margin: -1px;overflow: hidden;padding: 0;position: absolute;width: 1px;}#sk-container-id-1 div.sk-estimator {font-family: monospace;background-color: #f0f8ff;border: 1px dotted black;border-radius: 0.25em;box-sizing: border-box;margin-bottom: 0.5em;}#sk-container-id-1 div.sk-estimator:hover {background-color: #d4ebff;}#sk-container-id-1 div.sk-parallel-item::after {content: \"\";width: 100%;border-bottom: 1px solid gray;flex-grow: 1;}#sk-container-id-1 div.sk-label:hover label.sk-toggleable__label {background-color: #d4ebff;}#sk-container-id-1 div.sk-serial::before {content: \"\";position: absolute;border-left: 1px solid gray;box-sizing: border-box;top: 0;bottom: 0;left: 50%;z-index: 0;}#sk-container-id-1 div.sk-serial {display: flex;flex-direction: column;align-items: center;background-color: white;padding-right: 0.2em;padding-left: 0.2em;position: relative;}#sk-container-id-1 div.sk-item {position: relative;z-index: 1;}#sk-container-id-1 div.sk-parallel {display: flex;align-items: stretch;justify-content: center;background-color: white;position: relative;}#sk-container-id-1 div.sk-item::before, #sk-container-id-1 div.sk-parallel-item::before {content: \"\";position: absolute;border-left: 1px solid gray;box-sizing: border-box;top: 0;bottom: 0;left: 50%;z-index: -1;}#sk-container-id-1 div.sk-parallel-item {display: flex;flex-direction: column;z-index: 1;position: relative;background-color: white;}#sk-container-id-1 div.sk-parallel-item:first-child::after {align-self: flex-end;width: 50%;}#sk-container-id-1 div.sk-parallel-item:last-child::after {align-self: flex-start;width: 50%;}#sk-container-id-1 div.sk-parallel-item:only-child::after {width: 0;}#sk-container-id-1 div.sk-dashed-wrapped {border: 1px dashed gray;margin: 0 0.4em 0.5em 0.4em;box-sizing: border-box;padding-bottom: 0.4em;background-color: white;}#sk-container-id-1 div.sk-label label {font-family: monospace;font-weight: bold;display: inline-block;line-height: 1.2em;}#sk-container-id-1 div.sk-label-container {text-align: center;}#sk-container-id-1 div.sk-container {/* jupyter's `normalize.less` sets `[hidden] { display: none; }` but bootstrap.min.css set `[hidden] { display: none !important; }` so we also need the `!important` here to be able to override the default hidden behavior on the sphinx rendered scikit-learn.org. See: https://github.com/scikit-learn/scikit-learn/issues/21755 */display: inline-block !important;position: relative;}#sk-container-id-1 div.sk-text-repr-fallback {display: none;}</style><div id=\"sk-container-id-1\" class=\"sk-top-container\"><div class=\"sk-text-repr-fallback\"><pre>AutoML(algorithms=[&#x27;CatBoost&#x27;, &#x27;Xgboost&#x27;, &#x27;LightGBM&#x27;], eval_metric=&#x27;rmse&#x27;,\n",
       "       explain_level=2, ml_task=&#x27;regression&#x27;, mode=&#x27;Compete&#x27;, random_state=42,\n",
       "       results_path=&#x27;../Model/AutoML_mae_select_merged_data_log1p/&#x27;,\n",
       "       total_time_limit=43200)</pre><b>In a Jupyter environment, please rerun this cell to show the HTML representation or trust the notebook. <br />On GitHub, the HTML representation is unable to render, please try loading this page with nbviewer.org.</b></div><div class=\"sk-container\" hidden><div class=\"sk-item\"><div class=\"sk-estimator sk-toggleable\"><input class=\"sk-toggleable__control sk-hidden--visually\" id=\"sk-estimator-id-1\" type=\"checkbox\" checked><label for=\"sk-estimator-id-1\" class=\"sk-toggleable__label sk-toggleable__label-arrow\">AutoML</label><div class=\"sk-toggleable__content\"><pre>AutoML(algorithms=[&#x27;CatBoost&#x27;, &#x27;Xgboost&#x27;, &#x27;LightGBM&#x27;], eval_metric=&#x27;rmse&#x27;,\n",
       "       explain_level=2, ml_task=&#x27;regression&#x27;, mode=&#x27;Compete&#x27;, random_state=42,\n",
       "       results_path=&#x27;../Model/AutoML_mae_select_merged_data_log1p/&#x27;,\n",
       "       total_time_limit=43200)</pre></div></div></div></div></div>"
      ],
      "text/plain": [
       "AutoML(algorithms=['CatBoost', 'Xgboost', 'LightGBM'], eval_metric='rmse',\n",
       "       explain_level=2, ml_task='regression', mode='Compete', random_state=42,\n",
       "       results_path='../Model/AutoML_mae_select_merged_data_log1p/',\n",
       "       total_time_limit=43200)"
      ]
     },
     "execution_count": 56,
     "metadata": {},
     "output_type": "execute_result"
    }
   ],
   "source": [
    "# fitting\n",
    "automl.fit(x_train, y_train)"
   ]
  },
  {
   "cell_type": "code",
   "execution_count": 57,
   "metadata": {},
   "outputs": [],
   "source": [
    "preds = automl.predict(test_merge7)"
   ]
  },
  {
   "cell_type": "code",
   "execution_count": 58,
   "metadata": {},
   "outputs": [],
   "source": [
    "# submission 만들기\n",
    "sample_submission = pd.read_csv('../Data/sample_submission.csv')\n",
    "baseline_submission = sample_submission.copy()\n",
    "baseline_submission['ECLO'] = np.expm1(preds)\n",
    "baseline_submission.to_csv('../Data/AutoML_rmse_select_merged_data_log1p.csv', index = False, encoding = 'cp949')"
   ]
  }
 ],
 "metadata": {
  "kernelspec": {
   "display_name": "ss",
   "language": "python",
   "name": "python3"
  },
  "language_info": {
   "codemirror_mode": {
    "name": "ipython",
    "version": 3
   },
   "file_extension": ".py",
   "mimetype": "text/x-python",
   "name": "python",
   "nbconvert_exporter": "python",
   "pygments_lexer": "ipython3",
   "version": "3.8.17"
  }
 },
 "nbformat": 4,
 "nbformat_minor": 2
}
